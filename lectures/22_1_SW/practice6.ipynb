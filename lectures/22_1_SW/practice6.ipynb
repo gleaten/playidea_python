{
 "cells": [
  {
   "cell_type": "code",
   "execution_count": 2,
   "metadata": {},
   "outputs": [
    {
     "name": "stdout",
     "output_type": "stream",
     "text": [
      "밥먹자\n",
      "그래\n"
     ]
    }
   ],
   "source": [
    "is_hungry = True\n",
    "\n",
    "if is_hungry: \n",
    "    print(\"밥먹자\")\n",
    "else: \n",
    "    print(\"놀자\")\n",
    "    \n",
    "print(\"그래\")"
   ]
  },
  {
   "cell_type": "code",
   "execution_count": 3,
   "metadata": {},
   "outputs": [
    {
     "name": "stdout",
     "output_type": "stream",
     "text": [
      "양수\n",
      "끝\n"
     ]
    }
   ],
   "source": [
    "a = 1 \n",
    "\n",
    "if a>0:\n",
    "    print(\"양수\")\n",
    "elif a==0: \n",
    "    print(\"0\")\n",
    "else: \n",
    "    print(\"음수\")\n",
    "    \n",
    "print(\"끝\")\n"
   ]
  },
  {
   "cell_type": "code",
   "execution_count": 4,
   "metadata": {},
   "outputs": [
    {
     "name": "stdout",
     "output_type": "stream",
     "text": [
      "failure\n"
     ]
    }
   ],
   "source": [
    "score = 50 \n",
    "if score>=60: \n",
    "    msg = \"success\"\n",
    "else: \n",
    "    msg = \"failure\"\n",
    "print(msg)"
   ]
  },
  {
   "cell_type": "code",
   "execution_count": 5,
   "metadata": {},
   "outputs": [
    {
     "name": "stdout",
     "output_type": "stream",
     "text": [
      "밥먹자\n"
     ]
    }
   ],
   "source": [
    "money = 5000 \n",
    "mother_card = True \n",
    "\n",
    "if money >= 5000 or mother_card==True: \n",
    "    print(\"밥먹자\")\n",
    "elif mother_card!=True and money<5000: \n",
    "    print(\"학관 ㄲ\")\n",
    "else: \n",
    "    print(\"오늘은 굶자\")"
   ]
  },
  {
   "cell_type": "code",
   "execution_count": 7,
   "metadata": {},
   "outputs": [
    {
     "name": "stdout",
     "output_type": "stream",
     "text": [
      "A\n"
     ]
    }
   ],
   "source": [
    "score = 80\n",
    "\n",
    "if score>=80: \n",
    "    print(\"A\")\n",
    "elif score>=70: \n",
    "    print(\"B\")\n",
    "elif score>=60: \n",
    "    print(\"C\")\n",
    "else: \n",
    "    print(\"F\")"
   ]
  },
  {
   "cell_type": "code",
   "execution_count": 16,
   "metadata": {},
   "outputs": [
    {
     "name": "stdout",
     "output_type": "stream",
     "text": [
      "네\n"
     ]
    }
   ],
   "source": [
    "x = \"1234\"\n",
    "# x = (\"1\",\"2\",\"3\",)\n",
    "# x = [\"1\",\"2\"]\n",
    "\n",
    "# x = {\"1\",\"3\"}\n",
    "# x = {\"1\":2,\"3\":199}\n",
    "\n",
    "if \"1\" in x:\n",
    "    print(\"네\")"
   ]
  },
  {
   "cell_type": "code",
   "execution_count": 19,
   "metadata": {},
   "outputs": [
    {
     "name": "stdout",
     "output_type": "stream",
     "text": [
      "199.99 의 타입은 <class 'float'>\n"
     ]
    }
   ],
   "source": [
    "x = float(input(\"원하는 수를 입력하세요\"))\n",
    "\n",
    "print(f\"{x} 의 타입은 {type(x)}\")"
   ]
  },
  {
   "cell_type": "code",
   "execution_count": 21,
   "metadata": {},
   "outputs": [
    {
     "name": "stdout",
     "output_type": "stream",
     "text": [
      "무언가 들었다\n"
     ]
    }
   ],
   "source": [
    "my_bag = []\n",
    "my_bag += [\"집키\", \"지갑\"]\n",
    "\n",
    "if my_bag: \n",
    "    print(\"무언가 들었다\")"
   ]
  },
  {
   "cell_type": "code",
   "execution_count": 24,
   "metadata": {},
   "outputs": [
    {
     "name": "stdout",
     "output_type": "stream",
     "text": [
      "1\n",
      "2\n",
      "3\n",
      "4\n",
      "5\n",
      "[2, 3, 4, 5, 6]\n"
     ]
    }
   ],
   "source": [
    "x = [1,2,3,4,5] # \"\", (), {}, {}\n",
    "\n",
    "for ind, i in enumerate(x):\n",
    "    print(i)\n",
    "    x[ind] +=1\n",
    "    \n",
    "print(x)"
   ]
  },
  {
   "cell_type": "code",
   "execution_count": 29,
   "metadata": {},
   "outputs": [
    {
     "name": "stdout",
     "output_type": "stream",
     "text": [
      "2  7\n",
      "4  9\n"
     ]
    }
   ],
   "source": [
    "x1 = [1,2,3,4,5]\n",
    "x2 = [6,7,8,9,10]\n",
    "\n",
    "# for i,v in zip(x1,x2):\n",
    "#     print(f\"{i}  {v}\")\n",
    "\n",
    "for ind in range(1,len(x1),2):\n",
    "    i,v = x1[ind], x2[ind]\n",
    "    print(f\"{i}  {v}\")\n",
    "    "
   ]
  },
  {
   "cell_type": "code",
   "execution_count": 32,
   "metadata": {},
   "outputs": [
    {
     "data": {
      "text/plain": [
       "[1, 2, 3, 4, 5]"
      ]
     },
     "execution_count": 32,
     "metadata": {},
     "output_type": "execute_result"
    }
   ],
   "source": [
    "x1 = [1,2,3,4,5]\n",
    "# x1[0:len(x1):1]\n",
    "x1[0:len(x1):1]\n",
    "# x1[5]"
   ]
  },
  {
   "cell_type": "code",
   "execution_count": 33,
   "metadata": {},
   "outputs": [
    {
     "name": "stdout",
     "output_type": "stream",
     "text": [
      "1 2\n",
      "3 4\n",
      "5 6\n"
     ]
    }
   ],
   "source": [
    "a = [[1,2],[3,4],[5,6]]\n",
    "for (first,second) in a: \n",
    "    print(f\"{first} {second}\")"
   ]
  },
  {
   "cell_type": "code",
   "execution_count": 36,
   "metadata": {},
   "outputs": [
    {
     "name": "stdout",
     "output_type": "stream",
     "text": [
      "cm 35\n",
      "hj 32\n",
      "cm 35\n",
      "hj 32\n"
     ]
    }
   ],
   "source": [
    "ages = {\"cm\":35,\"hj\":32}\n",
    "\n",
    "for k in ages: \n",
    "    v = ages[k]\n",
    "    print(f\"{k} {v}\")\n",
    "    \n",
    "for k,v in ages.items(): \n",
    "    print(f\"{k} {v}\")"
   ]
  },
  {
   "cell_type": "code",
   "execution_count": 38,
   "metadata": {},
   "outputs": [
    {
     "name": "stdout",
     "output_type": "stream",
     "text": [
      "          *\n",
      "         ***\n",
      "        *****\n",
      "       *******\n",
      "      *********\n",
      "         ***\n",
      "         ***\n",
      "         ***\n",
      "         ***\n",
      "         ***\n"
     ]
    }
   ],
   "source": [
    "n = 10\n",
    "for i in range(n):\n",
    "    if i < n-5: \n",
    "        print(\" \" *(n-i) + \"*\"*(2*i+1))\n",
    "    else: \n",
    "        print(\" \" *(n-1) + \"*\"*3)"
   ]
  },
  {
   "cell_type": "code",
   "execution_count": 41,
   "metadata": {},
   "outputs": [
    {
     "name": "stdout",
     "output_type": "stream",
     "text": [
      "2 x 1  = 2\t3 x 1  = 3\t4 x 1  = 4\t5 x 1  = 5\t6 x 1  = 6\t7 x 1  = 7\t8 x 1  = 8\t9 x 1  = 9\t\n",
      "2 x 2  = 4\t3 x 2  = 6\t4 x 2  = 8\t5 x 2  = 10\t6 x 2  = 12\t7 x 2  = 14\t8 x 2  = 16\t9 x 2  = 18\t\n",
      "2 x 3  = 6\t3 x 3  = 9\t4 x 3  = 12\t5 x 3  = 15\t6 x 3  = 18\t7 x 3  = 21\t8 x 3  = 24\t9 x 3  = 27\t\n",
      "2 x 4  = 8\t3 x 4  = 12\t4 x 4  = 16\t5 x 4  = 20\t6 x 4  = 24\t7 x 4  = 28\t8 x 4  = 32\t9 x 4  = 36\t\n",
      "2 x 5  = 10\t3 x 5  = 15\t4 x 5  = 20\t5 x 5  = 25\t6 x 5  = 30\t7 x 5  = 35\t8 x 5  = 40\t9 x 5  = 45\t\n",
      "2 x 6  = 12\t3 x 6  = 18\t4 x 6  = 24\t5 x 6  = 30\t6 x 6  = 36\t7 x 6  = 42\t8 x 6  = 48\t9 x 6  = 54\t\n",
      "2 x 7  = 14\t3 x 7  = 21\t4 x 7  = 28\t5 x 7  = 35\t6 x 7  = 42\t7 x 7  = 49\t8 x 7  = 56\t9 x 7  = 63\t\n",
      "2 x 8  = 16\t3 x 8  = 24\t4 x 8  = 32\t5 x 8  = 40\t6 x 8  = 48\t7 x 8  = 56\t8 x 8  = 64\t9 x 8  = 72\t\n",
      "2 x 9  = 18\t3 x 9  = 27\t4 x 9  = 36\t5 x 9  = 45\t6 x 9  = 54\t7 x 9  = 63\t8 x 9  = 72\t9 x 9  = 81\t\n"
     ]
    }
   ],
   "source": [
    "for j in range(1,10):\n",
    "    for i in range(2,10):\n",
    "        print(f\"{i} x {j}  = {i*j}\", end=\"\\t\")\n",
    "    print()"
   ]
  },
  {
   "cell_type": "code",
   "execution_count": 45,
   "metadata": {},
   "outputs": [
    {
     "name": "stdout",
     "output_type": "stream",
     "text": [
      "1번분은 키가 작아서 안됨\n",
      "2번분은 탑승하셔도 됩니다. 현재 1명 탑승\n",
      "3번분은 탑승하셔도 됩니다. 현재 2명 탑승\n",
      "4번분은 키가 커서 안됨\n",
      "5번분은 탑승하셔도 됩니다. 현재 3명 탑승\n",
      "6번분은 키가 작아서 안됨\n",
      "7번분은 탑승하셔도 됩니다. 현재 4명 탑승\n",
      "8번분은 탑승하셔도 됩니다. 현재 5명 탑승\n",
      "5명 모두 찼음.\n",
      "5명 모두 찼음.\n"
     ]
    }
   ],
   "source": [
    "max_number = 5\n",
    "min_height = 150 \n",
    "max_height = 200 \n",
    "user_height_dict = {\"1번\":139, \"2번\":170, \"3번\": 178, \"4번\":205, \"5번\":168, \"6번\":149, \"7번\":150, \"8번\":166, \"9번\":180, \"10번\":200}\n",
    "\n",
    "curr_num = 0 \n",
    "for k,v in user_height_dict.items(): \n",
    "    if curr_num < max_number:\n",
    "        if min_height<=v<=max_height: \n",
    "            curr_num +=1\n",
    "            print(f\"{k}분은 탑승하셔도 됩니다. 현재 {curr_num}명 탑승\")\n",
    "        elif v>max_height: \n",
    "            print(f\"{k}분은 키가 커서 안됨\")\n",
    "        elif v<min_height: \n",
    "            print(f\"{k}분은 키가 작아서 안됨\")\n",
    "        else: \n",
    "            print(\"이 문장은 출력되어서는 안됨\")\n",
    "    else: \n",
    "        print(f\"{max_number}명 모두 찼음.\")\n"
   ]
  },
  {
   "cell_type": "code",
   "execution_count": 47,
   "metadata": {},
   "outputs": [
    {
     "name": "stdout",
     "output_type": "stream",
     "text": [
      "0의 값은 1\n",
      "1의 값은 2\n",
      "2의 값은 3\n",
      "3의 값은 4\n",
      "4의 값은 5\n",
      "5의 값은 6\n"
     ]
    }
   ],
   "source": [
    "x = [1,2,3,4,5,6]\n",
    "\n",
    "for ind,i in enumerate(x):\n",
    "    print(f\"{ind}의 값은 {i}\")\n"
   ]
  },
  {
   "cell_type": "code",
   "execution_count": 49,
   "metadata": {},
   "outputs": [
    {
     "name": "stdout",
     "output_type": "stream",
     "text": [
      "0의 값은 1 4\n",
      "1의 값은 2 2\n",
      "2의 값은 3 5\n",
      "3의 값은 4 6\n",
      "4의 값은 5 2\n",
      "5의 값은 6 3\n"
     ]
    }
   ],
   "source": [
    "x1 = [1,2,3,4,5,6]\n",
    "x2 = [4,2,5,6,2,3]\n",
    "for ind, (i,j) in enumerate(zip(x1,x2)):\n",
    "    print(f\"{ind}의 값은 {i} {j}\")\n"
   ]
  },
  {
   "cell_type": "code",
   "execution_count": 57,
   "metadata": {},
   "outputs": [
    {
     "name": "stdout",
     "output_type": "stream",
     "text": [
      "0의 값은 1 2\n",
      "1의 값은 3 4\n",
      "2의 값은 5 6\n"
     ]
    }
   ],
   "source": [
    "x1 = [[1,2],[3,4],[5,6]]\n",
    "for ind, (i,j) in enumerate(x1):\n",
    "    print(f\"{ind}의 값은 {i} {j}\")\n",
    "\n",
    "# ind = 0 \n",
    "# for k in x1: \n",
    "#     i,j = k \n",
    "#     print(f\"{ind}의 값은 {i} {j}\")\n",
    "#     ind += 1 "
   ]
  },
  {
   "cell_type": "code",
   "execution_count": 60,
   "metadata": {},
   "outputs": [
    {
     "name": "stdout",
     "output_type": "stream",
     "text": [
      "0  --- 1\n",
      "1  --- 2\n",
      "2  --- 3\n",
      "3  --- 4\n",
      "4  --- 5\n",
      "5  --- ㅅㄷㅅ\n",
      "6  --- 8\n"
     ]
    }
   ],
   "source": [
    "x = {8,2,4,2,3,5,1,\"ㅅㄷㅅ\"}\n",
    "\n",
    "for ind,i in enumerate(x): \n",
    "    print(f\"{ind}  --- {i}\")"
   ]
  },
  {
   "cell_type": "code",
   "execution_count": 64,
   "metadata": {},
   "outputs": [],
   "source": [
    "iter_ = 20\n",
    "while iter_ < 10: \n",
    "    print(\"...\")\n",
    "    iter_ -=1"
   ]
  },
  {
   "cell_type": "code",
   "execution_count": 65,
   "metadata": {},
   "outputs": [
    {
     "name": "stdout",
     "output_type": "stream",
     "text": [
      "영양제를먹어보자\n",
      "영양제를먹어보자\n",
      "영양제를먹어보자\n",
      "영양제를먹어보자\n",
      "영양제를먹어보자\n",
      "영양제를먹어보자\n",
      "영양제를먹어보자\n",
      "영양제를먹어보자\n",
      "영양제를먹어보자\n",
      "영양제를먹어보자\n",
      "영양제를먹어보자\n",
      "영양제를먹어보자\n",
      "영양제를먹어보자\n",
      "영양제를먹어보자\n",
      "영양제를먹어보자\n",
      "영양제를먹어보자\n",
      "영양제를먹어보자\n",
      "영양제를먹어보자\n",
      "영양제를먹어보자\n",
      "영양제를먹어보자\n",
      "180\n"
     ]
    }
   ],
   "source": [
    "my_height = 160 \n",
    "\n",
    "while my_height<180: \n",
    "    print(\"영양제를먹어보자\")\n",
    "    my_height += 1\n",
    "\n",
    "print(my_height)"
   ]
  },
  {
   "cell_type": "code",
   "execution_count": 69,
   "metadata": {},
   "outputs": [
    {
     "name": "stdout",
     "output_type": "stream",
     "text": [
      "iter = 1\n",
      "iter = 2\n",
      "iter = 3\n",
      "iter = 4\n",
      "iter = 5\n",
      "end of while\n"
     ]
    }
   ],
   "source": [
    "iter_ = 0 \n",
    "\n",
    "while iter_ < 10: \n",
    "    iter_ += 1\n",
    "    if iter_ >5: \n",
    "        break \n",
    "    print(f\"iter = {iter_}\")\n",
    "print(\"end of while\")"
   ]
  },
  {
   "cell_type": "code",
   "execution_count": 72,
   "metadata": {},
   "outputs": [
    {
     "name": "stdout",
     "output_type": "stream",
     "text": [
      "1 6\n",
      "1 7\n",
      "1 8\n",
      "2 6\n",
      "2 7\n",
      "2 8\n",
      "3 6\n",
      "3 7\n",
      "3 8\n"
     ]
    }
   ],
   "source": [
    "x1 = [1,2,3,4,5]\n",
    "x2 = [6,7,8,9,10]\n",
    "\n",
    "is_break = False\n",
    "for i in x1: \n",
    "    for j in x2: \n",
    "        if j>8:\n",
    "            if i+j>11:\n",
    "                is_break = True\n",
    "                break\n",
    "            else:\n",
    "                break\n",
    "        else: \n",
    "            print(f\"{i} {j}\")\n",
    "    \n",
    "    if is_break: \n",
    "        break \n",
    "\n"
   ]
  },
  {
   "cell_type": "code",
   "execution_count": 73,
   "metadata": {},
   "outputs": [
    {
     "name": "stdout",
     "output_type": "stream",
     "text": [
      "1\n",
      "3\n",
      "5\n",
      "7\n",
      "9\n"
     ]
    }
   ],
   "source": [
    "i = 0 \n",
    "while i <10: \n",
    "    i+=1\n",
    "    if i%2==0: \n",
    "        continue\n",
    "    else:\n",
    "        pass\n",
    "\n",
    "    print(i)"
   ]
  },
  {
   "cell_type": "code",
   "execution_count": 74,
   "metadata": {},
   "outputs": [
    {
     "name": "stdout",
     "output_type": "stream",
     "text": [
      "1\n",
      "3\n",
      "5\n",
      "7\n",
      "9\n"
     ]
    }
   ],
   "source": [
    "for i in range(10):\n",
    "    if i%2==0: \n",
    "        continue\n",
    "    else:\n",
    "        pass\n",
    "\n",
    "    print(i)"
   ]
  },
  {
   "cell_type": "code",
   "execution_count": 76,
   "metadata": {},
   "outputs": [
    {
     "name": "stdout",
     "output_type": "stream",
     "text": [
      "1\n",
      "3\n",
      "5\n",
      "7\n",
      "9\n"
     ]
    }
   ],
   "source": [
    "for i in range(10):\n",
    "    if i%2!=0: \n",
    "        print(i)"
   ]
  },
  {
   "cell_type": "code",
   "execution_count": 92,
   "metadata": {},
   "outputs": [
    {
     "name": "stdout",
     "output_type": "stream",
     "text": [
      "{'cm': '1234', 'hj': 'q1w2e3', 'new': '123qwe'}\n",
      "None\n"
     ]
    }
   ],
   "source": [
    "#회원정보와 회원추가 \n",
    "dict_id_pw = {\"cm\":\"1234\",\"hj\":\"q1w2e3\"}\n",
    "dict_id_pw['new'] = '123qwe'\n",
    "print(dict_id_pw)\n",
    "\n",
    "access_ = False\n",
    "id_ = input(\"whoRU?\")\n",
    "pw_ = dict_id_pw.get(id_) #dict_id_pw[id_] \n",
    "# print(pw_)\n",
    "\n",
    "if pw_:\n",
    "    print(f\"hello {id_}.\")\n",
    "    while True:\n",
    "        password = input(\"what is your password\")\n",
    "        if password == pw_: \n",
    "            print(\"Access granted!\")\n",
    "            access_ = True \n",
    "            is_break = True \n",
    "            break\n",
    "        else:\n",
    "            print(\"wrong password\")\n",
    "else: \n",
    "    print(\"No information.\")\n",
    "\n",
    "print(f\"Access = {access_}\")"
   ]
  },
  {
   "cell_type": "code",
   "execution_count": 82,
   "metadata": {},
   "outputs": [],
   "source": [
    "# print(\"hello world\")\n",
    "x = input(\"뭐든입력해봐\")"
   ]
  },
  {
   "cell_type": "code",
   "execution_count": 93,
   "metadata": {},
   "outputs": [
    {
     "name": "stdout",
     "output_type": "stream",
     "text": [
      "2\n",
      "4\n",
      "6\n",
      "8\n",
      "10\n",
      "12\n",
      "14\n",
      "16\n",
      "18\n",
      "20\n",
      "22\n",
      "24\n",
      "26\n",
      "28\n",
      "30\n",
      "32\n",
      "34\n",
      "36\n",
      "38\n",
      "40\n",
      "42\n",
      "44\n",
      "46\n",
      "48\n",
      "50\n",
      "52\n",
      "54\n",
      "56\n",
      "58\n",
      "60\n",
      "62\n",
      "64\n",
      "66\n",
      "68\n",
      "70\n",
      "72\n",
      "74\n",
      "76\n",
      "78\n",
      "80\n",
      "82\n",
      "84\n",
      "86\n",
      "88\n",
      "90\n",
      "92\n",
      "94\n",
      "96\n",
      "98\n"
     ]
    }
   ],
   "source": [
    "a = 1\n",
    "while a<100:\n",
    "    if a%2==0: \n",
    "        print(a)\n",
    "    else: \n",
    "        pass\n",
    "    a += 1"
   ]
  },
  {
   "cell_type": "code",
   "execution_count": 95,
   "metadata": {},
   "outputs": [
    {
     "name": "stdout",
     "output_type": "stream",
     "text": [
      "166833\n"
     ]
    }
   ],
   "source": [
    "i = 1\n",
    "sum_ = 0 \n",
    "\n",
    "while True: \n",
    "    if i>1000: \n",
    "        break; \n",
    "    \n",
    "    if i%3==0: \n",
    "        sum_ += i \n",
    "    else: \n",
    "        pass\n",
    "    \n",
    "    i+=1\n",
    "    \n",
    "print(sum_)"
   ]
  },
  {
   "cell_type": "code",
   "execution_count": 97,
   "metadata": {},
   "outputs": [
    {
     "name": "stdout",
     "output_type": "stream",
     "text": [
      "166833\n"
     ]
    }
   ],
   "source": [
    "i = 1 \n",
    "sum_ = 0 \n",
    "while i<=1000: \n",
    "    if i%3==0: \n",
    "        sum_ += i \n",
    "    else: \n",
    "        pass\n",
    "    i+=1 \n",
    "print(sum_)"
   ]
  },
  {
   "cell_type": "code",
   "execution_count": 98,
   "metadata": {},
   "outputs": [
    {
     "name": "stdout",
     "output_type": "stream",
     "text": [
      "2 x 1 = 2\t2 x 2 = 4\t2 x 3 = 6\t2 x 4 = 8\t2 x 5 = 10\t2 x 6 = 12\t2 x 7 = 14\t2 x 8 = 16\t2 x 9 = 18\t\n",
      "3 x 1 = 3\t3 x 2 = 6\t3 x 3 = 9\t3 x 4 = 12\t3 x 5 = 15\t3 x 6 = 18\t3 x 7 = 21\t3 x 8 = 24\t3 x 9 = 27\t\n",
      "4 x 1 = 4\t4 x 2 = 8\t4 x 3 = 12\t4 x 4 = 16\t4 x 5 = 20\t4 x 6 = 24\t4 x 7 = 28\t4 x 8 = 32\t4 x 9 = 36\t\n",
      "5 x 1 = 5\t5 x 2 = 10\t5 x 3 = 15\t5 x 4 = 20\t5 x 5 = 25\t5 x 6 = 30\t5 x 7 = 35\t5 x 8 = 40\t5 x 9 = 45\t\n",
      "6 x 1 = 6\t6 x 2 = 12\t6 x 3 = 18\t6 x 4 = 24\t6 x 5 = 30\t6 x 6 = 36\t6 x 7 = 42\t6 x 8 = 48\t6 x 9 = 54\t\n",
      "7 x 1 = 7\t7 x 2 = 14\t7 x 3 = 21\t7 x 4 = 28\t7 x 5 = 35\t7 x 6 = 42\t7 x 7 = 49\t7 x 8 = 56\t7 x 9 = 63\t\n",
      "8 x 1 = 8\t8 x 2 = 16\t8 x 3 = 24\t8 x 4 = 32\t8 x 5 = 40\t8 x 6 = 48\t8 x 7 = 56\t8 x 8 = 64\t8 x 9 = 72\t\n",
      "9 x 1 = 9\t9 x 2 = 18\t9 x 3 = 27\t9 x 4 = 36\t9 x 5 = 45\t9 x 6 = 54\t9 x 7 = 63\t9 x 8 = 72\t9 x 9 = 81\t\n"
     ]
    }
   ],
   "source": [
    "i = 2\n",
    "\n",
    "while i<10: \n",
    "    j = 1\n",
    "    while j<10: \n",
    "        print(f\"{i} x {j} = {i*j}\", end=\"\\t\")\n",
    "        j += 1\n",
    "    i += 1\n",
    "    print()"
   ]
  },
  {
   "cell_type": "code",
   "execution_count": null,
   "metadata": {},
   "outputs": [],
   "source": []
  }
 ],
 "metadata": {
  "interpreter": {
   "hash": "aee8b7b246df8f9039afb4144a1f6fd8d2ca17a180786b69acc140d282b71a49"
  },
  "kernelspec": {
   "display_name": "Python 3.9.6 64-bit",
   "language": "python",
   "name": "python3"
  },
  "language_info": {
   "codemirror_mode": {
    "name": "ipython",
    "version": 3
   },
   "file_extension": ".py",
   "mimetype": "text/x-python",
   "name": "python",
   "nbconvert_exporter": "python",
   "pygments_lexer": "ipython3",
   "version": "3.9.6"
  },
  "orig_nbformat": 4
 },
 "nbformat": 4,
 "nbformat_minor": 2
}
