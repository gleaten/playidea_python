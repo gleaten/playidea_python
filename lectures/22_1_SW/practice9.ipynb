{
 "cells": [
  {
   "cell_type": "code",
   "execution_count": null,
   "metadata": {},
   "outputs": [],
   "source": [
    "import time \n",
    "x = 0 \n",
    "\n",
    "start_time = time.time()\n",
    "while True: \n",
    "    iter_time = time.time() \n",
    "    \n",
    "    if iter_time - start_time > 10: \n",
    "        start_time = iter_time \n",
    "        print(\"10초가 지났습니다. 다시 체크를 시작합니다\")\n",
    "    \n",
    "    sensors = get_sensor_info(modi)\n",
    "    state_ = check_state(sensors)\n",
    "    \n",
    "    if state_ == 1: \n",
    "        do_something\n",
    "    elif state_ == 2: \n",
    "        do_something\n",
    "    elif state_ == 3: \n",
    "        do_something\n",
    "\n",
    "    change_state()"
   ]
  }
 ],
 "metadata": {
  "language_info": {
   "name": "python"
  },
  "orig_nbformat": 4
 },
 "nbformat": 4,
 "nbformat_minor": 2
}
