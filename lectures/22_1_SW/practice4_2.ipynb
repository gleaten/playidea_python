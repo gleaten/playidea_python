{
 "cells": [
  {
   "cell_type": "code",
   "execution_count": 5,
   "metadata": {},
   "outputs": [
    {
     "name": "stdout",
     "output_type": "stream",
     "text": [
      "{1, 2, 3}\n"
     ]
    }
   ],
   "source": [
    "# x = set()\n",
    "x = {1,2,3,1}\n",
    "print(x)"
   ]
  },
  {
   "cell_type": "code",
   "execution_count": 10,
   "metadata": {},
   "outputs": [
    {
     "name": "stdout",
     "output_type": "stream",
     "text": [
      "응시자: 11, 최대점수 5, 최소점수 0\n",
      "{0, 1, 2, 3, 4, 5}\n",
      "6\n"
     ]
    }
   ],
   "source": [
    "x = [1,2,3,1,1,1,0,1,4,5,1]\n",
    "print(f\"응시자: {len(x)}, 최대점수 {max(x)}, 최소점수 {min(x)}\")\n",
    "y = set(x)\n",
    "print(y)\n",
    "print(len(y))"
   ]
  },
  {
   "cell_type": "code",
   "execution_count": 11,
   "metadata": {},
   "outputs": [
    {
     "name": "stdout",
     "output_type": "stream",
     "text": [
      "출입자 : 11\n",
      "{1, 2, 3, 4, 5, 9}\n",
      "6\n"
     ]
    }
   ],
   "source": [
    "x = [1,2,3,1,1,1,9,1,4,5,1]\n",
    "print(f\"출입자 : {len(x)}\")\n",
    "y = set(x)\n",
    "print(y)\n",
    "print(len(y))"
   ]
  },
  {
   "cell_type": "code",
   "execution_count": 31,
   "metadata": {},
   "outputs": [
    {
     "name": "stdout",
     "output_type": "stream",
     "text": [
      "('d', 'd', 'w')\n",
      "<class 'tuple'>\n"
     ]
    }
   ],
   "source": [
    "# q = ('d', 'd', 'w',)\n",
    "# print(q)\n",
    "# print(type(q))"
   ]
  },
  {
   "cell_type": "code",
   "execution_count": 30,
   "metadata": {},
   "outputs": [
    {
     "name": "stdout",
     "output_type": "stream",
     "text": [
      "<class 'tuple'>\n",
      "<class 'tuple'>\n",
      "<class 'int'>\n",
      "<class 'tuple'>\n",
      "<class 'dict'>\n",
      "<class 'set'>\n"
     ]
    }
   ],
   "source": [
    "x = ()\n",
    "print(type(x))\n",
    "x = tuple()\n",
    "print(type(x))\n",
    "x = (1)         #함정카드\n",
    "print(type(x))\n",
    "x = (1,)\n",
    "print(type(x))\n",
    "x = {}\n",
    "print(type(x))\n",
    "x = set()\n",
    "print(type(x))"
   ]
  },
  {
   "cell_type": "code",
   "execution_count": null,
   "metadata": {},
   "outputs": [],
   "source": [
    "# () : 함수의 입력 부분, tuple, \n",
    "# [] : indexing, slicing, list \n",
    "# {} : dictionary, set \n"
   ]
  },
  {
   "cell_type": "code",
   "execution_count": 16,
   "metadata": {},
   "outputs": [
    {
     "name": "stdout",
     "output_type": "stream",
     "text": [
      "{1, 2.0123, (1, 2), 'my string', None}\n"
     ]
    }
   ],
   "source": [
    "x = {1, 2.0123, None, True, \"my string\", (1,2)}\n",
    "print(x)"
   ]
  },
  {
   "cell_type": "code",
   "execution_count": 17,
   "metadata": {},
   "outputs": [
    {
     "ename": "TypeError",
     "evalue": "'set' object is not subscriptable",
     "output_type": "error",
     "traceback": [
      "\u001b[0;31m---------------------------------------------------------------------------\u001b[0m",
      "\u001b[0;31mTypeError\u001b[0m                                 Traceback (most recent call last)",
      "\u001b[1;32m/Users/changminlee/Documents/GitHub/playidea_python/lectures/22_1_SW/practice4_2.ipynb Cell 7'\u001b[0m in \u001b[0;36m<cell line: 1>\u001b[0;34m()\u001b[0m\n\u001b[0;32m----> <a href='vscode-notebook-cell:/Users/changminlee/Documents/GitHub/playidea_python/lectures/22_1_SW/practice4_2.ipynb#ch0000006?line=0'>1</a>\u001b[0m x[\u001b[39m1\u001b[39;49m]\n",
      "\u001b[0;31mTypeError\u001b[0m: 'set' object is not subscriptable"
     ]
    }
   ],
   "source": [
    "x[1]"
   ]
  },
  {
   "cell_type": "code",
   "execution_count": 19,
   "metadata": {},
   "outputs": [
    {
     "data": {
      "text/plain": [
       "1"
      ]
     },
     "execution_count": 19,
     "metadata": {},
     "output_type": "execute_result"
    }
   ],
   "source": [
    "x = list(x)\n",
    "x[0]"
   ]
  },
  {
   "cell_type": "code",
   "execution_count": 21,
   "metadata": {},
   "outputs": [
    {
     "name": "stdout",
     "output_type": "stream",
     "text": [
      "['__add__', '__class__', '__class_getitem__', '__contains__', '__delattr__', '__delitem__', '__dir__', '__doc__', '__eq__', '__format__', '__ge__', '__getattribute__', '__getitem__', '__gt__', '__hash__', '__iadd__', '__imul__', '__init__', '__init_subclass__', '__iter__', '__le__', '__len__', '__lt__', '__mul__', '__ne__', '__new__', '__reduce__', '__reduce_ex__', '__repr__', '__reversed__', '__rmul__', '__setattr__', '__setitem__', '__sizeof__', '__str__', '__subclasshook__', 'append', 'clear', 'copy', 'count', 'extend', 'index', 'insert', 'pop', 'remove', 'reverse', 'sort']\n"
     ]
    }
   ],
   "source": [
    "print(dir(x))"
   ]
  },
  {
   "cell_type": "code",
   "execution_count": 23,
   "metadata": {},
   "outputs": [
    {
     "name": "stdout",
     "output_type": "stream",
     "text": [
      "{'e', 'J', 'a', 'j', 'n', 'u'}\n"
     ]
    }
   ],
   "source": [
    "s2 = set(\"Jaejun\")\n",
    "print(s2print(x))"
   ]
  },
  {
   "cell_type": "code",
   "execution_count": 25,
   "metadata": {},
   "outputs": [
    {
     "name": "stdout",
     "output_type": "stream",
     "text": [
      "[1, 2.0123, (1, 2), 'my string', None]\n",
      "None\n",
      "[1, 2.0123, (1, 2), 'my string']\n"
     ]
    }
   ],
   "source": [
    "print(x)\n",
    "print(x.pop())\n",
    "print(x)"
   ]
  },
  {
   "cell_type": "code",
   "execution_count": 49,
   "metadata": {},
   "outputs": [
    {
     "name": "stdout",
     "output_type": "stream",
     "text": [
      "{1.0}\n"
     ]
    }
   ],
   "source": [
    "## set 재미있는 특징 \n",
    "# 0, 0.0, False \n",
    "# 1, 1.0, True \n",
    "x = {1.0, 1, True}\n",
    "# x = {0.0, False, 0}\n",
    "print(x)\n",
    "\n",
    "\n",
    "# 0, 0.0, None, False, \"\", {}, [], .... False::\n",
    "# x = -2\n",
    "# if x: \n",
    "#     print(x)\n"
   ]
  },
  {
   "cell_type": "code",
   "execution_count": 51,
   "metadata": {},
   "outputs": [
    {
     "name": "stdout",
     "output_type": "stream",
     "text": [
      "{4, 5, 6}\n",
      "{4, 5, 6}\n",
      "{1, 2, 3, 4, 5, 6}\n",
      "{1, 2, 3, 4, 5, 6, 7, 8, 9}\n",
      "{1, 2, 3, 4, 5, 6, 7, 8, 9}\n",
      "{1, 2, 3}\n",
      "{1, 2, 3}\n",
      "{1, 2, 3, 7, 8, 9}\n",
      "{1, 2, 3, 7, 8, 9}\n"
     ]
    }
   ],
   "source": [
    "x = {1,2,3,4,5,6}\n",
    "y = {4,5,6,7,8,9}\n",
    "\n",
    "print(x & y)\n",
    "print(x.intersection(y))\n",
    "\n",
    "print(x | y)\n",
    "print(x.union(y))\n",
    "\n",
    "print(x - y)\n",
    "print(x.difference(y))\n",
    "\n",
    "print(x ^ y)  # 1^2 : 1**2\n",
    "print(x.symmetric_difference(y))\n"
   ]
  },
  {
   "cell_type": "code",
   "execution_count": 56,
   "metadata": {},
   "outputs": [
    {
     "name": "stdout",
     "output_type": "stream",
     "text": [
      "['__and__', '__class__', '__class_getitem__', '__contains__', '__delattr__', '__dir__', '__doc__', '__eq__', '__format__', '__ge__', '__getattribute__', '__gt__', '__hash__', '__iand__', '__init__', '__init_subclass__', '__ior__', '__isub__', '__iter__', '__ixor__', '__le__', '__len__', '__lt__', '__ne__', '__new__', '__or__', '__rand__', '__reduce__', '__reduce_ex__', '__repr__', '__ror__', '__rsub__', '__rxor__', '__setattr__', '__sizeof__', '__str__', '__sub__', '__subclasshook__', '__xor__', 'add', 'clear', 'copy', 'difference', 'difference_update', 'discard', 'intersection', 'intersection_update', 'isdisjoint', 'issubset', 'issuperset', 'pop', 'remove', 'symmetric_difference', 'symmetric_difference_update', 'union', 'update']\n"
     ]
    }
   ],
   "source": [
    "# x.isdisjoint(y)\n",
    "# x.issubset(y)\n",
    "# x.issuperset(y)\n",
    "print(dir(x))"
   ]
  },
  {
   "cell_type": "code",
   "execution_count": 57,
   "metadata": {},
   "outputs": [
    {
     "name": "stdout",
     "output_type": "stream",
     "text": [
      "{1, 2, 3, 4, 5, 6}\n",
      "{4, 5, 6, 7, 8, 9}\n",
      "{1, 2, 3}\n"
     ]
    }
   ],
   "source": [
    "print(x)\n",
    "print(y)\n",
    "x.difference_update(y) #.sort\n",
    "print(x)"
   ]
  },
  {
   "cell_type": "code",
   "execution_count": 61,
   "metadata": {},
   "outputs": [
    {
     "name": "stdout",
     "output_type": "stream",
     "text": [
      "[1, 2, 3, 4, 1, 2, 3, 4]\n",
      "[1, 4, 9, 16, 1, 4, 9, 16]\n"
     ]
    }
   ],
   "source": [
    "x = [1,2,3,4] * 2\n",
    "print(x) # concat: elementwise multiplciation이 아님.\n",
    "\n",
    "x2 = [y**2 for y in x]\n",
    "print(x2)"
   ]
  },
  {
   "cell_type": "code",
   "execution_count": null,
   "metadata": {},
   "outputs": [],
   "source": [
    "# CRUD: Create, Read, Update, Delete\n"
   ]
  },
  {
   "cell_type": "code",
   "execution_count": 66,
   "metadata": {},
   "outputs": [
    {
     "name": "stdout",
     "output_type": "stream",
     "text": [
      "4\n"
     ]
    }
   ],
   "source": [
    "# 문제 1.\n",
    "s = set(\"Hello\")\n",
    "print(len(s))"
   ]
  },
  {
   "cell_type": "code",
   "execution_count": 67,
   "metadata": {},
   "outputs": [
    {
     "data": {
      "text/plain": [
       "dict"
      ]
     },
     "execution_count": 67,
     "metadata": {},
     "output_type": "execute_result"
    }
   ],
   "source": [
    "# 문제 2. \n",
    "s = {}\n",
    "type(s)"
   ]
  },
  {
   "cell_type": "code",
   "execution_count": 68,
   "metadata": {},
   "outputs": [
    {
     "data": {
      "text/plain": [
       "{1, 2, 5, 6, 7, 8}"
      ]
     },
     "execution_count": 68,
     "metadata": {},
     "output_type": "execute_result"
    }
   ],
   "source": [
    "{1,5,2,6} | {6,2,7,8}"
   ]
  },
  {
   "cell_type": "code",
   "execution_count": 76,
   "metadata": {},
   "outputs": [
    {
     "name": "stdout",
     "output_type": "stream",
     "text": [
      "{2, 6}\n"
     ]
    }
   ],
   "source": [
    "set1 = {1,2,3,6,8}\n",
    "set2 = {2,3,4,9,6}\n",
    "set3 = {1,2,5,4,6}\n",
    "print(set1 & set2 & set3)"
   ]
  },
  {
   "cell_type": "code",
   "execution_count": 75,
   "metadata": {},
   "outputs": [
    {
     "name": "stdout",
     "output_type": "stream",
     "text": [
      "True\n"
     ]
    }
   ],
   "source": [
    "# print(3>2>1>0>-2)"
   ]
  },
  {
   "cell_type": "code",
   "execution_count": 77,
   "metadata": {},
   "outputs": [
    {
     "name": "stdout",
     "output_type": "stream",
     "text": [
      "{9, 3}\n"
     ]
    }
   ],
   "source": [
    "setA = {1,2,4,7}\n",
    "setB = {2,3,7,9}\n",
    "print(setB-setA)"
   ]
  },
  {
   "cell_type": "code",
   "execution_count": 79,
   "metadata": {},
   "outputs": [
    {
     "name": "stdout",
     "output_type": "stream",
     "text": [
      "{'혜미', '재훈'}\n"
     ]
    }
   ],
   "source": [
    "passA = {\"민영\", \"동윤\", \"혜미\", \"소정\", \"재훈\"}\n",
    "passB = {\"재훈\", \"지수\", \"민기\", \"혜미\"}\n",
    "print(passA.intersection(passB))"
   ]
  },
  {
   "cell_type": "code",
   "execution_count": 82,
   "metadata": {},
   "outputs": [
    {
     "name": "stdout",
     "output_type": "stream",
     "text": [
      "{'person': ['changmin', 'hyeona']}\n",
      "<class 'dict'>\n",
      "<class 'list'>\n",
      "{'person': ('changmin', 'hyeona')}\n",
      "<class 'dict'>\n",
      "<class 'tuple'>\n"
     ]
    }
   ],
   "source": [
    "d={}\n",
    "d['person'] = ['changmin', 'hyeona']\n",
    "# person = ['changmin', 'hyeona']\n",
    "print(d)\n",
    "print(type(d))\n",
    "print(type(d['person']))\n",
    "\n",
    "d={}\n",
    "d['person'] = 'changmin', 'hyeona'\n",
    "print(d)\n",
    "print(type(d))\n",
    "print(type(d['person']))\n",
    "# print(person)"
   ]
  },
  {
   "cell_type": "code",
   "execution_count": 86,
   "metadata": {},
   "outputs": [
    {
     "name": "stdout",
     "output_type": "stream",
     "text": [
      "<class 'dict'>\n",
      "{}\n"
     ]
    },
    {
     "data": {
      "text/plain": [
       "{1: [1, 2, 3, 4]}"
      ]
     },
     "execution_count": 86,
     "metadata": {},
     "output_type": "execute_result"
    }
   ],
   "source": [
    "x = {}\n",
    "print(type(x))\n",
    "print(x)\n",
    "key = 1 #2.0, None, True, False, \"my str\", (1,2,3,)\n",
    "value = [1,2,3,4]\n",
    "x[key] = value \n",
    "x"
   ]
  },
  {
   "cell_type": "code",
   "execution_count": 95,
   "metadata": {},
   "outputs": [
    {
     "name": "stdout",
     "output_type": "stream",
     "text": [
      "{'a': 1, 'b': 2, 'c': 3}\n",
      "{'a': 1, 'b': 2, 'c': 3}\n",
      "{'a': 1, 'b': 2, 'c': 3}\n"
     ]
    }
   ],
   "source": [
    "x = dict([['a',1],['b',2],['c',3]])\n",
    "print(x)\n",
    "x = dict(zip(['a','b','c'],[1,2,3]))\n",
    "print(x)\n",
    "x = dict(a=1,b=2,c=3)\n",
    "print(x)"
   ]
  },
  {
   "cell_type": "code",
   "execution_count": 101,
   "metadata": {},
   "outputs": [
    {
     "data": {
      "text/plain": [
       "{'a': [1, 2, 3, 1, 4, 12], 'b': 9999, 'd': 5}"
      ]
     },
     "execution_count": 101,
     "metadata": {},
     "output_type": "execute_result"
    }
   ],
   "source": [
    "x = dict(a=1,b=2,c=3)\n",
    "x['d'] = 5\n",
    "x['b'] = 9999\n",
    "x['a'] = [1,2,3,1,4,12]\n",
    "del(x['c'])\n",
    "x"
   ]
  },
  {
   "cell_type": "code",
   "execution_count": 99,
   "metadata": {},
   "outputs": [
    {
     "name": "stdout",
     "output_type": "stream",
     "text": [
      "['__class__', '__class_getitem__', '__contains__', '__delattr__', '__delitem__', '__dir__', '__doc__', '__eq__', '__format__', '__ge__', '__getattribute__', '__getitem__', '__gt__', '__hash__', '__init__', '__init_subclass__', '__ior__', '__iter__', '__le__', '__len__', '__lt__', '__ne__', '__new__', '__or__', '__reduce__', '__reduce_ex__', '__repr__', '__reversed__', '__ror__', '__setattr__', '__setitem__', '__sizeof__', '__str__', '__subclasshook__', 'clear', 'copy', 'fromkeys', 'get', 'items', 'keys', 'pop', 'popitem', 'setdefault', 'update', 'values']\n"
     ]
    }
   ],
   "source": [
    "print(dir(x))"
   ]
  },
  {
   "cell_type": "code",
   "execution_count": 127,
   "metadata": {},
   "outputs": [
    {
     "name": "stdout",
     "output_type": "stream",
     "text": [
      "{'a': '에이', 'b': '비', 'c': '씨'}\n"
     ]
    }
   ],
   "source": [
    "x = {\"a\":\"에이\",\"b\":\"디\"}\n",
    "y = {\"c\":\"씨\",\"b\":\"비\"}\n",
    "x.update(y)\n",
    "# x = x|y\n",
    "print(x)\n",
    "# x.clear()\n",
    "# print(x)\n"
   ]
  },
  {
   "cell_type": "code",
   "execution_count": 115,
   "metadata": {},
   "outputs": [
    {
     "name": "stdout",
     "output_type": "stream",
     "text": [
      "True\n",
      "True\n",
      "[1, 2, 3]\n"
     ]
    }
   ],
   "source": [
    "x = {\"a\":1,\"b\":2,\"c\":3}\n",
    "print(\"a\" in x)\n",
    "y = list(x.values())\n",
    "print(1 in y)\n",
    "print(y)"
   ]
  },
  {
   "cell_type": "code",
   "execution_count": 117,
   "metadata": {},
   "outputs": [
    {
     "name": "stdout",
     "output_type": "stream",
     "text": [
      "[('a', 1), ('b', 2), ('c', 3)]\n"
     ]
    }
   ],
   "source": [
    "x = {\"a\":1,\"b\":2,\"c\":3}\n",
    "y = list(x.items())\n",
    "print(y)"
   ]
  },
  {
   "cell_type": "code",
   "execution_count": 126,
   "metadata": {},
   "outputs": [
    {
     "name": "stdout",
     "output_type": "stream",
     "text": [
      "{'a': 1, 'b': 2}\n",
      "{}\n",
      "[4, 3, 2, 1]\n",
      "[1, 2, 3, 4]\n"
     ]
    }
   ],
   "source": [
    "x = {\"a\":1,\"b\":2}\n",
    "print(x)\n",
    "x.clear()\n",
    "print(x)\n",
    "\n",
    "x = [4,3,2,1]\n",
    "print(x)\n",
    "# x.sort()\n",
    "x = sorted(x)\n",
    "print(x)\n",
    "\n",
    "\n",
    "# x = sorted(x)\n",
    "\n",
    "\n",
    "\n",
    "# class x: \n",
    "#     def __init__(self,X):\n",
    "#         pass\n",
    "#         self.x = X\n",
    "#     def clear(self): \n",
    "#         self.x = []\n",
    "        "
   ]
  },
  {
   "cell_type": "code",
   "execution_count": 128,
   "metadata": {},
   "outputs": [
    {
     "name": "stdout",
     "output_type": "stream",
     "text": [
      "['__class__', '__class_getitem__', '__contains__', '__delattr__', '__delitem__', '__dir__', '__doc__', '__eq__', '__format__', '__ge__', '__getattribute__', '__getitem__', '__gt__', '__hash__', '__init__', '__init_subclass__', '__ior__', '__iter__', '__le__', '__len__', '__lt__', '__ne__', '__new__', '__or__', '__reduce__', '__reduce_ex__', '__repr__', '__reversed__', '__ror__', '__setattr__', '__setitem__', '__sizeof__', '__str__', '__subclasshook__', 'clear', 'copy', 'fromkeys', 'get', 'items', 'keys', 'pop', 'popitem', 'setdefault', 'update', 'values']\n"
     ]
    }
   ],
   "source": [
    "print(dir(x))"
   ]
  },
  {
   "cell_type": "code",
   "execution_count": 137,
   "metadata": {},
   "outputs": [
    {
     "name": "stdout",
     "output_type": "stream",
     "text": [
      "None\n"
     ]
    }
   ],
   "source": [
    "x = {\"a\":1,\"b\":2}\n",
    "# x.get('a')\n",
    "# x['a']\n",
    "# x['c']\n",
    "print(x.get('c'))"
   ]
  },
  {
   "cell_type": "markdown",
   "metadata": {},
   "source": []
  },
  {
   "cell_type": "code",
   "execution_count": 146,
   "metadata": {},
   "outputs": [
    {
     "name": "stdout",
     "output_type": "stream",
     "text": [
      "[[[0, 1, 2, 3, 1], 1, 2, 3], 1, 2, 3]\n",
      "[[[9999, 1, 2, 3, 1], 1, 2, 3], 1, 2, 3]\n"
     ]
    }
   ],
   "source": [
    "import copy\n",
    "a = [[[0,1,2,3,1],1,2,3],1,2,3]\n",
    "b = a\n",
    "# b = a.copy()\n",
    "# b = copy.copy(a)\n",
    "# b = copy.deepcopy(a)\n",
    "b[0][0][0] = 9999\n",
    "print(a)\n",
    "print(b)"
   ]
  },
  {
   "cell_type": "code",
   "execution_count": 147,
   "metadata": {},
   "outputs": [
    {
     "data": {
      "text/plain": [
       "{'철수': 30, '민수': 35, '영희': 25}"
      ]
     },
     "execution_count": 147,
     "metadata": {},
     "output_type": "execute_result"
    }
   ],
   "source": [
    "ages = [('철수',30),('민수',35),('영희',25)]\n",
    "mydict = dict(ages)\n",
    "mydict"
   ]
  },
  {
   "cell_type": "code",
   "execution_count": 152,
   "metadata": {},
   "outputs": [
    {
     "name": "stdout",
     "output_type": "stream",
     "text": [
      "a b "
     ]
    }
   ],
   "source": [
    "mydict={'a':1,'b':2}\n",
    "for i in mydict: \n",
    "    print(i, end=' ')"
   ]
  },
  {
   "cell_type": "code",
   "execution_count": 153,
   "metadata": {},
   "outputs": [
    {
     "name": "stdout",
     "output_type": "stream",
     "text": [
      "{'떡볶이': 1000, '오뎅': 300}\n"
     ]
    }
   ],
   "source": [
    "menuA = {'떡볶이':500, \"오뎅\":300}\n",
    "menuB = menuA \n",
    "menuA[\"떡볶이\"] = 1000 \n",
    "print(menuB)"
   ]
  },
  {
   "cell_type": "code",
   "execution_count": 154,
   "metadata": {},
   "outputs": [
    {
     "name": "stdout",
     "output_type": "stream",
     "text": [
      "철수의 점수: 90점\n",
      "민수의 점수: 85점\n",
      "영희의 점수: 80점\n"
     ]
    }
   ],
   "source": [
    "scores = {\"철수\":90, \"민수\":85, \"영희\":80}\n",
    "for name, score in scores.items(): \n",
    "    print(f\"{name}의 점수: {score}점\")"
   ]
  },
  {
   "cell_type": "code",
   "execution_count": 161,
   "metadata": {},
   "outputs": [
    {
     "data": {
      "text/plain": [
       "[2, 4, 7]"
      ]
     },
     "execution_count": 161,
     "metadata": {},
     "output_type": "execute_result"
    }
   ],
   "source": [
    "d = {4:'a', 2:'b', 7:'c'}\n",
    "sorted(d)"
   ]
  },
  {
   "cell_type": "code",
   "execution_count": null,
   "metadata": {},
   "outputs": [],
   "source": []
  }
 ],
 "metadata": {
  "interpreter": {
   "hash": "aee8b7b246df8f9039afb4144a1f6fd8d2ca17a180786b69acc140d282b71a49"
  },
  "kernelspec": {
   "display_name": "Python 3.9.6 64-bit",
   "language": "python",
   "name": "python3"
  },
  "language_info": {
   "codemirror_mode": {
    "name": "ipython",
    "version": 3
   },
   "file_extension": ".py",
   "mimetype": "text/x-python",
   "name": "python",
   "nbconvert_exporter": "python",
   "pygments_lexer": "ipython3",
   "version": "3.9.6"
  },
  "orig_nbformat": 4
 },
 "nbformat": 4,
 "nbformat_minor": 2
}
