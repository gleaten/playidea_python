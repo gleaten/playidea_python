{
 "cells": [
  {
   "cell_type": "code",
   "execution_count": 1,
   "metadata": {},
   "outputs": [
    {
     "name": "stdout",
     "output_type": "stream",
     "text": [
      "hello world\n"
     ]
    }
   ],
   "source": [
    "print(\"hello world\")"
   ]
  },
  {
   "cell_type": "code",
   "execution_count": 3,
   "metadata": {},
   "outputs": [
    {
     "name": "stdout",
     "output_type": "stream",
     "text": [
      "cm\n"
     ]
    }
   ],
   "source": [
    "x = input(\"what's your name?\")\n",
    "print(x)"
   ]
  },
  {
   "cell_type": "code",
   "execution_count": 4,
   "metadata": {},
   "outputs": [],
   "source": [
    "x = 1 # 1.3, None, True, \n",
    "x = \"Stetrq\"\n",
    "x = (1,2,3,1,)\n",
    "\n",
    "x = [1,2,3,4]\n",
    "x = {1,2,3}\n",
    "x = {1:2,3:4}"
   ]
  },
  {
   "cell_type": "code",
   "execution_count": 9,
   "metadata": {},
   "outputs": [
    {
     "name": "stdout",
     "output_type": "stream",
     "text": [
      "ASDASDADS\n",
      "asdasdads\n"
     ]
    }
   ],
   "source": [
    "x = \"asdasdads\"\n",
    "print(x.upper())\n",
    "print(x)"
   ]
  },
  {
   "cell_type": "code",
   "execution_count": 8,
   "metadata": {},
   "outputs": [
    {
     "name": "stdout",
     "output_type": "stream",
     "text": [
      "None\n",
      "[1, 2, 3, 4]\n"
     ]
    }
   ],
   "source": [
    "x = [4,3,2,1]\n",
    "print(x.sort())\n",
    "print(x)\n"
   ]
  },
  {
   "cell_type": "code",
   "execution_count": 16,
   "metadata": {},
   "outputs": [
    {
     "name": "stdout",
     "output_type": "stream",
     "text": [
      "뽀삐\n",
      "뽀삐가 짖는다 왈왈!\n"
     ]
    },
    {
     "data": {
      "text/plain": [
       "'뽀삐'"
      ]
     },
     "execution_count": 16,
     "metadata": {},
     "output_type": "execute_result"
    }
   ],
   "source": [
    "class Dog: \n",
    "    def __init__(self,name):\n",
    "        self.name = name\n",
    "    def bark(self):\n",
    "        print(f\"{self.name}가 짖는다 왈왈!\")\n",
    "        \n",
    "my_dog = Dog(\"뽀삐\")\n",
    "print(my_dog.name)\n",
    "my_dog.bark()\n",
    "my_dog.name"
   ]
  },
  {
   "cell_type": "code",
   "execution_count": 18,
   "metadata": {},
   "outputs": [
    {
     "ename": "AttributeError",
     "evalue": "'Dog' object has no attribute 'bark2'",
     "output_type": "error",
     "traceback": [
      "\u001b[0;31m---------------------------------------------------------------------------\u001b[0m",
      "\u001b[0;31mAttributeError\u001b[0m                            Traceback (most recent call last)",
      "\u001b[1;32m/Users/changminlee/Documents/GitHub/playidea_python/lectures/22_1_SW/practice7.ipynb Cell 7'\u001b[0m in \u001b[0;36m<cell line: 1>\u001b[0;34m()\u001b[0m\n\u001b[0;32m----> <a href='vscode-notebook-cell:/Users/changminlee/Documents/GitHub/playidea_python/lectures/22_1_SW/practice7.ipynb#ch0000006?line=0'>1</a>\u001b[0m my_dog\u001b[39m.\u001b[39;49mbark2()\n",
      "\u001b[0;31mAttributeError\u001b[0m: 'Dog' object has no attribute 'bark2'"
     ]
    }
   ],
   "source": [
    "my_dog.bark2()"
   ]
  },
  {
   "cell_type": "code",
   "execution_count": 19,
   "metadata": {},
   "outputs": [
    {
     "name": "stdout",
     "output_type": "stream",
     "text": [
      "Help on built-in function print in module builtins:\n",
      "\n",
      "print(...)\n",
      "    print(value, ..., sep=' ', end='\\n', file=sys.stdout, flush=False)\n",
      "    \n",
      "    Prints the values to a stream, or to sys.stdout by default.\n",
      "    Optional keyword arguments:\n",
      "    file:  a file-like object (stream); defaults to the current sys.stdout.\n",
      "    sep:   string inserted between values, default a space.\n",
      "    end:   string appended after the last value, default a newline.\n",
      "    flush: whether to forcibly flush the stream.\n",
      "\n"
     ]
    }
   ],
   "source": [
    "help(print)"
   ]
  },
  {
   "cell_type": "code",
   "execution_count": 22,
   "metadata": {},
   "outputs": [
    {
     "name": "stdout",
     "output_type": "stream",
     "text": [
      "2\n",
      "2\n"
     ]
    }
   ],
   "source": [
    "x=2 \n",
    "print(x)\n",
    "print(f\"{x}\")"
   ]
  },
  {
   "cell_type": "code",
   "execution_count": 25,
   "metadata": {},
   "outputs": [
    {
     "name": "stdout",
     "output_type": "stream",
     "text": [
      "1 2 3\n"
     ]
    }
   ],
   "source": [
    "x,y,z = 1,2,3 \n",
    "print(x,y,z)"
   ]
  },
  {
   "cell_type": "code",
   "execution_count": 28,
   "metadata": {},
   "outputs": [
    {
     "name": "stdout",
     "output_type": "stream",
     "text": [
      "life is too short\n"
     ]
    }
   ],
   "source": [
    "print(\"life\",\"is\",\"too short\")"
   ]
  },
  {
   "cell_type": "code",
   "execution_count": 36,
   "metadata": {},
   "outputs": [
    {
     "name": "stdout",
     "output_type": "stream",
     "text": [
      "0\t1\t2\t3\t4\t5\t6\t7\t8\t9\t"
     ]
    }
   ],
   "source": [
    "for i in range(10):\n",
    "    print(i, end=\"\\t\")"
   ]
  },
  {
   "cell_type": "code",
   "execution_count": 44,
   "metadata": {},
   "outputs": [
    {
     "name": "stdout",
     "output_type": "stream",
     "text": [
      "I\\'m \\\\  \\\" CM\n"
     ]
    }
   ],
   "source": [
    "print('I\\'m \\\\  \\\" CM')"
   ]
  },
  {
   "cell_type": "code",
   "execution_count": 45,
   "metadata": {},
   "outputs": [
    {
     "name": "stdout",
     "output_type": "stream",
     "text": [
      " hjhjmcm \n"
     ]
    }
   ],
   "source": [
    "print(\"cmcmcmcm \\r hjhj\")"
   ]
  },
  {
   "cell_type": "code",
   "execution_count": 54,
   "metadata": {},
   "outputs": [
    {
     "name": "stdout",
     "output_type": "stream",
     "text": [
      "**********************************\r"
     ]
    },
    {
     "ename": "KeyboardInterrupt",
     "evalue": "",
     "output_type": "error",
     "traceback": [
      "\u001b[0;31m---------------------------------------------------------------------------\u001b[0m",
      "\u001b[0;31mKeyboardInterrupt\u001b[0m                         Traceback (most recent call last)",
      "\u001b[1;32m/Users/changminlee/Documents/GitHub/playidea_python/lectures/22_1_SW/practice7.ipynb Cell 15'\u001b[0m in \u001b[0;36m<cell line: 3>\u001b[0;34m()\u001b[0m\n\u001b[1;32m      <a href='vscode-notebook-cell:/Users/changminlee/Documents/GitHub/playidea_python/lectures/22_1_SW/practice7.ipynb#ch0000014?line=2'>3</a>\u001b[0m \u001b[39mfor\u001b[39;00m iter_ \u001b[39min\u001b[39;00m \u001b[39mrange\u001b[39m(\u001b[39m100\u001b[39m):\n\u001b[1;32m      <a href='vscode-notebook-cell:/Users/changminlee/Documents/GitHub/playidea_python/lectures/22_1_SW/practice7.ipynb#ch0000014?line=3'>4</a>\u001b[0m     \u001b[39mprint\u001b[39m(\u001b[39m\"\u001b[39m\u001b[39m*\u001b[39m\u001b[39m\"\u001b[39m\u001b[39m*\u001b[39miter_, end\u001b[39m=\u001b[39m\u001b[39m'\u001b[39m\u001b[39m\\r\u001b[39;00m\u001b[39m'\u001b[39m)\n\u001b[0;32m----> <a href='vscode-notebook-cell:/Users/changminlee/Documents/GitHub/playidea_python/lectures/22_1_SW/practice7.ipynb#ch0000014?line=4'>5</a>\u001b[0m     time\u001b[39m.\u001b[39;49msleep(\u001b[39m0.1\u001b[39;49m)\n",
      "\u001b[0;31mKeyboardInterrupt\u001b[0m: "
     ]
    }
   ],
   "source": [
    "import time\n",
    " \n",
    "for iter_ in range(100):\n",
    "    print(\"*\"*iter_, end='\\r')\n",
    "    time.sleep(0.1)\n",
    "    \n",
    "# \\n : new line \n",
    "# \\t : tab \n",
    "# \\r : return "
   ]
  },
  {
   "cell_type": "code",
   "execution_count": null,
   "metadata": {},
   "outputs": [],
   "source": [
    "# 1,2,3,,4,5,6,,7,8,9,,10,11,12,13,14"
   ]
  },
  {
   "cell_type": "code",
   "execution_count": 57,
   "metadata": {},
   "outputs": [],
   "source": [
    "x = input(\"입력해봐바바\")"
   ]
  },
  {
   "cell_type": "code",
   "execution_count": 58,
   "metadata": {},
   "outputs": [
    {
     "data": {
      "text/plain": [
       "'오냐'"
      ]
     },
     "execution_count": 58,
     "metadata": {},
     "output_type": "execute_result"
    }
   ],
   "source": [
    "x"
   ]
  },
  {
   "cell_type": "code",
   "execution_count": 65,
   "metadata": {},
   "outputs": [
    {
     "name": "stdout",
     "output_type": "stream",
     "text": [
      "['1']\n",
      "[]\n",
      "['2']\n",
      "['2', '3']\n",
      "['2', '3', '4']\n",
      "['3', '4']\n",
      "['3', '4', '5']\n",
      "['3', '4', '5', '1']\n",
      "['3', '4', '5', '1', '2']\n",
      "최대 용량입니다. 거부\n"
     ]
    }
   ],
   "source": [
    "my_bag = [] \n",
    "\n",
    "while True: \n",
    "    item_ = input(\"뭐 넣을래? \")\n",
    "    if len(my_bag)==5: \n",
    "        print(\"최대 용량입니다. 거부\")\n",
    "        break\n",
    "    else:\n",
    "        if item_ in my_bag: \n",
    "            my_bag.remove(item_)\n",
    "        else: \n",
    "            my_bag.append(item_)\n",
    "        print(my_bag)"
   ]
  },
  {
   "cell_type": "code",
   "execution_count": null,
   "metadata": {},
   "outputs": [],
   "source": [
    "\"./week2.ipynb\"\n",
    "\"./week3.ipynb\"\n",
    "# \"/\"\n",
    "\"../file4.txt\"\n",
    "\"../folder3/file3.txt\"\n",
    "\"../22_1_IOT/deltest.ipynb\""
   ]
  },
  {
   "cell_type": "code",
   "execution_count": 74,
   "metadata": {},
   "outputs": [
    {
     "name": "stdout",
     "output_type": "stream",
     "text": [
      "True\n"
     ]
    }
   ],
   "source": [
    "import os \n",
    "file_path = \"./ttt.txt\" # \"../../project_folder_test/res/data.txt\"\n",
    "\n",
    "# print(file_path)\n",
    "print(os.path.exists(file_path))"
   ]
  },
  {
   "cell_type": "code",
   "execution_count": 85,
   "metadata": {},
   "outputs": [
    {
     "data": {
      "text/plain": [
       "'/Users/changminlee/Documents/GitHub/playidea_python/lectures/22_1_SW'"
      ]
     },
     "execution_count": 85,
     "metadata": {},
     "output_type": "execute_result"
    }
   ],
   "source": [
    "import os\n",
    "file_path = \"/Users/changminlee/Documents/GitHub/playidea_python/lectures/22_1_SW/ttt.txt\"\n",
    "# route_, file_name = os.path.split(file_path)\n",
    "# os.path.dirname(file_path)\n",
    "# os.path.basename(file_path)\n",
    "\n",
    "os.path.abspath('.')"
   ]
  },
  {
   "cell_type": "code",
   "execution_count": 82,
   "metadata": {},
   "outputs": [
    {
     "name": "stdout",
     "output_type": "stream",
     "text": [
      "Users/changminlee/Desktop\n"
     ]
    }
   ],
   "source": [
    "import os \n",
    "joined_path = os.path.join('Users','changminlee','Desktop')\n",
    "# ('/').join(['Users','changminlee','Desktop'])\n",
    "# 'Users/changminlee/Desktop'\n",
    "print(joined_path)"
   ]
  },
  {
   "cell_type": "code",
   "execution_count": 86,
   "metadata": {},
   "outputs": [
    {
     "data": {
      "text/plain": [
       "'/Users/changminlee/Documents/GitHub/playidea_python/lectures/22_1_SW'"
      ]
     },
     "execution_count": 86,
     "metadata": {},
     "output_type": "execute_result"
    }
   ],
   "source": [
    "os.getcwd()"
   ]
  },
  {
   "cell_type": "code",
   "execution_count": 91,
   "metadata": {},
   "outputs": [
    {
     "data": {
      "text/plain": [
       "['week4.ipynb',\n",
       " 'HW2_2011324042.ipynb',\n",
       " 'ttt.txt',\n",
       " 'week2.ipynb',\n",
       " 'practice4_2.ipynb',\n",
       " 'week3.ipynb',\n",
       " 'practice6.ipynb',\n",
       " 'practice4.ipynb',\n",
       " 'practice2.ipynb',\n",
       " 'practice5.ipynb',\n",
       " 'practice7.ipynb',\n",
       " 'practice3.ipynb',\n",
       " 'practice1.ipynb',\n",
       " 'HW1_2011324042.ipynb']"
      ]
     },
     "execution_count": 91,
     "metadata": {},
     "output_type": "execute_result"
    }
   ],
   "source": [
    "# os.chdir()\n",
    "os.listdir(os.getcwd())"
   ]
  },
  {
   "cell_type": "code",
   "execution_count": 94,
   "metadata": {},
   "outputs": [],
   "source": [
    "os.mkdir('./test/')"
   ]
  },
  {
   "cell_type": "code",
   "execution_count": 96,
   "metadata": {},
   "outputs": [],
   "source": [
    "os.rmdir('./test/')"
   ]
  },
  {
   "cell_type": "code",
   "execution_count": 98,
   "metadata": {},
   "outputs": [],
   "source": [
    "os.makedirs('./test/ttt/ddd')"
   ]
  },
  {
   "cell_type": "code",
   "execution_count": 99,
   "metadata": {},
   "outputs": [
    {
     "ename": "OSError",
     "evalue": "[Errno 66] Directory not empty: './test/'",
     "output_type": "error",
     "traceback": [
      "\u001b[0;31m---------------------------------------------------------------------------\u001b[0m",
      "\u001b[0;31mOSError\u001b[0m                                   Traceback (most recent call last)",
      "\u001b[1;32m/Users/changminlee/Documents/GitHub/playidea_python/lectures/22_1_SW/practice7.ipynb Cell 29'\u001b[0m in \u001b[0;36m<cell line: 1>\u001b[0;34m()\u001b[0m\n\u001b[0;32m----> <a href='vscode-notebook-cell:/Users/changminlee/Documents/GitHub/playidea_python/lectures/22_1_SW/practice7.ipynb#ch0000028?line=0'>1</a>\u001b[0m os\u001b[39m.\u001b[39;49mrmdir(\u001b[39m'\u001b[39;49m\u001b[39m./test/\u001b[39;49m\u001b[39m'\u001b[39;49m)\n",
      "\u001b[0;31mOSError\u001b[0m: [Errno 66] Directory not empty: './test/'"
     ]
    }
   ],
   "source": [
    "os.rmdir('./test/')"
   ]
  },
  {
   "cell_type": "code",
   "execution_count": 100,
   "metadata": {},
   "outputs": [],
   "source": [
    "# import shutil\n",
    "# shutil.rmtree('./test')"
   ]
  },
  {
   "cell_type": "code",
   "execution_count": 104,
   "metadata": {},
   "outputs": [
    {
     "name": "stdout",
     "output_type": "stream",
     "text": [
      "1: 123\n",
      "2: abc\n",
      "3: 456\n",
      "4: def\n",
      "5: 789\n",
      "6: ghi \n"
     ]
    }
   ],
   "source": [
    "f = open('./ttt.txt','r')\n",
    "line_num = 1 \n",
    "line_data = f.readline()\n",
    "while line_data: \n",
    "    print(f\"{line_num}: {line_data[:-1]}\")\n",
    "    line_data = f.readline()\n",
    "    line_num += 1 \n",
    "f.close()"
   ]
  },
  {
   "cell_type": "code",
   "execution_count": 107,
   "metadata": {},
   "outputs": [
    {
     "name": "stdout",
     "output_type": "stream",
     "text": [
      "123\n",
      "abc\n",
      "456\n",
      "def\n",
      "789\n",
      "ghi \n"
     ]
    }
   ],
   "source": [
    "f = open('./ttt.txt','r')\n",
    "for line in f:\n",
    "    print(line[:-1])\n",
    "f.close()"
   ]
  },
  {
   "cell_type": "code",
   "execution_count": 13,
   "metadata": {},
   "outputs": [
    {
     "name": "stdout",
     "output_type": "stream",
     "text": [
      "오늘 발표 1 번째 = 국어국문학 조희* \n",
      "오늘 발표 2 번째 = 중어중문학 김지* \n",
      "오늘 발표 3 번째 = 영어영문학 황은* \n",
      "오늘 발표 4 번째 = 사학 편소* \n",
      "오늘 발표 5 번째 = 문헌정보학 박주* \n",
      "오늘 발표 6 번째 = 노어노문학 심관* \n",
      "오늘 발표 7 번째 = 경제학과 곽라* \n",
      "오늘 발표 8 번째 = 경제학과 김채* \n",
      "오늘 발표 9 번째 = 경제학과 임찬* \n",
      "오늘 발표 10 번째 = 경제학과 전시* \n",
      "오늘 발표 11 번째 = 경제학과 고성* \n",
      "오늘 발표 12 번째 = 경제학과 서동* \n",
      "오늘 발표 13 번째 = 수학 박선* \n",
      "오늘 발표 14 번째 = 화학 노상* \n",
      "오늘 발표 15 번째 = 천문우주학 장서* \n",
      "오늘 발표 16 번째 = 천문우주학 정희* \n",
      "오늘 발표 17 번째 = 대기과학 신재* \n",
      "오늘 발표 18 번째 = 대기과학 오승* \n",
      "오늘 발표 19 번째 = 토목·환경공학 이재* \n",
      "오늘 발표 20 번째 = 시스템생물학 조성* \n",
      "다음 발표 1 번째 =시스템생물학 김성*\n",
      "다음 발표 2 번째 =시스템생물학 배하*\n",
      "다음 발표 3 번째 =생명공학 공병*\n",
      "다음 발표 4 번째 =행정학과 김병*\n",
      "다음 발표 5 번째 =행정학과 이명*\n",
      "다음 발표 6 번째 =행정학과 이상*\n",
      "다음 발표 7 번째 =사회학과 황수*\n",
      "다음 발표 8 번째 =아동·가족 김연*\n",
      "다음 발표 9 번째 =피아노과 오재*\n",
      "다음 발표 10 번째 =체육교육학과 이현*\n",
      "다음 발표 11 번째 =스포츠응용산업학과 민성*\n",
      "다음 발표 12 번째 =경영학과 김현*\n",
      "다음 발표 13 번째 =국제통상전공 김다*\n",
      "다음 발표 14 번째 =국제통상전공 최민*\n",
      "다음 발표 15 번째 =경제학 김무*\n",
      "다음 발표 16 번째 =아시아학 조해*\n",
      "다음 발표 17 번째 =나노과학공학 박신*\n",
      "다음 발표 18 번째 =나노과학공학 백준*\n",
      "다음 발표 19 번째 =간호학과 정다*\n"
     ]
    }
   ],
   "source": [
    "import random\n",
    "import pandas as pd\n",
    "df_sheet_index = pd.read_excel('./출석부.xls')\n",
    "gwa = df_sheet_index[\"학과\"].to_list()\n",
    "name = df_sheet_index[\"성명\"].to_list()\n",
    "N = len(gwa)\n",
    "\n",
    "seed_ = 4478\n",
    "random.seed(seed_)\n",
    "teams = list(range(1,N+1))\n",
    "\n",
    "random.shuffle(teams)\n",
    "\n",
    "for ind, (g,n) in enumerate(zip(gwa,name)):\n",
    "    if ind < N/2:\n",
    "        print(f\"오늘 발표 {ind+1} 번째 = {g} {n[:-1]}* \")\n",
    "    else: \n",
    "        print(f\"다음 발표 {ind-(N//2)} 번째 ={g} {n[:-1]}*\")\n"
   ]
  },
  {
   "cell_type": "code",
   "execution_count": 8,
   "metadata": {},
   "outputs": [],
   "source": []
  },
  {
   "cell_type": "code",
   "execution_count": 9,
   "metadata": {},
   "outputs": [
    {
     "data": {
      "text/plain": [
       "39"
      ]
     },
     "execution_count": 9,
     "metadata": {},
     "output_type": "execute_result"
    }
   ],
   "source": []
  },
  {
   "cell_type": "code",
   "execution_count": null,
   "metadata": {},
   "outputs": [],
   "source": []
  }
 ],
 "metadata": {
  "interpreter": {
   "hash": "aee8b7b246df8f9039afb4144a1f6fd8d2ca17a180786b69acc140d282b71a49"
  },
  "kernelspec": {
   "display_name": "Python 3.9.6 64-bit",
   "language": "python",
   "name": "python3"
  },
  "language_info": {
   "codemirror_mode": {
    "name": "ipython",
    "version": 3
   },
   "file_extension": ".py",
   "mimetype": "text/x-python",
   "name": "python",
   "nbconvert_exporter": "python",
   "pygments_lexer": "ipython3",
   "version": "3.9.6"
  },
  "orig_nbformat": 4
 },
 "nbformat": 4,
 "nbformat_minor": 2
}
