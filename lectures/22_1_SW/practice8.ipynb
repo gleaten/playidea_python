{
 "cells": [
  {
   "cell_type": "code",
   "execution_count": 22,
   "metadata": {},
   "outputs": [],
   "source": [
    "class Cat: \n",
    "    \"\"\" 고양이 클래스 \n",
    "    입력: \n",
    "     - name: (str) 고양이의 이름입니다. \n",
    "     - color: (str) 고양이 색상입니다.\n",
    "     - age: (int) 고양이 나이입니다. \n",
    "    \"\"\"\n",
    "    def __init__(self, name, color, age):\n",
    "        self.name = name\n",
    "        self.color = color\n",
    "        self.age = age \n",
    "    \n",
    "    def introduce_myself(self):\n",
    "        print(f\"내 이름은 {self.name}, {self.color}이고, {self.age}살이야 \")"
   ]
  },
  {
   "cell_type": "code",
   "execution_count": 23,
   "metadata": {},
   "outputs": [
    {
     "name": "stdout",
     "output_type": "stream",
     "text": [
      "내 이름은 철수, 파란색이고, 3살이야 \n"
     ]
    }
   ],
   "source": [
    "x = Cat(\"철수\",\"파란색\",3)\n",
    "x.introduce_myself()\n"
   ]
  },
  {
   "cell_type": "code",
   "execution_count": 33,
   "metadata": {},
   "outputs": [],
   "source": [
    "class Dog: \n",
    "    def __init__(self, name):\n",
    "        self.name = name\n",
    "    \n",
    "    def bark(self): \n",
    "        print(\"왈왈\")\n",
    "        return None \n",
    "        \n",
    "    def walk(self):\n",
    "        print(\"총총\")"
   ]
  },
  {
   "cell_type": "code",
   "execution_count": 35,
   "metadata": {},
   "outputs": [
    {
     "name": "stdout",
     "output_type": "stream",
     "text": [
      "총총\n"
     ]
    }
   ],
   "source": [
    "my_dog = Dog(\"개\")\n",
    "my_dog.walk()"
   ]
  },
  {
   "cell_type": "code",
   "execution_count": 95,
   "metadata": {},
   "outputs": [],
   "source": [
    "class Human: \n",
    "    population = 0 \n",
    "    \n",
    "    def __init__(self, name):\n",
    "        self.name = name\n",
    "        self.age = 0 \n",
    "        self.job = None\n",
    "        Human.population += 1\n",
    "    \n",
    "    def introduce(self):\n",
    "        print(self.name, self.age, self.job)\n",
    "\n",
    "class NPC(Human): \n",
    "    def __init__(self, name, quest):\n",
    "        super().__init__(name)\n",
    "        Human.population += 1\n",
    "    \n",
    "        self.job = \"NPC\"\n",
    "        self.HP = 9999\n",
    "        self.quest = quest\n",
    "    \n",
    "    def get_info(self):\n",
    "        print(self.quest)\n",
    "\n",
    "\n",
    "class Swordman(Human):\n",
    "    def __init__(self,name):\n",
    "        super().__init__(name)\n",
    "        self.job = \"swordman\"\n",
    "        self.weapon = None\n",
    "        self.HP = 100 \n",
    "    \n",
    "    def get_weapon(self, weapon):\n",
    "        self.weapon = weapon \n",
    "    \n",
    "    def attack(self,target):\n",
    "        print(f\"{self.weapon.name}를 휘두르다!\")\n",
    "        print(f\"{self.weapon.dmg}만큼의 피해!\")\n",
    "        target.attacked(self.weapon.dmg)\n",
    "\n",
    "    def attacked(self,dmg):\n",
    "        if self.HP == 0: \n",
    "            print(\"이미 싸늘한 주검입니다\")\n",
    "        elif self.HP <= dmg:\n",
    "            print(\"으앙 죽음.\")\n",
    "            self.HP = 0 \n",
    "        else: \n",
    "            self.HP -= dmg\n",
    "            print(f\"{dmg} 만큼 피해를 받음. 남은피={self.HP}!\")\n",
    "\n",
    "\n",
    "class Sword:\n",
    "    def __init__(self,name, dmg):\n",
    "        self.name = name \n",
    "        self.dmg = dmg \n",
    "    \n",
    "                "
   ]
  },
  {
   "cell_type": "code",
   "execution_count": 96,
   "metadata": {},
   "outputs": [
    {
     "name": "stdout",
     "output_type": "stream",
     "text": [
      "바게트를 휘두르다!\n",
      "10만큼의 피해!\n",
      "10 만큼 피해를 받음. 남은피=90!\n"
     ]
    }
   ],
   "source": [
    "sm = Swordman(\"철수\")\n",
    "cm = Swordman(\"창민\")\n",
    "\n",
    "\n",
    "sword = Sword(\"바게트\",10)\n",
    "sm.get_weapon(sword)\n",
    "\n",
    "\n",
    "sm.attack(cm)\n"
   ]
  },
  {
   "cell_type": "code",
   "execution_count": 124,
   "metadata": {},
   "outputs": [
    {
     "name": "stdout",
     "output_type": "stream",
     "text": [
      "바게트를 휘두르다!\n",
      "10만큼의 피해!\n",
      "이미 싸늘한 주검입니다\n"
     ]
    }
   ],
   "source": [
    "sm.attack(cm)"
   ]
  },
  {
   "cell_type": "code",
   "execution_count": 2,
   "metadata": {},
   "outputs": [
    {
     "name": "stdout",
     "output_type": "stream",
     "text": [
      "안녕\n",
      "곤니찌와\n"
     ]
    }
   ],
   "source": [
    "class Hello: \n",
    "    def say_hello(self):\n",
    "        print(\"Hello\")\n",
    "\n",
    "class 안녕(Hello): \n",
    "    def say_hello(self):\n",
    "        print(\"안녕\")\n",
    "    \n",
    "class 곤니찌와(Hello): \n",
    "    def say_hello(self):\n",
    "        print(\"곤니찌와\")\n",
    "        \n",
    "\n",
    "hi = 안녕()\n",
    "hi.say_hello()\n",
    "\n",
    "hi2 = 곤니찌와()\n",
    "hi2.say_hello()"
   ]
  },
  {
   "cell_type": "code",
   "execution_count": 13,
   "metadata": {},
   "outputs": [
    {
     "name": "stdout",
     "output_type": "stream",
     "text": [
      "[1, '2', 2]\n"
     ]
    }
   ],
   "source": [
    "a_list = [1,\"2\"]\n",
    "# print(a_list.__add__([2]))  # + \n",
    "# a_list = a_list + [2]\n",
    "# a_list.__iadd__([2])  # +=\n",
    "a_list.append(2)\n",
    "print(a_list)"
   ]
  },
  {
   "cell_type": "code",
   "execution_count": 14,
   "metadata": {},
   "outputs": [
    {
     "name": "stdout",
     "output_type": "stream",
     "text": [
      "Help on list object:\n",
      "\n",
      "class list(object)\n",
      " |  list(iterable=(), /)\n",
      " |  \n",
      " |  Built-in mutable sequence.\n",
      " |  \n",
      " |  If no argument is given, the constructor creates a new empty list.\n",
      " |  The argument must be an iterable if specified.\n",
      " |  \n",
      " |  Methods defined here:\n",
      " |  \n",
      " |  __add__(self, value, /)\n",
      " |      Return self+value.\n",
      " |  \n",
      " |  __contains__(self, key, /)\n",
      " |      Return key in self.\n",
      " |  \n",
      " |  __delitem__(self, key, /)\n",
      " |      Delete self[key].\n",
      " |  \n",
      " |  __eq__(self, value, /)\n",
      " |      Return self==value.\n",
      " |  \n",
      " |  __ge__(self, value, /)\n",
      " |      Return self>=value.\n",
      " |  \n",
      " |  __getattribute__(self, name, /)\n",
      " |      Return getattr(self, name).\n",
      " |  \n",
      " |  __getitem__(...)\n",
      " |      x.__getitem__(y) <==> x[y]\n",
      " |  \n",
      " |  __gt__(self, value, /)\n",
      " |      Return self>value.\n",
      " |  \n",
      " |  __iadd__(self, value, /)\n",
      " |      Implement self+=value.\n",
      " |  \n",
      " |  __imul__(self, value, /)\n",
      " |      Implement self*=value.\n",
      " |  \n",
      " |  __init__(self, /, *args, **kwargs)\n",
      " |      Initialize self.  See help(type(self)) for accurate signature.\n",
      " |  \n",
      " |  __iter__(self, /)\n",
      " |      Implement iter(self).\n",
      " |  \n",
      " |  __le__(self, value, /)\n",
      " |      Return self<=value.\n",
      " |  \n",
      " |  __len__(self, /)\n",
      " |      Return len(self).\n",
      " |  \n",
      " |  __lt__(self, value, /)\n",
      " |      Return self<value.\n",
      " |  \n",
      " |  __mul__(self, value, /)\n",
      " |      Return self*value.\n",
      " |  \n",
      " |  __ne__(self, value, /)\n",
      " |      Return self!=value.\n",
      " |  \n",
      " |  __repr__(self, /)\n",
      " |      Return repr(self).\n",
      " |  \n",
      " |  __reversed__(self, /)\n",
      " |      Return a reverse iterator over the list.\n",
      " |  \n",
      " |  __rmul__(self, value, /)\n",
      " |      Return value*self.\n",
      " |  \n",
      " |  __setitem__(self, key, value, /)\n",
      " |      Set self[key] to value.\n",
      " |  \n",
      " |  __sizeof__(self, /)\n",
      " |      Return the size of the list in memory, in bytes.\n",
      " |  \n",
      " |  append(self, object, /)\n",
      " |      Append object to the end of the list.\n",
      " |  \n",
      " |  clear(self, /)\n",
      " |      Remove all items from list.\n",
      " |  \n",
      " |  copy(self, /)\n",
      " |      Return a shallow copy of the list.\n",
      " |  \n",
      " |  count(self, value, /)\n",
      " |      Return number of occurrences of value.\n",
      " |  \n",
      " |  extend(self, iterable, /)\n",
      " |      Extend list by appending elements from the iterable.\n",
      " |  \n",
      " |  index(self, value, start=0, stop=9223372036854775807, /)\n",
      " |      Return first index of value.\n",
      " |      \n",
      " |      Raises ValueError if the value is not present.\n",
      " |  \n",
      " |  insert(self, index, object, /)\n",
      " |      Insert object before index.\n",
      " |  \n",
      " |  pop(self, index=-1, /)\n",
      " |      Remove and return item at index (default last).\n",
      " |      \n",
      " |      Raises IndexError if list is empty or index is out of range.\n",
      " |  \n",
      " |  remove(self, value, /)\n",
      " |      Remove first occurrence of value.\n",
      " |      \n",
      " |      Raises ValueError if the value is not present.\n",
      " |  \n",
      " |  reverse(self, /)\n",
      " |      Reverse *IN PLACE*.\n",
      " |  \n",
      " |  sort(self, /, *, key=None, reverse=False)\n",
      " |      Sort the list in ascending order and return None.\n",
      " |      \n",
      " |      The sort is in-place (i.e. the list itself is modified) and stable (i.e. the\n",
      " |      order of two equal elements is maintained).\n",
      " |      \n",
      " |      If a key function is given, apply it once to each list item and sort them,\n",
      " |      ascending or descending, according to their function values.\n",
      " |      \n",
      " |      The reverse flag can be set to sort in descending order.\n",
      " |  \n",
      " |  ----------------------------------------------------------------------\n",
      " |  Class methods defined here:\n",
      " |  \n",
      " |  __class_getitem__(...) from builtins.type\n",
      " |      See PEP 585\n",
      " |  \n",
      " |  ----------------------------------------------------------------------\n",
      " |  Static methods defined here:\n",
      " |  \n",
      " |  __new__(*args, **kwargs) from builtins.type\n",
      " |      Create and return a new object.  See help(type) for accurate signature.\n",
      " |  \n",
      " |  ----------------------------------------------------------------------\n",
      " |  Data and other attributes defined here:\n",
      " |  \n",
      " |  __hash__ = None\n",
      "\n"
     ]
    }
   ],
   "source": [
    "help(a_list)"
   ]
  },
  {
   "cell_type": "code",
   "execution_count": 15,
   "metadata": {},
   "outputs": [],
   "source": [
    "car1_name = \"페라리\"\n",
    "car1_vel = 500\n",
    "def car1_drive(): \n",
    "    print(\"구과과과과\")\n",
    "    \n",
    "car1_name = \"레인지로버\"\n",
    "car1_vel = 300\n",
    "def car1_drive(): \n",
    "    print(\"푸바바바바ㅏㄱ\")\n",
    "    \n",
    "car1_name = \"마세라티\"\n",
    "car1_vel = 700\n",
    "def car1_drive(): \n",
    "    print(\"슈우우우우웅\")"
   ]
  },
  {
   "cell_type": "code",
   "execution_count": null,
   "metadata": {},
   "outputs": [],
   "source": [
    "class Car: \n",
    "    def __init__(self,name,vel,sound):\n",
    "        self.name = name \n",
    "        self.vel = vel \n",
    "        self.sound = sound\n",
    "    \n",
    "    def drive(self):\n",
    "        print(self.sound)\n",
    "        \n",
    "car1 = Car(\"페라리\",500,\"rnrhkrhkrhkrkrkrk\")\n",
    "car2 = Car(\"레인지로버\",400,\"ㅂㅈㄷㅂㅈㄱㅂㅈㅅㅂㅅㅈㄷ\")\n",
    "car3 = Car(\"마세라티\",500,\"슈우우우ㅜㅇ\")"
   ]
  },
  {
   "cell_type": "code",
   "execution_count": 19,
   "metadata": {},
   "outputs": [
    {
     "name": "stdout",
     "output_type": "stream",
     "text": [
      "헤이\n",
      "멍멍이야 이리온\n"
     ]
    }
   ],
   "source": [
    "class Dog: \n",
    "    def __init__(self,name,age):\n",
    "        self.name = name \n",
    "        self.age = age \n",
    "        \n",
    "    def callmydog(self):\n",
    "        print(f\"{self.name}야 이리온\")\n",
    "    \n",
    "    def callthedogs():\n",
    "        print(\"헤이\")\n",
    "    \n",
    "    \n",
    "    \n",
    "d = Dog(\"멍멍이\",12)\n",
    "Dog.callthedogs()\n",
    "# d.callthedogs()\n",
    "d.callmydog()\n"
   ]
  },
  {
   "cell_type": "code",
   "execution_count": 35,
   "metadata": {},
   "outputs": [],
   "source": [
    "class Magician: \n",
    "    def __init__(self,name,mana):\n",
    "        self.name = name\n",
    "        self.mana = mana\n",
    "        self.hp = 100\n",
    "    \n",
    "    def energy_ball(self,target):\n",
    "        print(f\"{self.name}이 {target.name}에게 에너지볼!\")\n",
    "        target.hp -= self.mana\n",
    "        \n",
    "    def status(self):\n",
    "        print(f\"name:{self.name}, mana:{self.mana}, hp:{self.hp}\")\n",
    "\n",
    "class FlameWizard(Magician):\n",
    "    def __init__(self,name,mana):\n",
    "        super().__init__(name,mana)\n",
    "        self.mana *= 2\n",
    "        self.hp *= 2\n",
    "        \n",
    "    def fire_ball(self,target):\n",
    "        print(f\"{self.name}이 {target.name}에게 파이어볼!\")\n",
    "        target.hp -= 2*self.mana\n",
    "\n",
    "class ThunderWizard(Magician):\n",
    "    def thunder_bolt(self):\n",
    "        print(\"썬더볼트!\")"
   ]
  },
  {
   "cell_type": "code",
   "execution_count": 34,
   "metadata": {},
   "outputs": [
    {
     "name": "stdout",
     "output_type": "stream",
     "text": [
      "cm 20 200\n",
      "sr이 cm에게 파이어볼!\n",
      "cm 20 80\n"
     ]
    }
   ],
   "source": [
    "f1 = FlameWizard(\"cm\",10)\n",
    "f2 = FlameWizard(\"sr\",30)\n",
    "f1.status()\n",
    "f2.fire_ball(f1)\n",
    "f1.status()"
   ]
  },
  {
   "cell_type": "code",
   "execution_count": 29,
   "metadata": {},
   "outputs": [
    {
     "name": "stdout",
     "output_type": "stream",
     "text": [
      "100\n",
      "sr이 cm에게 에너지볼!\n",
      "70\n"
     ]
    }
   ],
   "source": [
    "m1 = Magician(\"cm\",10)\n",
    "m2 = Magician(\"sr\",30)\n",
    "print(m1.hp)\n",
    "m2.energy_ball(m1)\n",
    "print(m1.hp)\n"
   ]
  },
  {
   "cell_type": "code",
   "execution_count": 23,
   "metadata": {},
   "outputs": [
    {
     "name": "stdout",
     "output_type": "stream",
     "text": [
      "파이어볼!\n",
      "에너지볼!\n"
     ]
    }
   ],
   "source": [
    "p1 = FlameWizard()\n",
    "p1.fire_ball()\n",
    "p1.energy_ball()\n"
   ]
  },
  {
   "cell_type": "code",
   "execution_count": 25,
   "metadata": {},
   "outputs": [
    {
     "name": "stdout",
     "output_type": "stream",
     "text": [
      "썬더볼트!\n",
      "에너지볼!\n"
     ]
    }
   ],
   "source": [
    "p2 = ThunderWizard()\n",
    "p2.thunder_bolt()\n",
    "p2.energy_ball()"
   ]
  },
  {
   "cell_type": "code",
   "execution_count": null,
   "metadata": {},
   "outputs": [],
   "source": []
  }
 ],
 "metadata": {
  "interpreter": {
   "hash": "aee8b7b246df8f9039afb4144a1f6fd8d2ca17a180786b69acc140d282b71a49"
  },
  "kernelspec": {
   "display_name": "Python 3.9.6 64-bit",
   "language": "python",
   "name": "python3"
  },
  "language_info": {
   "codemirror_mode": {
    "name": "ipython",
    "version": 3
   },
   "file_extension": ".py",
   "mimetype": "text/x-python",
   "name": "python",
   "nbconvert_exporter": "python",
   "pygments_lexer": "ipython3",
   "version": "3.9.6"
  },
  "orig_nbformat": 4
 },
 "nbformat": 4,
 "nbformat_minor": 2
}
