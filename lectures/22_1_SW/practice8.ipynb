{
 "cells": [
  {
   "cell_type": "code",
   "execution_count": 22,
   "metadata": {},
   "outputs": [],
   "source": [
    "class Cat: \n",
    "    \"\"\" 고양이 클래스 \n",
    "    입력: \n",
    "     - name: (str) 고양이의 이름입니다. \n",
    "     - color: (str) 고양이 색상입니다.\n",
    "     - age: (int) 고양이 나이입니다. \n",
    "    \"\"\"\n",
    "    def __init__(self, name, color, age):\n",
    "        self.name = name\n",
    "        self.color = color\n",
    "        self.age = age \n",
    "    \n",
    "    def introduce_myself(self):\n",
    "        print(f\"내 이름은 {self.name}, {self.color}이고, {self.age}살이야 \")"
   ]
  },
  {
   "cell_type": "code",
   "execution_count": 23,
   "metadata": {},
   "outputs": [
    {
     "name": "stdout",
     "output_type": "stream",
     "text": [
      "내 이름은 철수, 파란색이고, 3살이야 \n"
     ]
    }
   ],
   "source": [
    "x = Cat(\"철수\",\"파란색\",3)\n",
    "x.introduce_myself()\n"
   ]
  },
  {
   "cell_type": "code",
   "execution_count": 33,
   "metadata": {},
   "outputs": [],
   "source": [
    "class Dog: \n",
    "    def __init__(self, name):\n",
    "        self.name = name\n",
    "    \n",
    "    def bark(self): \n",
    "        print(\"왈왈\")\n",
    "        return None \n",
    "        \n",
    "    def walk(self):\n",
    "        print(\"총총\")"
   ]
  },
  {
   "cell_type": "code",
   "execution_count": 35,
   "metadata": {},
   "outputs": [
    {
     "name": "stdout",
     "output_type": "stream",
     "text": [
      "총총\n"
     ]
    }
   ],
   "source": [
    "my_dog = Dog(\"개\")\n",
    "my_dog.walk()"
   ]
  },
  {
   "cell_type": "code",
   "execution_count": 95,
   "metadata": {},
   "outputs": [],
   "source": [
    "class Human: \n",
    "    population = 0 \n",
    "    \n",
    "    def __init__(self, name):\n",
    "        self.name = name\n",
    "        self.age = 0 \n",
    "        self.job = None\n",
    "        Human.population += 1\n",
    "    \n",
    "    def introduce(self):\n",
    "        print(self.name, self.age, self.job)\n",
    "\n",
    "\n",
    "class Swordman(Human):\n",
    "    def __init__(self,name):\n",
    "        super().__init__(name)\n",
    "        self.job = \"swordman\"\n",
    "        self.weapon = None\n",
    "        self.HP = 100 \n",
    "    \n",
    "    def get_weapon(self, weapon):\n",
    "        self.weapon = weapon \n",
    "    \n",
    "    def attack(self,target):\n",
    "        print(f\"{self.weapon.name}를 휘두르다!\")\n",
    "        print(f\"{self.weapon.dmg}만큼의 피해!\")\n",
    "        target.attacked(self.weapon.dmg)\n",
    "\n",
    "    def attacked(self,dmg):\n",
    "        if self.HP == 0: \n",
    "            print(\"이미 싸늘한 주검입니다\")\n",
    "        elif self.HP <= dmg:\n",
    "            print(\"으앙 죽음.\")\n",
    "            self.HP = 0 \n",
    "        else: \n",
    "            self.HP -= dmg\n",
    "            print(f\"{dmg} 만큼 피해를 받음. 남은피={self.HP}!\")\n",
    "\n",
    "\n",
    "class Sword:\n",
    "    def __init__(self,name, dmg):\n",
    "        self.name = name \n",
    "        self.dmg = dmg \n",
    "    \n",
    "                "
   ]
  },
  {
   "cell_type": "code",
   "execution_count": 96,
   "metadata": {},
   "outputs": [
    {
     "name": "stdout",
     "output_type": "stream",
     "text": [
      "바게트를 휘두르다!\n",
      "10만큼의 피해!\n",
      "10 만큼 피해를 받음. 남은피=90!\n"
     ]
    }
   ],
   "source": [
    "sm = Swordman(\"철수\")\n",
    "cm = Swordman(\"창민\")\n",
    "\n",
    "\n",
    "sword = Sword(\"바게트\",10)\n",
    "sm.get_weapon(sword)\n",
    "\n",
    "\n",
    "sm.attack(cm)\n"
   ]
  },
  {
   "cell_type": "code",
   "execution_count": 124,
   "metadata": {},
   "outputs": [
    {
     "name": "stdout",
     "output_type": "stream",
     "text": [
      "바게트를 휘두르다!\n",
      "10만큼의 피해!\n",
      "이미 싸늘한 주검입니다\n"
     ]
    }
   ],
   "source": [
    "sm.attack(cm)"
   ]
  },
  {
   "cell_type": "code",
   "execution_count": 64,
   "metadata": {},
   "outputs": [
    {
     "name": "stdout",
     "output_type": "stream",
     "text": [
      "23\n",
      "23\n",
      "23\n"
     ]
    }
   ],
   "source": []
  },
  {
   "cell_type": "code",
   "execution_count": null,
   "metadata": {},
   "outputs": [],
   "source": []
  }
 ],
 "metadata": {
  "interpreter": {
   "hash": "aee8b7b246df8f9039afb4144a1f6fd8d2ca17a180786b69acc140d282b71a49"
  },
  "kernelspec": {
   "display_name": "Python 3.9.6 64-bit",
   "language": "python",
   "name": "python3"
  },
  "language_info": {
   "codemirror_mode": {
    "name": "ipython",
    "version": 3
   },
   "file_extension": ".py",
   "mimetype": "text/x-python",
   "name": "python",
   "nbconvert_exporter": "python",
   "pygments_lexer": "ipython3",
   "version": "3.9.6"
  },
  "orig_nbformat": 4
 },
 "nbformat": 4,
 "nbformat_minor": 2
}
