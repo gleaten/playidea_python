{
 "cells": [
  {
   "cell_type": "code",
   "execution_count": 38,
   "metadata": {},
   "outputs": [],
   "source": [
    "# 불변객체: number\n",
    "var1 = 1    #: int\n",
    "var2 = 1.1  # :flot \n",
    "var3 = None # :None\n",
    "var4 = True #False :Boolean \n",
    "\n",
    "# 불변객체: string \n",
    "var5 = \"my string\"\n",
    "\n",
    "# 불변객체: tuple \n",
    "var6 = (1,2,3,(12,2,3,),) \n",
    "# (1,)\n",
    "# tuple()"
   ]
  },
  {
   "cell_type": "code",
   "execution_count": 18,
   "metadata": {},
   "outputs": [
    {
     "name": "stdout",
     "output_type": "stream",
     "text": [
      "var1은 지금 값이 2 입니다\n"
     ]
    }
   ],
   "source": [
    "# var1 = 2\n",
    "# var5[2] = \"z\"\n",
    "var5 = f\"var1은 지금 값이 {var1} 입니다\"  # 재선언\n",
    "print(var5)"
   ]
  },
  {
   "cell_type": "code",
   "execution_count": 26,
   "metadata": {},
   "outputs": [
    {
     "name": "stdout",
     "output_type": "stream",
     "text": [
      "5\n"
     ]
    }
   ],
   "source": [
    "var7 = \"hello\"\n",
    "print(var7.upper())\n",
    "# split, upper, lower\n",
    "print(len(var7)) # var7.len()"
   ]
  },
  {
   "cell_type": "code",
   "execution_count": 36,
   "metadata": {},
   "outputs": [
    {
     "name": "stdout",
     "output_type": "stream",
     "text": [
      "hello1233\n"
     ]
    }
   ],
   "source": [
    "\n",
    "# var7.endswith(\"l\")\n",
    "var8 = var7 + str(1233)\n",
    "print(var8)"
   ]
  },
  {
   "cell_type": "code",
   "execution_count": 40,
   "metadata": {},
   "outputs": [
    {
     "data": {
      "text/plain": [
       "['__add__',\n",
       " '__class__',\n",
       " '__contains__',\n",
       " '__delattr__',\n",
       " '__dir__',\n",
       " '__doc__',\n",
       " '__eq__',\n",
       " '__format__',\n",
       " '__ge__',\n",
       " '__getattribute__',\n",
       " '__getitem__',\n",
       " '__getnewargs__',\n",
       " '__gt__',\n",
       " '__hash__',\n",
       " '__init__',\n",
       " '__init_subclass__',\n",
       " '__iter__',\n",
       " '__le__',\n",
       " '__len__',\n",
       " '__lt__',\n",
       " '__mod__',\n",
       " '__mul__',\n",
       " '__ne__',\n",
       " '__new__',\n",
       " '__reduce__',\n",
       " '__reduce_ex__',\n",
       " '__repr__',\n",
       " '__rmod__',\n",
       " '__rmul__',\n",
       " '__setattr__',\n",
       " '__sizeof__',\n",
       " '__str__',\n",
       " '__subclasshook__',\n",
       " 'capitalize',\n",
       " 'casefold',\n",
       " 'center',\n",
       " 'count',\n",
       " 'encode',\n",
       " 'endswith',\n",
       " 'expandtabs',\n",
       " 'find',\n",
       " 'format',\n",
       " 'format_map',\n",
       " 'index',\n",
       " 'isalnum',\n",
       " 'isalpha',\n",
       " 'isascii',\n",
       " 'isdecimal',\n",
       " 'isdigit',\n",
       " 'isidentifier',\n",
       " 'islower',\n",
       " 'isnumeric',\n",
       " 'isprintable',\n",
       " 'isspace',\n",
       " 'istitle',\n",
       " 'isupper',\n",
       " 'join',\n",
       " 'ljust',\n",
       " 'lower',\n",
       " 'lstrip',\n",
       " 'maketrans',\n",
       " 'partition',\n",
       " 'removeprefix',\n",
       " 'removesuffix',\n",
       " 'replace',\n",
       " 'rfind',\n",
       " 'rindex',\n",
       " 'rjust',\n",
       " 'rpartition',\n",
       " 'rsplit',\n",
       " 'rstrip',\n",
       " 'split',\n",
       " 'splitlines',\n",
       " 'startswith',\n",
       " 'strip',\n",
       " 'swapcase',\n",
       " 'title',\n",
       " 'translate',\n",
       " 'upper',\n",
       " 'zfill']"
      ]
     },
     "execution_count": 40,
     "metadata": {},
     "output_type": "execute_result"
    }
   ],
   "source": [
    "dir(var7)"
   ]
  },
  {
   "cell_type": "code",
   "execution_count": 39,
   "metadata": {},
   "outputs": [
    {
     "data": {
      "text/plain": [
       "['__add__',\n",
       " '__class__',\n",
       " '__class_getitem__',\n",
       " '__contains__',\n",
       " '__delattr__',\n",
       " '__dir__',\n",
       " '__doc__',\n",
       " '__eq__',\n",
       " '__format__',\n",
       " '__ge__',\n",
       " '__getattribute__',\n",
       " '__getitem__',\n",
       " '__getnewargs__',\n",
       " '__gt__',\n",
       " '__hash__',\n",
       " '__init__',\n",
       " '__init_subclass__',\n",
       " '__iter__',\n",
       " '__le__',\n",
       " '__len__',\n",
       " '__lt__',\n",
       " '__mul__',\n",
       " '__ne__',\n",
       " '__new__',\n",
       " '__reduce__',\n",
       " '__reduce_ex__',\n",
       " '__repr__',\n",
       " '__rmul__',\n",
       " '__setattr__',\n",
       " '__sizeof__',\n",
       " '__str__',\n",
       " '__subclasshook__',\n",
       " 'count',\n",
       " 'index']"
      ]
     },
     "execution_count": 39,
     "metadata": {},
     "output_type": "execute_result"
    }
   ],
   "source": [
    "dir(var6)"
   ]
  },
  {
   "cell_type": "code",
   "execution_count": 49,
   "metadata": {},
   "outputs": [
    {
     "name": "stdout",
     "output_type": "stream",
     "text": [
      "(1, 2, 3, (12, 2, 3), 2, 3, 1, 2, 2, 3, 1, 2, 2, 3, 1, 2, 2, 3, 1, 2, (2, 3, 1, 2), 2, 3, 1, 2)\n",
      "(1, 2, 3, (12, 2, 3), 2, 3, 1, 2, 2, 3, 1, 2, 2, 3, 1, 2, 2, 3, 1, 2, (2, 3, 1, 2), 2, 3, 1, 2, (2, 3, 1, 2))\n"
     ]
    }
   ],
   "source": [
    "print(var6)\n",
    "# var6 = var6 + (2,3,1,2,)\n",
    "component_ = (2,3,1,2,)\n",
    "var6 += (component_,)\n",
    "print(var6)"
   ]
  },
  {
   "cell_type": "code",
   "execution_count": 45,
   "metadata": {},
   "outputs": [
    {
     "data": {
      "text/plain": [
       "2"
      ]
     },
     "execution_count": 45,
     "metadata": {},
     "output_type": "execute_result"
    }
   ],
   "source": [
    "var6[4]"
   ]
  },
  {
   "cell_type": "code",
   "execution_count": 57,
   "metadata": {},
   "outputs": [
    {
     "name": "stdout",
     "output_type": "stream",
     "text": [
      "1 2 3 4\n",
      "2 1 4 3\n",
      "1 2 3 4\n",
      "1 2 3 4\n"
     ]
    }
   ],
   "source": [
    "a,b,c,d = 1,2,3,4\n",
    "print(f\"{a} {b} {c} {d}\")\n",
    "\n",
    "a,b,c,d = b,a,d,c\n",
    "print(f\"{a} {b} {c} {d}\")\n",
    "\n",
    "a,(b,(c,d)) = b,(a,(d,c))\n",
    "print(f\"{a} {b} {c} {d}\")\n",
    "\n",
    "e = (a,b,c,d,)\n",
    "h,j,k,l = e \n",
    "print(f\"{h} {j} {k} {l}\")\n",
    "\n",
    "# t = a\n",
    "# a = b\n",
    "# b = t \n",
    "# print(a)\n",
    "# print(b)"
   ]
  },
  {
   "cell_type": "code",
   "execution_count": 67,
   "metadata": {},
   "outputs": [
    {
     "name": "stdout",
     "output_type": "stream",
     "text": [
      "(1, 2, 3, 4)\n",
      "e의 max는 4\n",
      "1\n",
      "4\n",
      "1\n",
      "2\n"
     ]
    }
   ],
   "source": [
    "print(e)\n",
    "print(f\"e의 max는 {max(e)}\")\n",
    "print(min(e))\n",
    "print(len(e))\n",
    "print(e.count(3))\n",
    "print(e.index(3))"
   ]
  },
  {
   "cell_type": "code",
   "execution_count": 80,
   "metadata": {},
   "outputs": [
    {
     "name": "stdout",
     "output_type": "stream",
     "text": [
      "False\n",
      "True\n"
     ]
    }
   ],
   "source": [
    "# 시작과 끝\n",
    "start_point = 0.044\n",
    "dx = 0.001\n",
    "dt = 2\n",
    "moved_point = start_point - dx * dt # 0.044 - 0.001*2\n",
    "end_point = 0.042\n",
    "\n",
    "print(moved_point == end_point) # 부동소수점은 비교를 하면 안됨. \n",
    "\n",
    "eps_ = 0.00000001\n",
    "print(abs(moved_point - end_point) < eps_) # 거리가 가까움으로 비교"
   ]
  },
  {
   "cell_type": "code",
   "execution_count": 75,
   "metadata": {},
   "outputs": [
    {
     "name": "stdout",
     "output_type": "stream",
     "text": [
      "0.09090909090909091\n"
     ]
    }
   ],
   "source": [
    "print(1/11)"
   ]
  },
  {
   "cell_type": "code",
   "execution_count": 82,
   "metadata": {},
   "outputs": [
    {
     "name": "stdout",
     "output_type": "stream",
     "text": [
      "Hello\n",
      "World\n"
     ]
    }
   ],
   "source": [
    "# 아래의 my_str 변수를 hello와 world로 나눈다면? \n",
    "my_str = \"HelloWorld\"\n",
    "str1, str2 = my_str[:5], my_str[5:]\n",
    "print(str1)\n",
    "print(str2)\n"
   ]
  },
  {
   "cell_type": "code",
   "execution_count": 88,
   "metadata": {},
   "outputs": [
    {
     "name": "stdout",
     "output_type": "stream",
     "text": [
      "[1, 2, 'aa', 12, 12412]\n",
      "<class 'list'>\n"
     ]
    }
   ],
   "source": [
    "var1 = [1,2,\"aa\",12,12412]\n",
    "print(var1)\n",
    "print(type(var1))"
   ]
  },
  {
   "cell_type": "code",
   "execution_count": 84,
   "metadata": {},
   "outputs": [
    {
     "data": {
      "text/plain": [
       "['__add__',\n",
       " '__class__',\n",
       " '__class_getitem__',\n",
       " '__contains__',\n",
       " '__delattr__',\n",
       " '__delitem__',\n",
       " '__dir__',\n",
       " '__doc__',\n",
       " '__eq__',\n",
       " '__format__',\n",
       " '__ge__',\n",
       " '__getattribute__',\n",
       " '__getitem__',\n",
       " '__gt__',\n",
       " '__hash__',\n",
       " '__iadd__',\n",
       " '__imul__',\n",
       " '__init__',\n",
       " '__init_subclass__',\n",
       " '__iter__',\n",
       " '__le__',\n",
       " '__len__',\n",
       " '__lt__',\n",
       " '__mul__',\n",
       " '__ne__',\n",
       " '__new__',\n",
       " '__reduce__',\n",
       " '__reduce_ex__',\n",
       " '__repr__',\n",
       " '__reversed__',\n",
       " '__rmul__',\n",
       " '__setattr__',\n",
       " '__setitem__',\n",
       " '__sizeof__',\n",
       " '__str__',\n",
       " '__subclasshook__',\n",
       " 'append',\n",
       " 'clear',\n",
       " 'copy',\n",
       " 'count',\n",
       " 'extend',\n",
       " 'index',\n",
       " 'insert',\n",
       " 'pop',\n",
       " 'remove',\n",
       " 'reverse',\n",
       " 'sort']"
      ]
     },
     "execution_count": 84,
     "metadata": {},
     "output_type": "execute_result"
    }
   ],
   "source": [
    "dir(var1)"
   ]
  },
  {
   "cell_type": "code",
   "execution_count": null,
   "metadata": {},
   "outputs": [],
   "source": [
    "# 'append',\n",
    "#  'clear',\n",
    "#  'copy',\n",
    "#  'count',\n",
    "#  'extend',\n",
    "#  'index',\n",
    "#  'insert',\n",
    "#  'pop',\n",
    "#  'remove',\n",
    "#  'reverse',\n",
    "#  'sort'"
   ]
  },
  {
   "cell_type": "code",
   "execution_count": 91,
   "metadata": {},
   "outputs": [
    {
     "name": "stdout",
     "output_type": "stream",
     "text": [
      "[1, 2, [1, 2, 3], (1, 2, 3), [1, 2, 3, (1, 2, 3)], 'aasdasd', None, True, False]\n"
     ]
    }
   ],
   "source": [
    "var1 = [1,2,[1,2,3],(1,2,3,),[1,2,3,(1,2,3,)],\n",
    "        \"aasdasd\", None, True, False]\n",
    "print(var1)"
   ]
  },
  {
   "cell_type": "code",
   "execution_count": 94,
   "metadata": {},
   "outputs": [
    {
     "name": "stdout",
     "output_type": "stream",
     "text": [
      "[1, 2, 3, 2, 4, 12, 2, 4, 12, 2, 4, 12, 2, 4, 12]\n"
     ]
    }
   ],
   "source": [
    "var2 = [1,2,3] + [2,4,12]*2\n",
    "print(var2)"
   ]
  },
  {
   "cell_type": "code",
   "execution_count": 96,
   "metadata": {},
   "outputs": [
    {
     "name": "stdout",
     "output_type": "stream",
     "text": [
      "[1, 2, 3, 2, 4, 12, 2, 4, 12, 2, 4, 12, 2, 4, 12]\n",
      "<class 'list'>\n"
     ]
    }
   ],
   "source": [
    "var3 = list(tuple(var2))\n",
    "print(var3)\n",
    "print(type(var3))"
   ]
  },
  {
   "cell_type": "code",
   "execution_count": 105,
   "metadata": {},
   "outputs": [
    {
     "name": "stdout",
     "output_type": "stream",
     "text": [
      "hyemi <class 'str'> h 5\n",
      "['h', 'y', 'e', 'm', 'i'] <class 'list'> h 5\n",
      "['h', 'y', 'e', 'm', 'i'] <class 'str'> [ 25\n"
     ]
    }
   ],
   "source": [
    "var4 = \"hyemi\"\n",
    "print(f\"{var4} {type(var4)} {var4[0]} {len(var4)}\")\n",
    "\n",
    "var4 = list(var4)\n",
    "print(f\"{var4} {type(var4)} {var4[0]} {len(var4)}\")\n",
    "\n",
    "var4 = str(var4)\n",
    "print(f\"{var4} {type(var4)} {var4[0]} {len(var4)}\")\n"
   ]
  },
  {
   "cell_type": "code",
   "execution_count": 127,
   "metadata": {},
   "outputs": [
    {
     "name": "stdout",
     "output_type": "stream",
     "text": [
      "5\n",
      "['Nice', 'to', 'meet', 'you', 'guys']\n",
      "<class 'list'>\n"
     ]
    }
   ],
   "source": [
    "s = \"Nice to meet you guys\"\n",
    "\n",
    "s = s.split()\n",
    "print(len(s))\n",
    "print(s)\n",
    "print(type(s))"
   ]
  },
  {
   "cell_type": "code",
   "execution_count": 145,
   "metadata": {},
   "outputs": [
    {
     "name": "stdout",
     "output_type": "stream",
     "text": [
      "['Nice', 'to'] --- ['meet', 'you', 'guys']\n",
      "['Nice', 'to', 2, 3, 4]\n",
      "['Nice', 'to', 2, 3, 4, [2, 3, 4]]\n",
      "['Nice', 'to', 2, 3, 4, [2, 3, 4], 999]\n",
      "['Nice', 'to', 2, 3, 4, [2, 3, 4], 999, [2, 3, 4]]\n"
     ]
    }
   ],
   "source": [
    "s1, s2 = s[:2],s[2:]\n",
    "print(f\"{s1} --- {s2}\")\n",
    "s1 += [2,3,4]\n",
    "print(s1)\n",
    "s1.append([2,3,4])\n",
    "print(s1)\n",
    "s1.append(999)\n",
    "print(s1)\n",
    "s1 += [[2,3,4]]\n",
    "print(s1)\n"
   ]
  },
  {
   "cell_type": "code",
   "execution_count": 150,
   "metadata": {},
   "outputs": [
    {
     "name": "stdout",
     "output_type": "stream",
     "text": [
      "[1, 2, 3, 4, 5]\n",
      "(1, 5, 2, 4, 3)\n"
     ]
    }
   ],
   "source": [
    "a = (1,5,2,4,3)\n",
    "# a = sorted(a)\n",
    "print(sorted(a))\n",
    "print(a)"
   ]
  },
  {
   "cell_type": "code",
   "execution_count": 149,
   "metadata": {},
   "outputs": [
    {
     "name": "stdout",
     "output_type": "stream",
     "text": [
      "None\n",
      "[1, 2, 3, 4, 5]\n"
     ]
    }
   ],
   "source": [
    "a = [1,5,2,4,3]\n",
    "print(a.sort())\n",
    "print(a)"
   ]
  },
  {
   "cell_type": "code",
   "execution_count": null,
   "metadata": {},
   "outputs": [],
   "source": []
  }
 ],
 "metadata": {
  "interpreter": {
   "hash": "aee8b7b246df8f9039afb4144a1f6fd8d2ca17a180786b69acc140d282b71a49"
  },
  "kernelspec": {
   "display_name": "Python 3.9.6 64-bit",
   "language": "python",
   "name": "python3"
  },
  "language_info": {
   "codemirror_mode": {
    "name": "ipython",
    "version": 3
   },
   "file_extension": ".py",
   "mimetype": "text/x-python",
   "name": "python",
   "nbconvert_exporter": "python",
   "pygments_lexer": "ipython3",
   "version": "3.9.6"
  },
  "orig_nbformat": 4
 },
 "nbformat": 4,
 "nbformat_minor": 2
}
