{
 "cells": [
  {
   "cell_type": "code",
   "execution_count": 4,
   "metadata": {},
   "outputs": [
    {
     "name": "stdout",
     "output_type": "stream",
     "text": [
      "1\n"
     ]
    }
   ],
   "source": [
    "x = 1\n",
    "print(x)\n",
    "# len(x)\n",
    "\n",
    "x,y = 1,2\n",
    "x,y = y,x"
   ]
  },
  {
   "cell_type": "code",
   "execution_count": 6,
   "metadata": {},
   "outputs": [
    {
     "name": "stdout",
     "output_type": "stream",
     "text": [
      "1\n",
      "2\n",
      "3\n",
      "4\n"
     ]
    }
   ],
   "source": [
    "x = [1,2,3,4]\n",
    "# if:\n",
    "#     pass\n",
    "# for \n",
    "# while \n",
    "# def\n",
    "for i in x: \n",
    "    print(i)"
   ]
  },
  {
   "cell_type": "code",
   "execution_count": 8,
   "metadata": {},
   "outputs": [
    {
     "name": "stdout",
     "output_type": "stream",
     "text": [
      "x는 4보다 크다\n",
      "x는 4보다 크다\n",
      "x는 4보다 크다\n",
      "끝\n"
     ]
    }
   ],
   "source": [
    "x = 2\n",
    "if x%2==0:\n",
    "    print(\"x는 4보다 크다\")\n",
    "    print(\"x는 4보다 크다\")\n",
    "    print(\"x는 4보다 크다\")\n",
    "elif x>3: \n",
    "    print(\"x는 3과 4 사이다\")\n",
    "    print(\"x는 3과 4 사이다\")\n",
    "    print(\"x는 3과 4 사이다\")\n",
    "elif x==2: \n",
    "    print(\"x는 2다\")\n",
    "else: \n",
    "    print(\"x는 3보다 작고 2는 아니야\")\n",
    "    \n",
    "    \n",
    "print(\"끝\")"
   ]
  },
  {
   "cell_type": "code",
   "execution_count": null,
   "metadata": {},
   "outputs": [],
   "source": [
    "x = 2\n",
    "if x%2==0:\n",
    "    print(\"x는 짝수야\")\n",
    "\n",
    "if x>3: \n",
    "    print(\"x는 3보다 커\")\n",
    "\n",
    "\n",
    "if x==2: \n",
    "    print(\"x는 2다\")\n",
    "else: \n",
    "    print(\"x는 2는 아니야\")\n",
    "    \n",
    "    \n",
    "print(\"끝\")"
   ]
  },
  {
   "cell_type": "code",
   "execution_count": 10,
   "metadata": {},
   "outputs": [
    {
     "name": "stdout",
     "output_type": "stream",
     "text": [
      "A\n"
     ]
    }
   ],
   "source": [
    "score = 100\n",
    "\n",
    "if score>100:\n",
    "    print(\"점수의 최대치는 100점입니다. 입력을 확인해주세요\")\n",
    "else: \n",
    "    if score<=100 and score>95: \n",
    "        print(\"A\")\n",
    "    elif score<=95 and score>80:\n",
    "        print(\"B\")\n",
    "    elif score<=80 and score>60:\n",
    "        print(\"C\")\n",
    "    else: \n",
    "        print(\"F\")"
   ]
  },
  {
   "cell_type": "code",
   "execution_count": null,
   "metadata": {},
   "outputs": [],
   "source": [
    "score = 100\n",
    "\n",
    "if score>100:\n",
    "    print(\"점수의 최대치는 100점입니다. 입력을 확인해주세요\")\n",
    "elif score<0: \n",
    "    print(\"점수의 최소치는 0점입니다. 입력을 확인해주세요\")\n",
    "else: \n",
    "    if score>95: \n",
    "        print(\"A\")\n",
    "    elif score>80:\n",
    "        print(\"B\")\n",
    "    elif score>60:\n",
    "        print(\"C\")\n",
    "    else: \n",
    "        print(\"F\")"
   ]
  },
  {
   "cell_type": "code",
   "execution_count": 12,
   "metadata": {},
   "outputs": [
    {
     "name": "stdout",
     "output_type": "stream",
     "text": [
      "True\n",
      "True\n",
      "True\n",
      "False\n"
     ]
    }
   ],
   "source": [
    "print(True or True)\n",
    "print(True or False)\n",
    "print(False or True)\n",
    "print(False or False)"
   ]
  },
  {
   "cell_type": "code",
   "execution_count": 13,
   "metadata": {},
   "outputs": [
    {
     "name": "stdout",
     "output_type": "stream",
     "text": [
      "쉬자\n"
     ]
    }
   ],
   "source": [
    "배고픔 = True\n",
    "오랜만 = False \n",
    "\n",
    "if 배고픔 and 오랜만:\n",
    "    print(\"밥먹자\")\n",
    "else: \n",
    "    print(\"쉬자\")"
   ]
  },
  {
   "cell_type": "code",
   "execution_count": null,
   "metadata": {},
   "outputs": [],
   "source": [
    "money = 5000\n",
    "mother_card = True\n",
    "\n",
    "if money >=7000 or mother_card:\n",
    "    print(\"신촌으로 나가자\")\n",
    "else: \n",
    "    print(\"학관 ㄲ\")"
   ]
  },
  {
   "cell_type": "code",
   "execution_count": 20,
   "metadata": {},
   "outputs": [
    {
     "name": "stdout",
     "output_type": "stream",
     "text": [
      "True\n",
      "True\n",
      "True\n",
      "True\n"
     ]
    }
   ],
   "source": [
    "x = \"my str\"\n",
    "print(\"s\" in x)\n",
    "\n",
    "# x = (1,2,3,1,)\n",
    "# x = [1,2,3,1]\n",
    "x = {1,2,3}\n",
    "print(1 in x)\n",
    "\n",
    "x = {1:2,2:4,3:6} # key를 가지고 있냐고 묻는 것. \n",
    "print(1 in x)\n",
    "print(6 in x.values())"
   ]
  },
  {
   "cell_type": "code",
   "execution_count": null,
   "metadata": {},
   "outputs": [],
   "source": [
    "my_bag = []\n",
    "my_bag += ['phone', 'perfume', 'notebook', 'book', 'card']\n",
    "###\n",
    "##\n",
    "#\n",
    "if \"money\" in my_bag: \n",
    "    print(\"로또 사자\")\n",
    "else: \n",
    "    if \"card\" in my_bag:\n",
    "        print(\"밥이나 먹자\")    \n",
    "    else: \n",
    "        print(\"뭐하지...\")"
   ]
  },
  {
   "cell_type": "code",
   "execution_count": 21,
   "metadata": {},
   "outputs": [],
   "source": [
    "vending_machine ={\"코카콜라\":1000, \"환타\":1000}\n",
    "# vending_machine =[[\"코카콜라\",1000], [\"환타\",1000]]\n"
   ]
  },
  {
   "cell_type": "code",
   "execution_count": 26,
   "metadata": {},
   "outputs": [
    {
     "name": "stdout",
     "output_type": "stream",
     "text": [
      "텅\n"
     ]
    }
   ],
   "source": [
    "my_bag = []\n",
    "# my_bag += ['phone', 'perfume', 'notebook', 'book', 'card']\n",
    "\n",
    "# if len(my_bag)==0: \n",
    "#     print(\"가방이 가볍다\")\n",
    "# else: \n",
    "#     print(\"무언가 들었다\") \n",
    "\n",
    "# if True: \n",
    "#     print(\"true\")\n",
    "# else: \n",
    "#     print(\"false\") \n",
    "\n",
    "if my_bag: \n",
    "    print(\"무언가 들었다\")\n",
    "else: \n",
    "    print(\"텅\")  "
   ]
  },
  {
   "cell_type": "code",
   "execution_count": null,
   "metadata": {},
   "outputs": [],
   "source": [
    "a = 1 \n",
    "\n",
    "if a>=0:  #  a>=0  >> 1>=0 >> True \n",
    "    print(\"양수\")\n",
    "else: \n",
    "    print(\"음수\")"
   ]
  },
  {
   "cell_type": "code",
   "execution_count": 28,
   "metadata": {},
   "outputs": [
    {
     "name": "stdout",
     "output_type": "stream",
     "text": [
      "저 안에 짝수가 있더라. 그 짝수는...\n",
      "[2, 4, 6, 8]\n"
     ]
    }
   ],
   "source": [
    "my_list = [1,2,3,4,5,6,7,7,8]\n",
    "evens = []\n",
    "\n",
    "for i in my_list: \n",
    "    if i%2 ==0: \n",
    "        evens += [i]\n",
    "\n",
    "if evens: \n",
    "    print(\"저 안에 짝수가 있더라. 그 짝수는...\")\n",
    "    print(evens)\n",
    "else: \n",
    "    print(\"짝수가 없어\")"
   ]
  },
  {
   "cell_type": "code",
   "execution_count": 32,
   "metadata": {},
   "outputs": [
    {
     "name": "stdout",
     "output_type": "stream",
     "text": [
      "1\n",
      "2\n",
      "3\n",
      "1\n"
     ]
    }
   ],
   "source": [
    "# x = [1,2,3,4,5,6,7,7,8]\n",
    "# x = (1,2,3,1,)\n",
    "# x = {1,2,3,1,1,1,1}\n",
    "x = \"1231\" # == 1231\n",
    "for i in x: \n",
    "    print(i)\n",
    "    \n",
    "    \n",
    "# x = {1:2,3:6,4:8}"
   ]
  },
  {
   "cell_type": "code",
   "execution_count": 36,
   "metadata": {},
   "outputs": [
    {
     "name": "stdout",
     "output_type": "stream",
     "text": [
      "2\n",
      "1\n",
      "4\n"
     ]
    }
   ],
   "source": [
    "x = [1,2,3,1,2,4]\n",
    "\n",
    "for i in range(1,6,2): #x[::]\n",
    "    print(x[i])\n",
    "    \n",
    "# for i in x: \n",
    "#     print(i)"
   ]
  },
  {
   "cell_type": "code",
   "execution_count": null,
   "metadata": {},
   "outputs": [],
   "source": [
    "# enumerate, zip, range, dictionary, "
   ]
  }
 ],
 "metadata": {
  "interpreter": {
   "hash": "aee8b7b246df8f9039afb4144a1f6fd8d2ca17a180786b69acc140d282b71a49"
  },
  "kernelspec": {
   "display_name": "Python 3.9.6 64-bit",
   "language": "python",
   "name": "python3"
  },
  "language_info": {
   "codemirror_mode": {
    "name": "ipython",
    "version": 3
   },
   "file_extension": ".py",
   "mimetype": "text/x-python",
   "name": "python",
   "nbconvert_exporter": "python",
   "pygments_lexer": "ipython3",
   "version": "3.9.6"
  },
  "orig_nbformat": 4
 },
 "nbformat": 4,
 "nbformat_minor": 2
}
