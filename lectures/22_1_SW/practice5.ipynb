{
 "cells": [
  {
   "cell_type": "code",
   "execution_count": 4,
   "metadata": {},
   "outputs": [
    {
     "name": "stdout",
     "output_type": "stream",
     "text": [
      "1\n"
     ]
    }
   ],
   "source": [
    "x = 1\n",
    "print(x)\n",
    "# len(x)\n",
    "\n",
    "x,y = 1,2\n",
    "x,y = y,x"
   ]
  },
  {
   "cell_type": "code",
   "execution_count": 6,
   "metadata": {},
   "outputs": [
    {
     "name": "stdout",
     "output_type": "stream",
     "text": [
      "1\n",
      "2\n",
      "3\n",
      "4\n"
     ]
    }
   ],
   "source": [
    "x = [1,2,3,4]\n",
    "# if:\n",
    "#     pass\n",
    "# for \n",
    "# while \n",
    "# def\n",
    "for i in x: \n",
    "    print(i)"
   ]
  },
  {
   "cell_type": "code",
   "execution_count": 8,
   "metadata": {},
   "outputs": [
    {
     "name": "stdout",
     "output_type": "stream",
     "text": [
      "x는 4보다 크다\n",
      "x는 4보다 크다\n",
      "x는 4보다 크다\n",
      "끝\n"
     ]
    }
   ],
   "source": [
    "x = 2\n",
    "if x%2==0:\n",
    "    print(\"x는 4보다 크다\")\n",
    "    print(\"x는 4보다 크다\")\n",
    "    print(\"x는 4보다 크다\")\n",
    "elif x>3: \n",
    "    print(\"x는 3과 4 사이다\")\n",
    "    print(\"x는 3과 4 사이다\")\n",
    "    print(\"x는 3과 4 사이다\")\n",
    "elif x==2: \n",
    "    print(\"x는 2다\")\n",
    "else: \n",
    "    print(\"x는 3보다 작고 2는 아니야\")\n",
    "    \n",
    "    \n",
    "print(\"끝\")"
   ]
  },
  {
   "cell_type": "code",
   "execution_count": null,
   "metadata": {},
   "outputs": [],
   "source": [
    "x = 2\n",
    "if x%2==0:\n",
    "    print(\"x는 짝수야\")\n",
    "\n",
    "if x>3: \n",
    "    print(\"x는 3보다 커\")\n",
    "\n",
    "\n",
    "if x==2: \n",
    "    print(\"x는 2다\")\n",
    "else: \n",
    "    print(\"x는 2는 아니야\")\n",
    "    \n",
    "    \n",
    "print(\"끝\")"
   ]
  },
  {
   "cell_type": "code",
   "execution_count": 10,
   "metadata": {},
   "outputs": [
    {
     "name": "stdout",
     "output_type": "stream",
     "text": [
      "A\n"
     ]
    }
   ],
   "source": [
    "score = 100\n",
    "\n",
    "if score>100:\n",
    "    print(\"점수의 최대치는 100점입니다. 입력을 확인해주세요\")\n",
    "else: \n",
    "    if score<=100 and score>95: \n",
    "        print(\"A\")\n",
    "    elif score<=95 and score>80:\n",
    "        print(\"B\")\n",
    "    elif score<=80 and score>60:\n",
    "        print(\"C\")\n",
    "    else: \n",
    "        print(\"F\")"
   ]
  },
  {
   "cell_type": "code",
   "execution_count": null,
   "metadata": {},
   "outputs": [],
   "source": [
    "score = 100\n",
    "\n",
    "if score>100:\n",
    "    print(\"점수의 최대치는 100점입니다. 입력을 확인해주세요\")\n",
    "elif score<0: \n",
    "    print(\"점수의 최소치는 0점입니다. 입력을 확인해주세요\")\n",
    "else: \n",
    "    if score>95: \n",
    "        print(\"A\")\n",
    "    elif score>80:\n",
    "        print(\"B\")\n",
    "    elif score>60:\n",
    "        print(\"C\")\n",
    "    else: \n",
    "        print(\"F\")"
   ]
  },
  {
   "cell_type": "code",
   "execution_count": 12,
   "metadata": {},
   "outputs": [
    {
     "name": "stdout",
     "output_type": "stream",
     "text": [
      "True\n",
      "True\n",
      "True\n",
      "False\n"
     ]
    }
   ],
   "source": [
    "print(True or True)\n",
    "print(True or False)\n",
    "print(False or True)\n",
    "print(False or False)"
   ]
  },
  {
   "cell_type": "code",
   "execution_count": 13,
   "metadata": {},
   "outputs": [
    {
     "name": "stdout",
     "output_type": "stream",
     "text": [
      "쉬자\n"
     ]
    }
   ],
   "source": [
    "배고픔 = True\n",
    "오랜만 = False \n",
    "\n",
    "if 배고픔 and 오랜만:\n",
    "    print(\"밥먹자\")\n",
    "else: \n",
    "    print(\"쉬자\")"
   ]
  },
  {
   "cell_type": "code",
   "execution_count": null,
   "metadata": {},
   "outputs": [],
   "source": [
    "money = 5000\n",
    "mother_card = True\n",
    "\n",
    "if money >=7000 or mother_card:\n",
    "    print(\"신촌으로 나가자\")\n",
    "else: \n",
    "    print(\"학관 ㄲ\")"
   ]
  },
  {
   "cell_type": "code",
   "execution_count": 20,
   "metadata": {},
   "outputs": [
    {
     "name": "stdout",
     "output_type": "stream",
     "text": [
      "True\n",
      "True\n",
      "True\n",
      "True\n"
     ]
    }
   ],
   "source": [
    "x = \"my str\"\n",
    "print(\"s\" in x)\n",
    "\n",
    "# x = (1,2,3,1,)\n",
    "# x = [1,2,3,1]\n",
    "x = {1,2,3}\n",
    "print(1 in x)\n",
    "\n",
    "x = {1:2,2:4,3:6} # key를 가지고 있냐고 묻는 것. \n",
    "print(1 in x)\n",
    "print(6 in x.values())"
   ]
  },
  {
   "cell_type": "code",
   "execution_count": null,
   "metadata": {},
   "outputs": [],
   "source": [
    "my_bag = []\n",
    "my_bag += ['phone', 'perfume', 'notebook', 'book', 'card']\n",
    "###\n",
    "##\n",
    "#\n",
    "if \"money\" in my_bag: \n",
    "    print(\"로또 사자\")\n",
    "else: \n",
    "    if \"card\" in my_bag:\n",
    "        print(\"밥이나 먹자\")    \n",
    "    else: \n",
    "        print(\"뭐하지...\")"
   ]
  },
  {
   "cell_type": "code",
   "execution_count": 21,
   "metadata": {},
   "outputs": [],
   "source": [
    "vending_machine ={\"코카콜라\":1000, \"환타\":1000}\n",
    "# vending_machine =[[\"코카콜라\",1000], [\"환타\",1000]]\n"
   ]
  },
  {
   "cell_type": "code",
   "execution_count": 26,
   "metadata": {},
   "outputs": [
    {
     "name": "stdout",
     "output_type": "stream",
     "text": [
      "텅\n"
     ]
    }
   ],
   "source": [
    "my_bag = []\n",
    "# my_bag += ['phone', 'perfume', 'notebook', 'book', 'card']\n",
    "\n",
    "# if len(my_bag)==0: \n",
    "#     print(\"가방이 가볍다\")\n",
    "# else: \n",
    "#     print(\"무언가 들었다\") \n",
    "\n",
    "# if True: \n",
    "#     print(\"true\")\n",
    "# else: \n",
    "#     print(\"false\") \n",
    "\n",
    "if my_bag: \n",
    "    print(\"무언가 들었다\")\n",
    "else: \n",
    "    print(\"텅\")  "
   ]
  },
  {
   "cell_type": "code",
   "execution_count": null,
   "metadata": {},
   "outputs": [],
   "source": [
    "a = 1 \n",
    "\n",
    "if a>=0:  #  a>=0  >> 1>=0 >> True \n",
    "    print(\"양수\")\n",
    "else: \n",
    "    print(\"음수\")"
   ]
  },
  {
   "cell_type": "code",
   "execution_count": 28,
   "metadata": {},
   "outputs": [
    {
     "name": "stdout",
     "output_type": "stream",
     "text": [
      "저 안에 짝수가 있더라. 그 짝수는...\n",
      "[2, 4, 6, 8]\n"
     ]
    }
   ],
   "source": [
    "my_list = [1,2,3,4,5,6,7,7,8]\n",
    "evens = []\n",
    "\n",
    "for i in my_list: \n",
    "    if i%2 ==0: \n",
    "        evens += [i]\n",
    "\n",
    "if evens: \n",
    "    print(\"저 안에 짝수가 있더라. 그 짝수는...\")\n",
    "    print(evens)\n",
    "else: \n",
    "    print(\"짝수가 없어\")"
   ]
  },
  {
   "cell_type": "code",
   "execution_count": 32,
   "metadata": {},
   "outputs": [
    {
     "name": "stdout",
     "output_type": "stream",
     "text": [
      "1\n",
      "2\n",
      "3\n",
      "1\n"
     ]
    }
   ],
   "source": [
    "# x = [1,2,3,4,5,6,7,7,8]\n",
    "# x = (1,2,3,1,)\n",
    "# x = {1,2,3,1,1,1,1}\n",
    "x = \"1231\" # == 1231\n",
    "for i in x: \n",
    "    print(i)\n",
    "    \n",
    "    \n",
    "# x = {1:2,3:6,4:8}"
   ]
  },
  {
   "cell_type": "code",
   "execution_count": 36,
   "metadata": {},
   "outputs": [
    {
     "name": "stdout",
     "output_type": "stream",
     "text": [
      "2\n",
      "1\n",
      "4\n"
     ]
    }
   ],
   "source": [
    "x = [1,2,3,1,2,4]\n",
    "\n",
    "for i in range(1,6,2): #x[::]\n",
    "    print(x[i])\n",
    "    \n",
    "# for i in x: \n",
    "#     print(i)"
   ]
  },
  {
   "cell_type": "code",
   "execution_count": null,
   "metadata": {},
   "outputs": [],
   "source": [
    "# enumerate, zip, range, dictionary, "
   ]
  },
  {
   "cell_type": "code",
   "execution_count": 1,
   "metadata": {},
   "outputs": [
    {
     "name": "stdout",
     "output_type": "stream",
     "text": [
      "hello world\n"
     ]
    }
   ],
   "source": [
    "print(\"hello world\")\n",
    "x = 1 #2.3, None, True, False .. \n",
    "x = \"mystr\"\n",
    "x = (1,2,3,)\n",
    "\n",
    "x = [1,2,3,]\n",
    "x = {1,2,3}\n",
    "x = {\"ㄱ\":1,\"ㄴ\":2,\"ㄷ\":3}\n"
   ]
  },
  {
   "cell_type": "code",
   "execution_count": 3,
   "metadata": {},
   "outputs": [
    {
     "name": "stdout",
     "output_type": "stream",
     "text": [
      "<class 'dict'>\n"
     ]
    }
   ],
   "source": [
    "print(type(x))"
   ]
  },
  {
   "cell_type": "code",
   "execution_count": 7,
   "metadata": {},
   "outputs": [
    {
     "data": {
      "text/plain": [
       "1"
      ]
     },
     "execution_count": 7,
     "metadata": {},
     "output_type": "execute_result"
    }
   ],
   "source": [
    "x.pop(\"ㄱ\")"
   ]
  },
  {
   "cell_type": "code",
   "execution_count": 10,
   "metadata": {},
   "outputs": [
    {
     "name": "stdout",
     "output_type": "stream",
     "text": [
      "x is empty\n"
     ]
    }
   ],
   "source": [
    "x = \"\"\n",
    "if x:\n",
    "    print(\"x is not empty\")\n",
    "    print(\"x is not empty\")\n",
    "    print(\"x is not empty\")\n",
    "else: \n",
    "    print(\"x is empty\")"
   ]
  },
  {
   "cell_type": "code",
   "execution_count": 15,
   "metadata": {},
   "outputs": [
    {
     "name": "stdout",
     "output_type": "stream",
     "text": [
      "x 5이하\n"
     ]
    }
   ],
   "source": [
    "x = 20\n",
    "if x>20: \n",
    "    print(\"x 20초과\")\n",
    "elif 20>=x>10: \n",
    "    print(\"x 10초과 20 이하\")\n",
    "elif 10>=x>5: \n",
    "    print(\"x 5초과 10 이하\")\n",
    "# elif x==15: \n",
    "#     print(\"x가 15입니다\")\n",
    "else: \n",
    "    print(\"x 5이하\")"
   ]
  },
  {
   "cell_type": "code",
   "execution_count": 25,
   "metadata": {},
   "outputs": [
    {
     "data": {
      "text/plain": [
       "0.39"
      ]
     },
     "execution_count": 25,
     "metadata": {},
     "output_type": "execute_result"
    }
   ],
   "source": [
    "0.78/2"
   ]
  },
  {
   "cell_type": "code",
   "execution_count": 28,
   "metadata": {},
   "outputs": [
    {
     "name": "stdout",
     "output_type": "stream",
     "text": [
      "완벽\n"
     ]
    }
   ],
   "source": [
    "x = 0.1*3 \n",
    "eps_ = 0.00001\n",
    "if abs(x - 0.3)<eps_:\n",
    "    print(\"완벽\")\n",
    "else: \n",
    "    print(\"역시\")"
   ]
  },
  {
   "cell_type": "code",
   "execution_count": 37,
   "metadata": {},
   "outputs": [
    {
     "name": "stdout",
     "output_type": "stream",
     "text": [
      "9\n"
     ]
    }
   ],
   "source": [
    "x = [1,2,3,4,5]\n",
    "\n",
    "if (1 in x) and (2 in x): \n",
    "    print(\"둘 다 있어\")\n"
   ]
  },
  {
   "cell_type": "code",
   "execution_count": 52,
   "metadata": {},
   "outputs": [
    {
     "name": "stdout",
     "output_type": "stream",
     "text": [
      "[1, 2, 3, 1]\n"
     ]
    }
   ],
   "source": [
    "# x = [1,2,3,4,5]    \n",
    "# y = (-22 and [1,2,3,1])\n",
    "# print(y)\n",
    "\n",
    "# if y in x: \n",
    "#     print(\"둘 다 있어\")"
   ]
  },
  {
   "cell_type": "code",
   "execution_count": 53,
   "metadata": {},
   "outputs": [
    {
     "name": "stdout",
     "output_type": "stream",
     "text": [
      "문제: ~~~\n",
      "16은 짝수입니다\n"
     ]
    }
   ],
   "source": [
    "print(\"문제: ~~~\")\n",
    "\n",
    "num_ = 16\n",
    "if num_%2 == 0:\n",
    "    print(f\"{num_}은 짝수입니다\")\n",
    "else: \n",
    "    print(f\"{num_}은 홀수 입니다\")    "
   ]
  },
  {
   "cell_type": "code",
   "execution_count": null,
   "metadata": {},
   "outputs": [],
   "source": [
    "print(\"문제:~~~~~\")\n",
    "\n",
    "test_result = 60 \n",
    "if test_result>=80: \n",
    "    print(\"A학점입니다\")\n",
    "elif test_result<80 and test_result>=60:\n",
    "    print(\"B학점입니다\")  \n",
    "elif test_result<60 and test_result>=50:\n",
    "    print(\"C학점입니다.\")\n",
    "else: \n",
    "    print(\"F학점입니다\")"
   ]
  },
  {
   "cell_type": "code",
   "execution_count": 61,
   "metadata": {},
   "outputs": [
    {
     "name": "stdout",
     "output_type": "stream",
     "text": [
      "문제:~~~~~\n",
      "입력을 확인하세요\n"
     ]
    }
   ],
   "source": [
    "print(\"문제:~~~~~\")\n",
    "\n",
    "test_result = int(input(\"점수를 입력하세요\"))\n",
    "\n",
    "cut_line = {\"A\":90, \"B\":40, \"C\":30}\n",
    "\n",
    "if 100>=test_result>=0: \n",
    "    if test_result>=cut_line[\"A\"]: \n",
    "        print(\"A학점입니다\")\n",
    "    elif test_result>=cut_line[\"B\"]:\n",
    "        print(\"B학점입니다\")  \n",
    "    elif test_result>=cut_line[\"C\"]:\n",
    "        print(\"C학점입니다.\")\n",
    "    else: \n",
    "        print(\"F학점입니다\")\n",
    "else: \n",
    "    print(\"입력을 확인하세요\")"
   ]
  },
  {
   "cell_type": "code",
   "execution_count": 59,
   "metadata": {},
   "outputs": [
    {
     "data": {
      "text/plain": [
       "True"
      ]
     },
     "execution_count": 59,
     "metadata": {},
     "output_type": "execute_result"
    }
   ],
   "source": [
    "# x = 10 \n",
    "# isinstance(x, int)"
   ]
  },
  {
   "cell_type": "code",
   "execution_count": 63,
   "metadata": {},
   "outputs": [
    {
     "name": "stdout",
     "output_type": "stream",
     "text": [
      "시험성적 리스트 = [92, 96, 100]\n",
      "평균 = 96.0\n",
      "합격\n"
     ]
    }
   ],
   "source": [
    "A = 92\n",
    "B = 96\n",
    "C = 100 \n",
    "\n",
    "score_list = [A,B,C]\n",
    "print(f\"시험성적 리스트 = {score_list}\")\n",
    "\n",
    "score_average = sum(score_list)/len(score_list)\n",
    "print(f\"평균 = {score_average}\")\n",
    "\n",
    "if score_average >= 80: \n",
    "    print(\"합격\")\n",
    "else: \n",
    "    print(\"불합격\")"
   ]
  },
  {
   "cell_type": "code",
   "execution_count": 64,
   "metadata": {},
   "outputs": [
    {
     "name": "stdout",
     "output_type": "stream",
     "text": [
      "88이 더 크고 짝수이다\n"
     ]
    }
   ],
   "source": [
    "num1 = 88 \n",
    "num2 = 88\n",
    "\n",
    "if num1>num2: \n",
    "    if num1%2 ==0:\n",
    "        print(f\"{num1}이 더 크고 짝수이다\")\n",
    "    else:\n",
    "        print(f\"{num1}이 더 크고 홀수이다\")\n",
    "else:\n",
    "    if num2%2==0: \n",
    "        print(f\"{num2}이 더 크고 짝수이다\")\n",
    "    else:\n",
    "        print(f\"{num2}이 더 크고 홀수이다\")"
   ]
  },
  {
   "cell_type": "code",
   "execution_count": null,
   "metadata": {},
   "outputs": [],
   "source": [
    "num1 = 88 \n",
    "num2 = 88\n",
    "\n",
    "if num1>num2: \n",
    "    if num1%2 ==0:\n",
    "        print(f\"{num1}이 더 크고 짝수이다\")\n",
    "    else:\n",
    "        print(f\"{num1}이 더 크고 홀수이다\")\n",
    "elif num2>num1:\n",
    "    if num2%2==0: \n",
    "        print(f\"{num2}이 더 크고 짝수이다\")\n",
    "    else:\n",
    "        print(f\"{num2}이 더 크고 홀수이다\")\n",
    "else: \n",
    "    if num2%2==0: \n",
    "        print(f\"둘 다 {num2}이고 짝수이다\")\n",
    "    else:\n",
    "        print(f\"둘 다 {num2}이고 홀수이다\")"
   ]
  },
  {
   "cell_type": "code",
   "execution_count": 65,
   "metadata": {},
   "outputs": [
    {
     "name": "stdout",
     "output_type": "stream",
     "text": [
      "쇼핑리스트에 초콜릿이 없습니다.\n"
     ]
    }
   ],
   "source": [
    "shopping_list = [\"샌드위치\",\"케찹\",\"냅킨\"]\n",
    "\n",
    "if shopping_list:\n",
    "    if \"초콜릿\" in shopping_list: \n",
    "        print(\"쇼핑리스트에 초콜릿이 있습니다.\")\n",
    "    else: \n",
    "        print(\"쇼핑리스트에 초콜릿이 없습니다.\")\n",
    "else: \n",
    "    print(\"쇼핑리스트가 비어있습니다. 목록을 작성해주세요\")"
   ]
  },
  {
   "cell_type": "code",
   "execution_count": 68,
   "metadata": {},
   "outputs": [
    {
     "name": "stdout",
     "output_type": "stream",
     "text": [
      "3\n",
      "1\n",
      "2\n",
      "11\n"
     ]
    }
   ],
   "source": [
    "X = {1,2,3,1,3,1,1,1,11,}\n",
    "\n",
    "for i in X:\n",
    "    print(i)"
   ]
  },
  {
   "cell_type": "code",
   "execution_count": 70,
   "metadata": {},
   "outputs": [
    {
     "name": "stdout",
     "output_type": "stream",
     "text": [
      "2\n",
      "4\n",
      "6\n",
      "8\n",
      "10\n"
     ]
    }
   ],
   "source": [
    "for i in range(2,12,2): #x[start:end:step]\n",
    "    print(i)"
   ]
  },
  {
   "cell_type": "code",
   "execution_count": 75,
   "metadata": {},
   "outputs": [
    {
     "name": "stdout",
     "output_type": "stream",
     "text": [
      "0번째 값 1\n",
      "1번째 값 2\n",
      "2번째 값 3\n",
      "3번째 값 4\n",
      "4번째 값 5\n",
      "--------------------\n",
      "0번째 값 1\n",
      "1번째 값 2\n",
      "2번째 값 3\n",
      "3번째 값 4\n",
      "4번째 값 5\n"
     ]
    }
   ],
   "source": [
    "arr = [1,2,3,4,5]\n",
    "for i in range(len(arr)):\n",
    "    print(f\"{i}번째 값 {arr[i]}\")\n",
    "\n",
    "print(\"-\"*20)\n",
    "\n",
    "ind = 0\n",
    "for i in arr: \n",
    "    print(f\"{ind}번째 값 {i}\")\n",
    "    ind += 1 \n",
    "    \n",
    "print(\"-\"*20)\n",
    "\n",
    "for ind, i in enumerate(arr): \n",
    "    print(f\"{ind}번째 값 {i}\")\n"
   ]
  },
  {
   "cell_type": "code",
   "execution_count": 80,
   "metadata": {},
   "outputs": [
    {
     "name": "stdout",
     "output_type": "stream",
     "text": [
      "ind: 0, first: 1 last: 2\n",
      "ind: 1, first: 3 last: 4\n",
      "ind: 2, first: 5 last: 6\n"
     ]
    }
   ],
   "source": [
    "a = [(1,2),(3,4),(5,6)]\n",
    "\n",
    "for ind, (first, last) in enumerate(a): \n",
    "    print(f\"ind: {ind}, first: {first} last: {last}\")"
   ]
  },
  {
   "cell_type": "code",
   "execution_count": 83,
   "metadata": {},
   "outputs": [
    {
     "name": "stdout",
     "output_type": "stream",
     "text": [
      "ind: 0, first: 1 last: 2\n",
      "ind: 1, first: 3 last: 4\n",
      "ind: 2, first: 5 last: 6\n"
     ]
    }
   ],
   "source": [
    "a = [[1,2],[3,4],[5,6]]\n",
    "\n",
    "for ind, (first, last) in enumerate(a): \n",
    "    print(f\"ind: {ind}, first: {first} last: {last}\")"
   ]
  },
  {
   "cell_type": "code",
   "execution_count": 91,
   "metadata": {},
   "outputs": [
    {
     "name": "stdout",
     "output_type": "stream",
     "text": [
      "x1:1  x2:5\n",
      "x1:2  x2:6\n",
      "x1:3  x2:7\n",
      "x1:4  x2:8\n"
     ]
    }
   ],
   "source": [
    "x1 = [1,2,3,4]\n",
    "x2 = [5,6,7,8]\n",
    "\n",
    "# for i in range(len(x1)):\n",
    "#     print(f\"ind:{i}  x1:{x1[i]}  x2:{x2[i]}\")\n",
    "    \n",
    "for i,j in zip(x1,x2):\n",
    "    print(f\"x1:{i}  x2:{j}\")\n",
    "    \n",
    "# for ind, (i,j) in enumerate(zip(x1,x2)):\n",
    "#     print(f\"ind:{i}  x1:{i}  x2:{j}\")"
   ]
  },
  {
   "cell_type": "code",
   "execution_count": 96,
   "metadata": {},
   "outputs": [
    {
     "name": "stdout",
     "output_type": "stream",
     "text": [
      "[6, 12]\n"
     ]
    }
   ],
   "source": [
    "a = [1,2,3,4]\n",
    "\n",
    "# result = [num*3 for num in a if num%2==0]\n",
    "result = []\n",
    "for num in a: \n",
    "    if num%2==0: \n",
    "        result.append(num*3)\n",
    "\n",
    "print(result)"
   ]
  },
  {
   "cell_type": "code",
   "execution_count": 99,
   "metadata": {},
   "outputs": [
    {
     "name": "stdout",
     "output_type": "stream",
     "text": [
      "0 :: 1\n",
      "1 :: 2\n",
      "2 :: 3\n"
     ]
    }
   ],
   "source": [
    "x = {1,2,3,1,1,1,1}\n",
    "\n",
    "for ind,i in enumerate(x): \n",
    "    print(f\"{ind} :: {i}\") # i != x[ind]"
   ]
  },
  {
   "cell_type": "code",
   "execution_count": 102,
   "metadata": {},
   "outputs": [
    {
     "name": "stdout",
     "output_type": "stream",
     "text": [
      "cm -- 35\n",
      "hj -- 32\n",
      "aa -- 23\n",
      "cm -- 35\n",
      "hj -- 32\n",
      "aa -- 23\n"
     ]
    }
   ],
   "source": [
    "ages = {'cm':35,\"hj\":32,\"aa\":23}\n",
    "\n",
    "for key in ages: \n",
    "    value = ages[key]\n",
    "    print(f\"{key} -- {value}\")\n",
    "\n",
    "for k,v in ages.items(): \n",
    "    print(f\"{k} -- {v}\")\n"
   ]
  },
  {
   "cell_type": "code",
   "execution_count": 109,
   "metadata": {},
   "outputs": [
    {
     "name": "stdout",
     "output_type": "stream",
     "text": [
      " 문제) for문을 이용하여 1부터 100까지 숫자를 출력하고, \n",
      "      역순으로도 출력해보자\n",
      "1\n",
      "2\n",
      "3\n",
      "4\n",
      "5\n",
      "6\n",
      "7\n",
      "8\n",
      "9\n",
      "10\n",
      "11\n",
      "12\n",
      "13\n",
      "14\n",
      "15\n",
      "16\n",
      "17\n",
      "18\n",
      "19\n",
      "20\n",
      "21\n",
      "22\n",
      "23\n",
      "24\n",
      "25\n",
      "26\n",
      "27\n",
      "28\n",
      "29\n",
      "30\n",
      "31\n",
      "32\n",
      "33\n",
      "34\n",
      "35\n",
      "36\n",
      "37\n",
      "38\n",
      "39\n",
      "40\n",
      "41\n",
      "42\n",
      "43\n",
      "44\n",
      "45\n",
      "46\n",
      "47\n",
      "48\n",
      "49\n",
      "50\n",
      "51\n",
      "52\n",
      "53\n",
      "54\n",
      "55\n",
      "56\n",
      "57\n",
      "58\n",
      "59\n",
      "60\n",
      "61\n",
      "62\n",
      "63\n",
      "64\n",
      "65\n",
      "66\n",
      "67\n",
      "68\n",
      "69\n",
      "70\n",
      "71\n",
      "72\n",
      "73\n",
      "74\n",
      "75\n",
      "76\n",
      "77\n",
      "78\n",
      "79\n",
      "80\n",
      "81\n",
      "82\n",
      "83\n",
      "84\n",
      "85\n",
      "86\n",
      "87\n",
      "88\n",
      "89\n",
      "90\n",
      "91\n",
      "92\n",
      "93\n",
      "94\n",
      "95\n",
      "96\n",
      "97\n",
      "98\n",
      "99\n",
      "100\n",
      "100\n",
      "99\n",
      "98\n",
      "97\n",
      "96\n",
      "95\n",
      "94\n",
      "93\n",
      "92\n",
      "91\n",
      "90\n",
      "89\n",
      "88\n",
      "87\n",
      "86\n",
      "85\n",
      "84\n",
      "83\n",
      "82\n",
      "81\n",
      "80\n",
      "79\n",
      "78\n",
      "77\n",
      "76\n",
      "75\n",
      "74\n",
      "73\n",
      "72\n",
      "71\n",
      "70\n",
      "69\n",
      "68\n",
      "67\n",
      "66\n",
      "65\n",
      "64\n",
      "63\n",
      "62\n",
      "61\n",
      "60\n",
      "59\n",
      "58\n",
      "57\n",
      "56\n",
      "55\n",
      "54\n",
      "53\n",
      "52\n",
      "51\n",
      "50\n",
      "49\n",
      "48\n",
      "47\n",
      "46\n",
      "45\n",
      "44\n",
      "43\n",
      "42\n",
      "41\n",
      "40\n",
      "39\n",
      "38\n",
      "37\n",
      "36\n",
      "35\n",
      "34\n",
      "33\n",
      "32\n",
      "31\n",
      "30\n",
      "29\n",
      "28\n",
      "27\n",
      "26\n",
      "25\n",
      "24\n",
      "23\n",
      "22\n",
      "21\n",
      "20\n",
      "19\n",
      "18\n",
      "17\n",
      "16\n",
      "15\n",
      "14\n",
      "13\n",
      "12\n",
      "11\n",
      "10\n",
      "9\n",
      "8\n",
      "7\n",
      "6\n",
      "5\n",
      "4\n",
      "3\n",
      "2\n",
      "1\n"
     ]
    }
   ],
   "source": [
    "print(''' 문제) 'for문'을 이용하여 \n",
    "      1부터 100까지 숫자를 출력하고, \n",
    "      역순으로도 출력해보자''')\n",
    "\n",
    "for i in range(1,101):\n",
    "    print(i)\n",
    "    \n",
    "for i in range(100,0,-1):\n",
    "    print(i)"
   ]
  },
  {
   "cell_type": "code",
   "execution_count": 110,
   "metadata": {},
   "outputs": [
    {
     "name": "stdout",
     "output_type": "stream",
     "text": [
      "5050\n"
     ]
    }
   ],
   "source": [
    "# 결과 \n",
    "result = 0 \n",
    "\n",
    "for i in range(1,101,1):\n",
    "    result += i\n",
    "\n",
    "print(result)"
   ]
  },
  {
   "cell_type": "code",
   "execution_count": 111,
   "metadata": {},
   "outputs": [
    {
     "name": "stdout",
     "output_type": "stream",
     "text": [
      "2550\n"
     ]
    }
   ],
   "source": [
    "# 결과 \n",
    "result = 0 \n",
    "\n",
    "for i in range(1,101,1):\n",
    "    if i%2==0:\n",
    "        result += i\n",
    "\n",
    "print(result)"
   ]
  },
  {
   "cell_type": "code",
   "execution_count": 112,
   "metadata": {},
   "outputs": [
    {
     "name": "stdout",
     "output_type": "stream",
     "text": [
      "79.0\n"
     ]
    }
   ],
   "source": [
    "score_list = [70,60,55,75,95,90,80,80,85,100]\n",
    "\n",
    "# mean_score_list = sum(score_list)/len(score_list)\n",
    "sum_ = 0 \n",
    "for i in score_list: \n",
    "    sum_ += i\n",
    "\n",
    "average = sum_/len(score_list)\n",
    "print(average)"
   ]
  },
  {
   "cell_type": "code",
   "execution_count": 114,
   "metadata": {},
   "outputs": [
    {
     "name": "stdout",
     "output_type": "stream",
     "text": [
      "구구단\n",
      "2 x 1 = 2\t2 x 2 = 4\t2 x 3 = 6\t2 x 4 = 8\t2 x 5 = 10\t2 x 6 = 12\t2 x 7 = 14\t2 x 8 = 16\t2 x 9 = 18\t\n",
      "3 x 1 = 3\t3 x 2 = 6\t3 x 3 = 9\t3 x 4 = 12\t3 x 5 = 15\t3 x 6 = 18\t3 x 7 = 21\t3 x 8 = 24\t3 x 9 = 27\t\n",
      "4 x 1 = 4\t4 x 2 = 8\t4 x 3 = 12\t4 x 4 = 16\t4 x 5 = 20\t4 x 6 = 24\t4 x 7 = 28\t4 x 8 = 32\t4 x 9 = 36\t\n",
      "5 x 1 = 5\t5 x 2 = 10\t5 x 3 = 15\t5 x 4 = 20\t5 x 5 = 25\t5 x 6 = 30\t5 x 7 = 35\t5 x 8 = 40\t5 x 9 = 45\t\n",
      "6 x 1 = 6\t6 x 2 = 12\t6 x 3 = 18\t6 x 4 = 24\t6 x 5 = 30\t6 x 6 = 36\t6 x 7 = 42\t6 x 8 = 48\t6 x 9 = 54\t\n",
      "7 x 1 = 7\t7 x 2 = 14\t7 x 3 = 21\t7 x 4 = 28\t7 x 5 = 35\t7 x 6 = 42\t7 x 7 = 49\t7 x 8 = 56\t7 x 9 = 63\t\n",
      "8 x 1 = 8\t8 x 2 = 16\t8 x 3 = 24\t8 x 4 = 32\t8 x 5 = 40\t8 x 6 = 48\t8 x 7 = 56\t8 x 8 = 64\t8 x 9 = 72\t\n",
      "9 x 1 = 9\t9 x 2 = 18\t9 x 3 = 27\t9 x 4 = 36\t9 x 5 = 45\t9 x 6 = 54\t9 x 7 = 63\t9 x 8 = 72\t9 x 9 = 81\t\n"
     ]
    }
   ],
   "source": [
    "print(\"구구단\")\n",
    "\n",
    "for i in range(2,10):\n",
    "    for v in range(1,10):\n",
    "        print(f\"{i} x {v} = {i*v}\", end=\"\\t\")\n",
    "    print()"
   ]
  },
  {
   "cell_type": "code",
   "execution_count": 121,
   "metadata": {},
   "outputs": [
    {
     "name": "stdout",
     "output_type": "stream",
     "text": [
      "구구단\n",
      "2 x 1 = 2   3 x 1 = 3   4 x 1 = 4   5 x 1 = 5   6 x 1 = 6   7 x 1 = 7   8 x 1 = 8   9 x 1 = 9   2 x 2 = 4   3 x 2 = 6   4 x 2 = 8   5 x 2 = 10   6 x 2 = 12   7 x 2 = 14   8 x 2 = 16   9 x 2 = 18   2 x 3 = 6   3 x 3 = 9   4 x 3 = 12   5 x 3 = 15   6 x 3 = 18   7 x 3 = 21   8 x 3 = 24   9 x 3 = 27   2 x 4 = 8   3 x 4 = 12   4 x 4 = 16   5 x 4 = 20   6 x 4 = 24   7 x 4 = 28   8 x 4 = 32   9 x 4 = 36   2 x 5 = 10   3 x 5 = 15   4 x 5 = 20   5 x 5 = 25   6 x 5 = 30   7 x 5 = 35   8 x 5 = 40   9 x 5 = 45   2 x 6 = 12   3 x 6 = 18   4 x 6 = 24   5 x 6 = 30   6 x 6 = 36   7 x 6 = 42   8 x 6 = 48   9 x 6 = 54   2 x 7 = 14   3 x 7 = 21   4 x 7 = 28   5 x 7 = 35   6 x 7 = 42   7 x 7 = 49   8 x 7 = 56   9 x 7 = 63   2 x 8 = 16   3 x 8 = 24   4 x 8 = 32   5 x 8 = 40   6 x 8 = 48   7 x 8 = 56   8 x 8 = 64   9 x 8 = 72   2 x 9 = 18   3 x 9 = 27   4 x 9 = 36   5 x 9 = 45   6 x 9 = 54   7 x 9 = 63   8 x 9 = 72   9 x 9 = 81   "
     ]
    }
   ],
   "source": [
    "print(\"구구단\")\n",
    "\n",
    "\n",
    "for v in range(1,10):\n",
    "    for i in range(2,10):\n",
    "        print(f\"{i} x {v} = {i*v}\", end=\"\\t\")\n",
    "    print()"
   ]
  },
  {
   "cell_type": "code",
   "execution_count": 117,
   "metadata": {},
   "outputs": [
    {
     "name": "stdout",
     "output_type": "stream",
     "text": [
      "짝수곱 42849873690624000이 홀수곱 6190283353629375보다 크다\n"
     ]
    }
   ],
   "source": [
    "even_mul = 1\n",
    "odd_mul = 1 \n",
    "\n",
    "for i in range(1,31):\n",
    "    if i%2==0: \n",
    "        even_mul *= i\n",
    "    else: \n",
    "        odd_mul *= i\n",
    "\n",
    "if even_mul>odd_mul: \n",
    "    result = f\"짝수곱 {even_mul}이 홀수곱 {odd_mul}보다 크다\"\n",
    "elif odd_mul>even_mul: \n",
    "    result = f\"홀수곱 {odd_mul}이 짝수곱 {even_mul}보다 크다\"\n",
    "else: \n",
    "    result = f\"짝수곱 {even_mul}이 홀수곱 {odd_mul}으 크기는 같다\"\n",
    "\n",
    "print(result)"
   ]
  },
  {
   "cell_type": "code",
   "execution_count": 118,
   "metadata": {},
   "outputs": [
    {
     "name": "stdout",
     "output_type": "stream",
     "text": [
      "\n",
      "1\n",
      "\n",
      "3\n",
      "\n",
      "\n",
      "asdasds\n",
      "\n"
     ]
    }
   ],
   "source": [
    "print() # 한줄 내려라(\\n) 가 default\n",
    "print(\"1\")\n",
    "print()\n",
    "print(\"3\")\n",
    "print()\n",
    "print()\n",
    "print(\"asdasds\")\n",
    "print()\n"
   ]
  },
  {
   "cell_type": "code",
   "execution_count": 122,
   "metadata": {},
   "outputs": [
    {
     "name": "stdout",
     "output_type": "stream",
     "text": [
      "0번 분은 키가 작아 탑승하실 수 없습니다\n",
      "1번 분은 탑승하셔도 됩니다. 현재 1 명 탑승\n",
      "2번 분은 탑승하셔도 됩니다. 현재 2 명 탑승\n",
      "3번 분은 키가 작아 탑승하실 수 없습니다\n",
      "4번 분은 탑승하셔도 됩니다. 현재 3 명 탑승\n",
      "5번 분은 키가 작아 탑승하실 수 없습니다\n",
      "6번 분은 탑승하셔도 됩니다. 현재 4 명 탑승\n",
      "7번 분은 탑승하셔도 됩니다. 현재 5 명 탑승\n",
      "5 명 모두 찼습니다. 다음 차례를 이용해주세요\n",
      "5 명 모두 찼습니다. 다음 차례를 이용해주세요\n"
     ]
    }
   ],
   "source": [
    "max_number = 5\n",
    "min_height = 150\n",
    "max_height = 200 \n",
    "user_height_dict = {\"1번\":139,\"2번\":170,\"3번\":178,\"4번\":205,\"5번\":168,\n",
    "                    \"6번\":149,\"7번\":150,\"8번\":166,\"9번\":180,\"10번\":200}\n",
    "\n",
    "curr_num = 0 \n",
    "ind = 0 \n",
    "for k in user_height_dict:\n",
    "    v =  user_height_dict[k]\n",
    "    if 200>=v>=150: \n",
    "        if curr_num<max_number: \n",
    "            curr_num +=1 \n",
    "            print(f\"{ind}번 분은 탑승하셔도 됩니다. 현재 {curr_num} 명 탑승\") \n",
    "        else: \n",
    "            print(f\"{max_number} 명 모두 찼습니다. 다음 차례를 이용해주세요\")\n",
    "    else: \n",
    "        print(f\"{ind}번 분은 키가 작아 탑승하실 수 없습니다\")\n",
    "    \n",
    "    ind += 1 "
   ]
  },
  {
   "cell_type": "code",
   "execution_count": 124,
   "metadata": {},
   "outputs": [
    {
     "name": "stdout",
     "output_type": "stream",
     "text": [
      "0번 분은 키가 작아 탑승하실 수 없습니다\n",
      "1번 분은 탑승하셔도 됩니다. 현재 1 명 탑승\n",
      "2번 분은 탑승하셔도 됩니다. 현재 2 명 탑승\n",
      "3번 분은 키가 작아 탑승하실 수 없습니다\n",
      "4번 분은 탑승하셔도 됩니다. 현재 3 명 탑승\n",
      "5번 분은 키가 작아 탑승하실 수 없습니다\n",
      "6번 분은 탑승하셔도 됩니다. 현재 4 명 탑승\n",
      "7번 분은 탑승하셔도 됩니다. 현재 5 명 탑승\n",
      "5 명 모두 찼습니다. 다음 차례를 이용해주세요\n",
      "5 명 모두 찼습니다. 다음 차례를 이용해주세요\n"
     ]
    }
   ],
   "source": [
    "max_number = 5\n",
    "min_height = 150\n",
    "max_height = 200 \n",
    "user_height_dict = {\"1번\":139,\"2번\":170,\"3번\":178,\"4번\":205,\"5번\":168,\n",
    "                    \"6번\":149,\"7번\":150,\"8번\":166,\"9번\":180,\"10번\":200}\n",
    "\n",
    "curr_num = 0 \n",
    "for ind,(k,v) in enumerate(user_height_dict.items()):\n",
    "    if 200>=v>=150: \n",
    "        if curr_num<max_number: \n",
    "            curr_num +=1 \n",
    "            print(f\"{ind}번 분은 탑승하셔도 됩니다. 현재 {curr_num} 명 탑승\") \n",
    "        else: \n",
    "            print(f\"{max_number} 명 모두 찼습니다. 다음 차례를 이용해주세요\")\n",
    "    else: \n",
    "        print(f\"{ind}번 분은 키가 작아 탑승하실 수 없습니다\")"
   ]
  },
  {
   "cell_type": "code",
   "execution_count": null,
   "metadata": {},
   "outputs": [],
   "source": []
  }
 ],
 "metadata": {
  "interpreter": {
   "hash": "aee8b7b246df8f9039afb4144a1f6fd8d2ca17a180786b69acc140d282b71a49"
  },
  "kernelspec": {
   "display_name": "Python 3.9.6 64-bit",
   "language": "python",
   "name": "python3"
  },
  "language_info": {
   "codemirror_mode": {
    "name": "ipython",
    "version": 3
   },
   "file_extension": ".py",
   "mimetype": "text/x-python",
   "name": "python",
   "nbconvert_exporter": "python",
   "pygments_lexer": "ipython3",
   "version": "3.9.6"
  },
  "orig_nbformat": 4
 },
 "nbformat": 4,
 "nbformat_minor": 2
}
