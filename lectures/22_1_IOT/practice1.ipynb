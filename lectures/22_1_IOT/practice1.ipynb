{
 "cells": [
  {
   "cell_type": "code",
   "execution_count": null,
   "metadata": {},
   "outputs": [],
   "source": [
    "import this "
   ]
  },
  {
   "cell_type": "markdown",
   "metadata": {},
   "source": [
    "## 마크다운 실습 \n",
    "마크다운이란 무엇인가 "
   ]
  },
  {
   "cell_type": "code",
   "execution_count": null,
   "metadata": {},
   "outputs": [],
   "source": [
    "year = 2022\n",
    "print(year)"
   ]
  },
  {
   "cell_type": "code",
   "execution_count": null,
   "metadata": {},
   "outputs": [],
   "source": [
    "person1, person2 = 'Eli', 'Abe'\n",
    "print(person1)\n",
    "print(person2)\n",
    "person1, person2 = person2, person1 \n",
    "print(person1)\n",
    "print(person2)"
   ]
  },
  {
   "cell_type": "code",
   "execution_count": null,
   "metadata": {},
   "outputs": [],
   "source": [
    "# person1 = 'Eli'\n",
    "# person2 = 'Abe'\n",
    "\n",
    "# person1, person2 = 'Eli', 'Abe'\n",
    "\n",
    "# person1 = 'Eli'; person2 = 'Abe'"
   ]
  },
  {
   "cell_type": "code",
   "execution_count": 1,
   "metadata": {},
   "outputs": [
    {
     "name": "stdout",
     "output_type": "stream",
     "text": [
      "1\n"
     ]
    }
   ],
   "source": [
    "my_str = 1 \n",
    "print(my_str)\n"
   ]
  },
  {
   "cell_type": "code",
   "execution_count": 3,
   "metadata": {},
   "outputs": [
    {
     "name": "stdout",
     "output_type": "stream",
     "text": [
      "a+b는 출력하면 다음과 같음 :: 3\n"
     ]
    }
   ],
   "source": [
    "\"\"\"\n",
    "작성일: 22.03.14\n",
    "작성자: 이창민 \n",
    "목적: IOT와로보틱스 실습 2주차 \n",
    "TODO: \n",
    "\"\"\"\n",
    "# 두 변수를 선언하고, \n",
    "# 더한 값을 출력하는 방법에 대해 fstring으로 표현하세요 \n",
    "\n",
    "# 변수의 선언 \n",
    "a = 1 \n",
    "b = 2 \n",
    "\n",
    "# 출력\n",
    "print(f\"a+b는 출력하면 다음과 같음 :: {a+b}\")"
   ]
  },
  {
   "cell_type": "code",
   "execution_count": 5,
   "metadata": {},
   "outputs": [
    {
     "name": "stdout",
     "output_type": "stream",
     "text": [
      "<class 'int'>\n",
      "7\n",
      "-1\n",
      "12\n",
      "0.75\n",
      "<class 'float'>\n",
      "0\n",
      "3\n",
      "81\n"
     ]
    }
   ],
   "source": [
    "# 자료형. Number 실습 \n",
    "a = 3 \n",
    "b = 4 \n",
    "print(type(a))\n",
    "print(a+b)\n",
    "print(a-b)\n",
    "print(a*b)\n",
    "print(a/b)\n",
    "print(type(a/b))\n",
    "print(a//b)\n",
    "print(a%b)\n",
    "print(a**b)"
   ]
  },
  {
   "cell_type": "code",
   "execution_count": 9,
   "metadata": {},
   "outputs": [
    {
     "name": "stdout",
     "output_type": "stream",
     "text": [
      "<class 'int'>\n",
      "<class 'float'>\n",
      "<class 'int'>\n",
      "-4\n",
      "-4.7를 int로 typecast하면 -4이다\n"
     ]
    }
   ],
   "source": [
    "a = 3\n",
    "print(type(a))\n",
    "\n",
    "b = -4.7 \n",
    "print(type(b))\n",
    "\n",
    "c = int(b)\n",
    "print(type(c))\n",
    "print(c)\n",
    "print(f\"{b}를 int로 typecast하면 {c}이다\")"
   ]
  },
  {
   "cell_type": "code",
   "execution_count": 10,
   "metadata": {},
   "outputs": [
    {
     "data": {
      "text/plain": [
       "True"
      ]
     },
     "execution_count": 10,
     "metadata": {},
     "output_type": "execute_result"
    }
   ],
   "source": [
    "a = None \n",
    "a is None "
   ]
  },
  {
   "cell_type": "code",
   "execution_count": 14,
   "metadata": {},
   "outputs": [
    {
     "name": "stdout",
     "output_type": "stream",
     "text": [
      "False\n",
      "True\n"
     ]
    }
   ],
   "source": [
    "print(bool()) #0, 0.0, \"\", [], tuple(), None\n",
    "print(bool(-2.3))"
   ]
  },
  {
   "cell_type": "code",
   "execution_count": 22,
   "metadata": {},
   "outputs": [
    {
     "name": "stdout",
     "output_type": "stream",
     "text": [
      "False\n"
     ]
    }
   ],
   "source": [
    "a = 4\n",
    "b = 2 \n",
    "print(a==b)"
   ]
  },
  {
   "cell_type": "code",
   "execution_count": 35,
   "metadata": {},
   "outputs": [
    {
     "name": "stdout",
     "output_type": "stream",
     "text": [
      "2\n"
     ]
    }
   ],
   "source": [
    "a = 1 \n",
    "a += 1  # a = a+1 랑 같음 \n",
    "print(a) "
   ]
  },
  {
   "cell_type": "code",
   "execution_count": 47,
   "metadata": {},
   "outputs": [
    {
     "name": "stdout",
     "output_type": "stream",
     "text": [
      "I'm changmin, \n",
      "say \"Ho!!\" \n"
     ]
    }
   ],
   "source": [
    "# my_string = 'string 어쩌구저쩌구'\n",
    "# my_string = \"string 어쩌구저쩌구\"\n",
    "# my_string = '''string \n",
    "# 어쩌구저쩌구'''\n",
    "# my_string = \"\"\"string \n",
    "# asdasd\n",
    "# asdasd\n",
    "#  어쩌구저쩌구\"\"\"\n",
    "# my_string = \"\"\"I'm changmin, say \"Ho!!\" \"\"\"\n",
    "# my_string = '''I'm changmin, say \"Ho!!\" '''\n",
    "my_string = \"I\\'m changmin, \\nsay \\\"Ho!!\\\" \"\n",
    "print(my_string)\n"
   ]
  },
  {
   "cell_type": "code",
   "execution_count": 70,
   "metadata": {},
   "outputs": [
    {
     "data": {
      "text/plain": [
       "'LE'"
      ]
     },
     "execution_count": 70,
     "metadata": {},
     "output_type": "execute_result"
    }
   ],
   "source": [
    "my_string = \"HELLO\"\n",
    "my_string[2:-5:-1]"
   ]
  },
  {
   "cell_type": "code",
   "execution_count": 76,
   "metadata": {},
   "outputs": [
    {
     "data": {
      "text/plain": [
       "['HW1_2011324042', 'ipynb']"
      ]
     },
     "execution_count": 76,
     "metadata": {},
     "output_type": "execute_result"
    }
   ],
   "source": [
    "my_string = \"HW1_2011324042.ipynb\"\n",
    "my_string.split('.')"
   ]
  },
  {
   "cell_type": "code",
   "execution_count": 80,
   "metadata": {},
   "outputs": [
    {
     "data": {
      "text/plain": [
       "'asdddbe'"
      ]
     },
     "execution_count": 80,
     "metadata": {},
     "output_type": "execute_result"
    }
   ],
   "source": [
    "my_string = \"asDDDbe\"\n",
    "my_string.lower() #capitalize, upper, lower"
   ]
  },
  {
   "cell_type": "code",
   "execution_count": 81,
   "metadata": {},
   "outputs": [
    {
     "name": "stdout",
     "output_type": "stream",
     "text": [
      "7\n"
     ]
    }
   ],
   "source": [
    "my_string = \"asDDDbe\"\n",
    "print(len(my_string))"
   ]
  },
  {
   "cell_type": "code",
   "execution_count": 85,
   "metadata": {},
   "outputs": [
    {
     "name": "stdout",
     "output_type": "stream",
     "text": [
      "오늘의 점심은 참치김밥 2줄 입니다.\n"
     ]
    }
   ],
   "source": [
    "재료 = \"참치\"\n",
    "음식 = \"김밥\"\n",
    "수량 = 2\n",
    "단위 = \"줄\"\n",
    "my_menu = f\"오늘의 점심은 {재료}{음식} {수량}{단위} 입니다.\"\n",
    "print(my_menu)"
   ]
  },
  {
   "cell_type": "code",
   "execution_count": 116,
   "metadata": {},
   "outputs": [
    {
     "name": "stdout",
     "output_type": "stream",
     "text": [
      "<class 'tuple'>\n",
      "<class 'tuple'>\n",
      "(1,)\n",
      "(1, 2, 'korea', None, True, 6, (1, 2, 3, 1, 4), '', (1,))\n",
      "9\n",
      "(1, 1, 2, 'korea', None, True, 6, (1, 2, 3, 1, 4), '', (1,))\n",
      "<class 'int'>\n"
     ]
    }
   ],
   "source": [
    "t1 = tuple()\n",
    "print(type(t1))\n",
    "t2 = (1,)\n",
    "print(type(t2))\n",
    "print(t2)\n",
    "t3 = (1,2,\"korea\",None,True,6,(1,2,3,1,4,),\"\",t2,)\n",
    "print(t3)\n",
    "print(len(t3))\n",
    "t4 = t2+t3\n",
    "print(t4)\n",
    "\n",
    "t5 = (1) #뒤에 콤마 안찍으면 int 되어 버림\n",
    "print(type(t5))"
   ]
  },
  {
   "cell_type": "code",
   "execution_count": 97,
   "metadata": {},
   "outputs": [
    {
     "name": "stdout",
     "output_type": "stream",
     "text": [
      "2, 1\n"
     ]
    }
   ],
   "source": [
    "a,b = 1,2\n",
    "(c,(d,(e,f))) = (1,(2,(3,4)))\n",
    "c,d = d,c\n",
    "print(f\"{c}, {d}\")"
   ]
  },
  {
   "cell_type": "code",
   "execution_count": 101,
   "metadata": {},
   "outputs": [
    {
     "data": {
      "text/plain": [
       "'b'"
      ]
     },
     "execution_count": 101,
     "metadata": {},
     "output_type": "execute_result"
    }
   ],
   "source": [
    "t = (\"a\",\"b\",\"c\",\"d\",\"e\")\n",
    "t[1]"
   ]
  },
  {
   "cell_type": "code",
   "execution_count": 102,
   "metadata": {},
   "outputs": [
    {
     "ename": "TypeError",
     "evalue": "'tuple' object does not support item assignment",
     "output_type": "error",
     "traceback": [
      "\u001b[0;31m---------------------------------------------------------------------------\u001b[0m",
      "\u001b[0;31mTypeError\u001b[0m                                 Traceback (most recent call last)",
      "\u001b[1;32m/Users/changminlee/Documents/GitHub/playidea_python/lectures/22_1_IOT/practice1.ipynb Cell 23'\u001b[0m in \u001b[0;36m<cell line: 1>\u001b[0;34m()\u001b[0m\n\u001b[0;32m----> <a href='vscode-notebook-cell:/Users/changminlee/Documents/GitHub/playidea_python/lectures/22_1_IOT/practice1.ipynb#ch0000031?line=0'>1</a>\u001b[0m t[\u001b[39m1\u001b[39m] \u001b[39m=\u001b[39m \u001b[39m2\u001b[39m\n",
      "\u001b[0;31mTypeError\u001b[0m: 'tuple' object does not support item assignment"
     ]
    }
   ],
   "source": [
    "t[1] = 2"
   ]
  },
  {
   "cell_type": "code",
   "execution_count": 103,
   "metadata": {},
   "outputs": [
    {
     "data": {
      "text/plain": [
       "('a', 'b', 'c')"
      ]
     },
     "execution_count": 103,
     "metadata": {},
     "output_type": "execute_result"
    }
   ],
   "source": [
    "t[:3]"
   ]
  },
  {
   "cell_type": "code",
   "execution_count": 107,
   "metadata": {},
   "outputs": [
    {
     "data": {
      "text/plain": [
       "3"
      ]
     },
     "execution_count": 107,
     "metadata": {},
     "output_type": "execute_result"
    }
   ],
   "source": [
    "t=(1,2,(3,4),5,)\n",
    "t[2][0]"
   ]
  },
  {
   "cell_type": "code",
   "execution_count": 117,
   "metadata": {},
   "outputs": [
    {
     "name": "stdout",
     "output_type": "stream",
     "text": [
      "1\n"
     ]
    }
   ],
   "source": [
    "t=(1,)\n",
    "print(len(t))\n",
    "# (1,)인 튜플은 원소가 두 개 인건가요? "
   ]
  },
  {
   "cell_type": "code",
   "execution_count": 122,
   "metadata": {},
   "outputs": [
    {
     "name": "stdout",
     "output_type": "stream",
     "text": [
      "5\n"
     ]
    }
   ],
   "source": [
    "t = (1,(2,(3,(4,5))))\n",
    "print(t[1][1][1][1])"
   ]
  },
  {
   "cell_type": "code",
   "execution_count": null,
   "metadata": {},
   "outputs": [],
   "source": []
  }
 ],
 "metadata": {
  "interpreter": {
   "hash": "aee8b7b246df8f9039afb4144a1f6fd8d2ca17a180786b69acc140d282b71a49"
  },
  "kernelspec": {
   "display_name": "Python 3.9.6 64-bit",
   "language": "python",
   "name": "python3"
  },
  "language_info": {
   "codemirror_mode": {
    "name": "ipython",
    "version": 3
   },
   "file_extension": ".py",
   "mimetype": "text/x-python",
   "name": "python",
   "nbconvert_exporter": "python",
   "pygments_lexer": "ipython3",
   "version": "3.9.6"
  },
  "orig_nbformat": 4
 },
 "nbformat": 4,
 "nbformat_minor": 2
}
