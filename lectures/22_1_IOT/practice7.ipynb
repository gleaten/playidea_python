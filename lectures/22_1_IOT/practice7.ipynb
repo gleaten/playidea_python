{
 "cells": [
  {
   "cell_type": "code",
   "execution_count": 18,
   "metadata": {},
   "outputs": [
    {
     "name": "stdout",
     "output_type": "stream",
     "text": [
      "야옹-\n",
      "내 이름은 강아지입니다\n",
      "내 나이는 2입니다\n"
     ]
    }
   ],
   "source": [
    "class Cat:\n",
    "    \"\"\"고양이 클래스 \n",
    "    입력: \n",
    "     name: str 이름을 의미\n",
    "     age: int 나이를 의미 >0 \n",
    "    용례: \n",
    "     my_cat = Cat(\"나비\",3) \n",
    "    \"\"\"\n",
    "    def __init__(self, name, age, sound=\"야옹-\"):\n",
    "        self.name = name\n",
    "        self.age = age \n",
    "        self.sound = sound\n",
    "    \n",
    "    def bark(self):\n",
    "        print(self.sound)\n",
    "\n",
    "    def introduce_myself(self):\n",
    "        print(f\"내 이름은 {self.name}입니다\")\n",
    "        print(f\"내 나이는 {self.age}입니다\")\n",
    "    "
   ]
  },
  {
   "cell_type": "code",
   "execution_count": 20,
   "metadata": {},
   "outputs": [
    {
     "name": "stdout",
     "output_type": "stream",
     "text": [
      "웨옭\n",
      "내 이름은 나비입니다\n",
      "내 나이는 2입니다\n"
     ]
    }
   ],
   "source": [
    "my_cat = Cat(\"나비\",2,\"웨옭\")\n",
    "my_cat.bark()\n",
    "my_cat.introduce_myself()"
   ]
  },
  {
   "cell_type": "code",
   "execution_count": 22,
   "metadata": {},
   "outputs": [
    {
     "name": "stdout",
     "output_type": "stream",
     "text": [
      "옭옭옭\n",
      "내 이름은 창민입니다\n",
      "내 나이는 3입니다\n"
     ]
    }
   ],
   "source": [
    "my_cat2 = Cat(\"창민\",3,\"옭옭옭\")\n",
    "my_cat2.bark()\n",
    "my_cat2.introduce_myself()"
   ]
  },
  {
   "cell_type": "code",
   "execution_count": 23,
   "metadata": {},
   "outputs": [],
   "source": [
    "class Dog:\n",
    "    \"\"\"강아지 클래스 \n",
    "    입력: \n",
    "     name: str 이름을 의미\n",
    "     age: int 나이를 의미 >0 \n",
    "    용례: \n",
    "     my_dog = Dog(\"멍멍이\",3) \n",
    "    \"\"\"\n",
    "    def __init__(self, name, age, sound=\"멍멍-\"):\n",
    "        self.name = name\n",
    "        self.age = age \n",
    "        self.sound = sound\n",
    "    \n",
    "    def bark(self):\n",
    "        print(self.sound)\n",
    "\n",
    "    def introduce_myself(self):\n",
    "        print(f\"내 이름은 {self.name}입니다\")\n",
    "        print(f\"내 나이는 {self.age}입니다\")\n",
    "    "
   ]
  },
  {
   "cell_type": "code",
   "execution_count": 24,
   "metadata": {},
   "outputs": [],
   "source": [
    "my_dog = Dog(\"재훈이\",3)\n",
    "my_dog2 = Dog(\"상록이\",4)"
   ]
  },
  {
   "cell_type": "code",
   "execution_count": 26,
   "metadata": {},
   "outputs": [
    {
     "name": "stdout",
     "output_type": "stream",
     "text": [
      "멍멍-\n"
     ]
    }
   ],
   "source": [
    "my_dog.bark()"
   ]
  },
  {
   "cell_type": "code",
   "execution_count": 28,
   "metadata": {},
   "outputs": [
    {
     "data": {
      "text/plain": [
       "[1, 2, 2, 4, 5, 15]"
      ]
     },
     "execution_count": 28,
     "metadata": {},
     "output_type": "execute_result"
    }
   ],
   "source": []
  },
  {
   "cell_type": "code",
   "execution_count": 29,
   "metadata": {},
   "outputs": [
    {
     "name": "stdout",
     "output_type": "stream",
     "text": [
      "옭옭옭\n",
      "멍멍-\n"
     ]
    }
   ],
   "source": [
    "class Zoo:\n",
    "    def __init__(self,cat,dog):\n",
    "        self.cat = cat \n",
    "        self.dog = dog \n",
    "    \n",
    "    def barks(self):\n",
    "        self.cat.bark()\n",
    "        self.dog.bark() \n",
    "\n",
    "zoo = Zoo(my_cat2,my_dog2)\n",
    "zoo.barks()"
   ]
  },
  {
   "cell_type": "code",
   "execution_count": 53,
   "metadata": {},
   "outputs": [
    {
     "name": "stdout",
     "output_type": "stream",
     "text": [
      "100\n",
      "80\n"
     ]
    }
   ],
   "source": [
    "class Human:     \n",
    "    def __init__(self,name,job):\n",
    "        self.name = name\n",
    "        self.job = job \n",
    "        self.HP = 100 \n",
    "        self.weapon = None \n",
    "         \n",
    "    def introduce_myself(self):\n",
    "        print(self.name,self.job)\n",
    "        \n",
    "        \n",
    "class Monster(Human):\n",
    "    def __init__(self,name,weapon):\n",
    "        super().__init__(name,\"monster\")\n",
    "        self.weapon = weapon\n",
    "    \n",
    "    def attack(self,target): \n",
    "        target.HP -= self.weapon.damage\n",
    "\n",
    "class Weapon():\n",
    "    def __init__(self,name,damage): \n",
    "        self.name = name \n",
    "        self.damage = damage\n",
    "    def attack(self):\n",
    "        print(\"샤샤샥샤샥\")\n",
    "\n",
    "class Sword(Weapon): \n",
    "    def __init__(self,name, damage):\n",
    "        super().__init__(name,damage)\n",
    "    def attack(self):\n",
    "        print(\"서걱\")\n",
    "\n",
    "\n",
    "human = Human(\"혜미\",\"공대생\")\n",
    "print(human.HP)\n",
    "\n",
    "short_sword = Sword(\"숏소드\",20)\n",
    "monster = Monster(\"창민\",short_sword)\n",
    "monster.attack(human)\n",
    "print(human.HP)\n"
   ]
  },
  {
   "cell_type": "code",
   "execution_count": 51,
   "metadata": {},
   "outputs": [
    {
     "name": "stdout",
     "output_type": "stream",
     "text": [
      "6\n"
     ]
    }
   ],
   "source": [
    "human2 = Human(\"ㅎ\",\"ㄱ\")\n",
    "human3 = Human(\"ㅎ\",\"ㄱ\")\n",
    "human4 = Human(\"ㅎ\",\"ㄱ\")\n",
    "human5 = Human(\"ㅎ\",\"ㄱ\")\n",
    "\n",
    "print(Human.popul)"
   ]
  },
  {
   "cell_type": "code",
   "execution_count": 58,
   "metadata": {},
   "outputs": [],
   "source": [
    "class Class1:\n",
    "    class Class2: \n",
    "        def __init__(self):\n",
    "            print(\"class2\")\n",
    "            \n",
    "    def __init__(self):\n",
    "        print(\"class1\")\n",
    "        self.Class2()\n",
    "        "
   ]
  },
  {
   "cell_type": "code",
   "execution_count": 59,
   "metadata": {},
   "outputs": [
    {
     "name": "stdout",
     "output_type": "stream",
     "text": [
      "class1\n",
      "class2\n"
     ]
    }
   ],
   "source": [
    "cls2 = Class1()"
   ]
  },
  {
   "cell_type": "code",
   "execution_count": null,
   "metadata": {},
   "outputs": [],
   "source": []
  }
 ],
 "metadata": {
  "interpreter": {
   "hash": "aee8b7b246df8f9039afb4144a1f6fd8d2ca17a180786b69acc140d282b71a49"
  },
  "kernelspec": {
   "display_name": "Python 3.9.6 64-bit",
   "language": "python",
   "name": "python3"
  },
  "language_info": {
   "codemirror_mode": {
    "name": "ipython",
    "version": 3
   },
   "file_extension": ".py",
   "mimetype": "text/x-python",
   "name": "python",
   "nbconvert_exporter": "python",
   "pygments_lexer": "ipython3",
   "version": "3.9.6"
  },
  "orig_nbformat": 4
 },
 "nbformat": 4,
 "nbformat_minor": 2
}
