{
 "cells": [
  {
   "cell_type": "code",
   "execution_count": 18,
   "metadata": {},
   "outputs": [
    {
     "name": "stdout",
     "output_type": "stream",
     "text": [
      "야옹-\n",
      "내 이름은 강아지입니다\n",
      "내 나이는 2입니다\n"
     ]
    }
   ],
   "source": [
    "class Cat:\n",
    "    \"\"\"고양이 클래스 \n",
    "    입력: \n",
    "     name: str 이름을 의미\n",
    "     age: int 나이를 의미 >0 \n",
    "    용례: \n",
    "     my_cat = Cat(\"나비\",3) \n",
    "    \"\"\"\n",
    "    def __init__(self, name, age, sound=\"야옹-\"):\n",
    "        self.name = name\n",
    "        self.age = age \n",
    "        self.sound = sound\n",
    "    \n",
    "    def bark(self):\n",
    "        print(self.sound)\n",
    "\n",
    "    def introduce_myself(self):\n",
    "        print(f\"내 이름은 {self.name}입니다\")\n",
    "        print(f\"내 나이는 {self.age}입니다\")\n",
    "    "
   ]
  },
  {
   "cell_type": "code",
   "execution_count": 20,
   "metadata": {},
   "outputs": [
    {
     "name": "stdout",
     "output_type": "stream",
     "text": [
      "웨옭\n",
      "내 이름은 나비입니다\n",
      "내 나이는 2입니다\n"
     ]
    }
   ],
   "source": [
    "my_cat = Cat(\"나비\",2,\"웨옭\")\n",
    "my_cat.bark()\n",
    "my_cat.introduce_myself()"
   ]
  },
  {
   "cell_type": "code",
   "execution_count": 22,
   "metadata": {},
   "outputs": [
    {
     "name": "stdout",
     "output_type": "stream",
     "text": [
      "옭옭옭\n",
      "내 이름은 창민입니다\n",
      "내 나이는 3입니다\n"
     ]
    }
   ],
   "source": [
    "my_cat2 = Cat(\"창민\",3,\"옭옭옭\")\n",
    "my_cat2.bark()\n",
    "my_cat2.introduce_myself()"
   ]
  },
  {
   "cell_type": "code",
   "execution_count": 23,
   "metadata": {},
   "outputs": [],
   "source": [
    "class Dog:\n",
    "    \"\"\"강아지 클래스 \n",
    "    입력: \n",
    "     name: str 이름을 의미\n",
    "     age: int 나이를 의미 >0 \n",
    "    용례: \n",
    "     my_dog = Dog(\"멍멍이\",3) \n",
    "    \"\"\"\n",
    "    def __init__(self, name, age, sound=\"멍멍-\"):\n",
    "        self.name = name\n",
    "        self.age = age \n",
    "        self.sound = sound\n",
    "    \n",
    "    def bark(self):\n",
    "        print(self.sound)\n",
    "\n",
    "    def introduce_myself(self):\n",
    "        print(f\"내 이름은 {self.name}입니다\")\n",
    "        print(f\"내 나이는 {self.age}입니다\")\n",
    "    "
   ]
  },
  {
   "cell_type": "code",
   "execution_count": 24,
   "metadata": {},
   "outputs": [],
   "source": [
    "my_dog = Dog(\"재훈이\",3)\n",
    "my_dog2 = Dog(\"상록이\",4)"
   ]
  },
  {
   "cell_type": "code",
   "execution_count": 26,
   "metadata": {},
   "outputs": [
    {
     "name": "stdout",
     "output_type": "stream",
     "text": [
      "멍멍-\n"
     ]
    }
   ],
   "source": [
    "my_dog.bark()"
   ]
  },
  {
   "cell_type": "code",
   "execution_count": 28,
   "metadata": {},
   "outputs": [
    {
     "data": {
      "text/plain": [
       "[1, 2, 2, 4, 5, 15]"
      ]
     },
     "execution_count": 28,
     "metadata": {},
     "output_type": "execute_result"
    }
   ],
   "source": []
  },
  {
   "cell_type": "code",
   "execution_count": 29,
   "metadata": {},
   "outputs": [
    {
     "name": "stdout",
     "output_type": "stream",
     "text": [
      "옭옭옭\n",
      "멍멍-\n"
     ]
    }
   ],
   "source": [
    "class Zoo:\n",
    "    def __init__(self,cat,dog):\n",
    "        self.cat = cat \n",
    "        self.dog = dog \n",
    "    \n",
    "    def barks(self):\n",
    "        self.cat.bark()\n",
    "        self.dog.bark() \n",
    "\n",
    "zoo = Zoo(my_cat2,my_dog2)\n",
    "zoo.barks()"
   ]
  },
  {
   "cell_type": "code",
   "execution_count": 53,
   "metadata": {},
   "outputs": [
    {
     "name": "stdout",
     "output_type": "stream",
     "text": [
      "100\n",
      "80\n"
     ]
    }
   ],
   "source": [
    "class Human:     \n",
    "    def __init__(self,name,job):\n",
    "        self.name = name\n",
    "        self.job = job \n",
    "        self.HP = 100 \n",
    "        self.weapon = None \n",
    "         \n",
    "    def introduce_myself(self):\n",
    "        print(self.name,self.job)\n",
    "        \n",
    "        \n",
    "class Monster(Human):\n",
    "    def __init__(self,name,weapon):\n",
    "        super().__init__(name,\"monster\")\n",
    "        self.weapon = weapon\n",
    "    \n",
    "    def attack(self,target): \n",
    "        target.HP -= self.weapon.damage\n",
    "\n",
    "class Weapon():\n",
    "    def __init__(self,name,damage): \n",
    "        self.name = name \n",
    "        self.damage = damage\n",
    "    def attack(self):\n",
    "        print(\"샤샤샥샤샥\")\n",
    "\n",
    "class Sword(Weapon): \n",
    "    def __init__(self,name, damage):\n",
    "        super().__init__(name,damage)\n",
    "    def attack(self):\n",
    "        print(\"서걱\")\n",
    "\n",
    "\n",
    "human = Human(\"혜미\",\"공대생\")\n",
    "print(human.HP)\n",
    "\n",
    "short_sword = Sword(\"숏소드\",20)\n",
    "monster = Monster(\"창민\",short_sword)\n",
    "monster.attack(human)\n",
    "print(human.HP)\n"
   ]
  },
  {
   "cell_type": "code",
   "execution_count": 51,
   "metadata": {},
   "outputs": [
    {
     "name": "stdout",
     "output_type": "stream",
     "text": [
      "6\n"
     ]
    }
   ],
   "source": [
    "human2 = Human(\"ㅎ\",\"ㄱ\")\n",
    "human3 = Human(\"ㅎ\",\"ㄱ\")\n",
    "human4 = Human(\"ㅎ\",\"ㄱ\")\n",
    "human5 = Human(\"ㅎ\",\"ㄱ\")\n",
    "\n",
    "print(Human.popul)"
   ]
  },
  {
   "cell_type": "code",
   "execution_count": 58,
   "metadata": {},
   "outputs": [],
   "source": [
    "class Class1:\n",
    "    class Class2: \n",
    "        def __init__(self):\n",
    "            print(\"class2\")\n",
    "            \n",
    "    def __init__(self):\n",
    "        print(\"class1\")\n",
    "        self.Class2()\n",
    "        "
   ]
  },
  {
   "cell_type": "code",
   "execution_count": 59,
   "metadata": {},
   "outputs": [
    {
     "name": "stdout",
     "output_type": "stream",
     "text": [
      "class1\n",
      "class2\n"
     ]
    }
   ],
   "source": [
    "cls2 = Class1()"
   ]
  },
  {
   "cell_type": "code",
   "execution_count": 15,
   "metadata": {},
   "outputs": [],
   "source": [
    "class Bundle: \n",
    "    def __init__(self):\n",
    "        self.sensors = []\n",
    "    \n",
    "    def __add__(self,sensor):\n",
    "        return self.sensors.append(sensor)\n",
    "\n",
    "class Sensor: \n",
    "    def __init__(self,name):\n",
    "        self.name = name \n",
    "    \n",
    "    def pr(self):\n",
    "        print(self.name)\n",
    "    \n",
    "\n",
    "bundle = Bundle()\n",
    "sensor1 = Sensor(\"센서1\")\n",
    "sensor2 = Sensor(\"센서2\")"
   ]
  },
  {
   "cell_type": "code",
   "execution_count": 16,
   "metadata": {},
   "outputs": [],
   "source": [
    "bundle.__add__(sensor1)\n",
    "bundle.__add__(sensor2)"
   ]
  },
  {
   "cell_type": "code",
   "execution_count": 17,
   "metadata": {},
   "outputs": [
    {
     "data": {
      "text/plain": [
       "[<__main__.Sensor at 0x7fa5e87057c0>, <__main__.Sensor at 0x7fa5e87b4430>]"
      ]
     },
     "execution_count": 17,
     "metadata": {},
     "output_type": "execute_result"
    }
   ],
   "source": [
    "bundle.sensors"
   ]
  },
  {
   "cell_type": "code",
   "execution_count": 18,
   "metadata": {},
   "outputs": [
    {
     "name": "stdout",
     "output_type": "stream",
     "text": [
      "센서1\n"
     ]
    }
   ],
   "source": [
    "sensor3 = bundle.sensors[0]\n",
    "sensor3.pr()"
   ]
  },
  {
   "cell_type": "code",
   "execution_count": 19,
   "metadata": {},
   "outputs": [
    {
     "ename": "TypeError",
     "evalue": "unsupported operand type(s) for +=: 'NoneType' and 'Sensor'",
     "output_type": "error",
     "traceback": [
      "\u001b[0;31m---------------------------------------------------------------------------\u001b[0m",
      "\u001b[0;31mTypeError\u001b[0m                                 Traceback (most recent call last)",
      "\u001b[1;32m/Users/changminlee/Documents/GitHub/playidea_python/lectures/22_1_IOT/practice7.ipynb Cell 17'\u001b[0m in \u001b[0;36m<cell line: 2>\u001b[0;34m()\u001b[0m\n\u001b[1;32m      <a href='vscode-notebook-cell:/Users/changminlee/Documents/GitHub/playidea_python/lectures/22_1_IOT/practice7.ipynb#ch0000016?line=0'>1</a>\u001b[0m bundle \u001b[39m+\u001b[39m\u001b[39m=\u001b[39m sensor1\n\u001b[0;32m----> <a href='vscode-notebook-cell:/Users/changminlee/Documents/GitHub/playidea_python/lectures/22_1_IOT/practice7.ipynb#ch0000016?line=1'>2</a>\u001b[0m bundle \u001b[39m+\u001b[39m\u001b[39m=\u001b[39m sensor2\n",
      "\u001b[0;31mTypeError\u001b[0m: unsupported operand type(s) for +=: 'NoneType' and 'Sensor'"
     ]
    }
   ],
   "source": [
    "bundle += sensor1\n",
    "bundle += sensor2"
   ]
  },
  {
   "cell_type": "code",
   "execution_count": 20,
   "metadata": {},
   "outputs": [],
   "source": [
    "class Dog: \n",
    "    def __init__(self,name):\n",
    "        self.name = name\n",
    "        \n",
    "    def __add__(self,dog2):\n",
    "        return self.name + dog2.name \n",
    "        \n",
    "dog1 = Dog(\"창민\")\n",
    "dog2 = Dog(\"철수\")\n",
    "dog3 = dog1+dog2 "
   ]
  },
  {
   "cell_type": "code",
   "execution_count": 21,
   "metadata": {},
   "outputs": [
    {
     "data": {
      "text/plain": [
       "'창민철수'"
      ]
     },
     "execution_count": 21,
     "metadata": {},
     "output_type": "execute_result"
    }
   ],
   "source": [
    "dog3"
   ]
  },
  {
   "cell_type": "code",
   "execution_count": null,
   "metadata": {},
   "outputs": [],
   "source": []
  }
 ],
 "metadata": {
  "interpreter": {
   "hash": "aee8b7b246df8f9039afb4144a1f6fd8d2ca17a180786b69acc140d282b71a49"
  },
  "kernelspec": {
   "display_name": "Python 3.9.6 64-bit",
   "language": "python",
   "name": "python3"
  },
  "language_info": {
   "codemirror_mode": {
    "name": "ipython",
    "version": 3
   },
   "file_extension": ".py",
   "mimetype": "text/x-python",
   "name": "python",
   "nbconvert_exporter": "python",
   "pygments_lexer": "ipython3",
   "version": "3.9.6"
  },
  "orig_nbformat": 4
 },
 "nbformat": 4,
 "nbformat_minor": 2
}
