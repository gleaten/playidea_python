{
 "cells": [
  {
   "cell_type": "code",
   "execution_count": 18,
   "metadata": {},
   "outputs": [
    {
     "name": "stdout",
     "output_type": "stream",
     "text": [
      "야옹-\n",
      "내 이름은 강아지입니다\n",
      "내 나이는 2입니다\n"
     ]
    }
   ],
   "source": [
    "class Cat:\n",
    "    \"\"\"고양이 클래스 \n",
    "    입력: \n",
    "     name: str 이름을 의미\n",
    "     age: int 나이를 의미 >0 \n",
    "    용례: \n",
    "     my_cat = Cat(\"나비\",3) \n",
    "    \"\"\"\n",
    "    def __init__(self, name, age, sound=\"야옹-\"):\n",
    "        self.name = name\n",
    "        self.age = age \n",
    "        self.sound = sound\n",
    "    \n",
    "    def bark(self):\n",
    "        print(self.sound)\n",
    "\n",
    "    def introduce_myself(self):\n",
    "        print(f\"내 이름은 {self.name}입니다\")\n",
    "        print(f\"내 나이는 {self.age}입니다\")\n",
    "    "
   ]
  },
  {
   "cell_type": "code",
   "execution_count": 20,
   "metadata": {},
   "outputs": [
    {
     "name": "stdout",
     "output_type": "stream",
     "text": [
      "웨옭\n",
      "내 이름은 나비입니다\n",
      "내 나이는 2입니다\n"
     ]
    }
   ],
   "source": [
    "my_cat = Cat(\"나비\",2,\"웨옭\")\n",
    "my_cat.bark()\n",
    "my_cat.introduce_myself()"
   ]
  },
  {
   "cell_type": "code",
   "execution_count": 22,
   "metadata": {},
   "outputs": [
    {
     "name": "stdout",
     "output_type": "stream",
     "text": [
      "옭옭옭\n",
      "내 이름은 창민입니다\n",
      "내 나이는 3입니다\n"
     ]
    }
   ],
   "source": [
    "my_cat2 = Cat(\"창민\",3,\"옭옭옭\")\n",
    "my_cat2.bark()\n",
    "my_cat2.introduce_myself()"
   ]
  },
  {
   "cell_type": "code",
   "execution_count": 23,
   "metadata": {},
   "outputs": [],
   "source": [
    "class Dog:\n",
    "    \"\"\"강아지 클래스 \n",
    "    입력: \n",
    "     name: str 이름을 의미\n",
    "     age: int 나이를 의미 >0 \n",
    "    용례: \n",
    "     my_dog = Dog(\"멍멍이\",3) \n",
    "    \"\"\"\n",
    "    def __init__(self, name, age, sound=\"멍멍-\"):\n",
    "        self.name = name\n",
    "        self.age = age \n",
    "        self.sound = sound\n",
    "    \n",
    "    def bark(self):\n",
    "        print(self.sound)\n",
    "\n",
    "    def introduce_myself(self):\n",
    "        print(f\"내 이름은 {self.name}입니다\")\n",
    "        print(f\"내 나이는 {self.age}입니다\")\n",
    "    "
   ]
  },
  {
   "cell_type": "code",
   "execution_count": 24,
   "metadata": {},
   "outputs": [],
   "source": [
    "my_dog = Dog(\"재훈이\",3)\n",
    "my_dog2 = Dog(\"상록이\",4)"
   ]
  },
  {
   "cell_type": "code",
   "execution_count": 26,
   "metadata": {},
   "outputs": [
    {
     "name": "stdout",
     "output_type": "stream",
     "text": [
      "멍멍-\n"
     ]
    }
   ],
   "source": [
    "my_dog.bark()"
   ]
  },
  {
   "cell_type": "code",
   "execution_count": 28,
   "metadata": {},
   "outputs": [
    {
     "data": {
      "text/plain": [
       "[1, 2, 2, 4, 5, 15]"
      ]
     },
     "execution_count": 28,
     "metadata": {},
     "output_type": "execute_result"
    }
   ],
   "source": []
  },
  {
   "cell_type": "code",
   "execution_count": 29,
   "metadata": {},
   "outputs": [
    {
     "name": "stdout",
     "output_type": "stream",
     "text": [
      "옭옭옭\n",
      "멍멍-\n"
     ]
    }
   ],
   "source": [
    "class Zoo:\n",
    "    def __init__(self,cat,dog):\n",
    "        self.cat = cat \n",
    "        self.dog = dog \n",
    "    \n",
    "    def barks(self):\n",
    "        self.cat.bark()\n",
    "        self.dog.bark() \n",
    "\n",
    "zoo = Zoo(my_cat2,my_dog2)\n",
    "zoo.barks()"
   ]
  },
  {
   "cell_type": "code",
   "execution_count": 53,
   "metadata": {},
   "outputs": [
    {
     "name": "stdout",
     "output_type": "stream",
     "text": [
      "100\n",
      "80\n"
     ]
    }
   ],
   "source": [
    "class Human:     \n",
    "    def __init__(self,name,job):\n",
    "        self.name = name\n",
    "        self.job = job \n",
    "        self.HP = 100 \n",
    "        self.weapon = None \n",
    "         \n",
    "    def introduce_myself(self):\n",
    "        print(self.name,self.job)\n",
    "        \n",
    "        \n",
    "class Monster(Human):\n",
    "    def __init__(self,name,weapon):\n",
    "        super().__init__(name,\"monster\")\n",
    "        self.weapon = weapon\n",
    "    \n",
    "    def attack(self,target): \n",
    "        target.HP -= self.weapon.damage\n",
    "\n",
    "class Weapon():\n",
    "    def __init__(self,name,damage): \n",
    "        self.name = name \n",
    "        self.damage = damage\n",
    "    def attack(self):\n",
    "        print(\"샤샤샥샤샥\")\n",
    "\n",
    "class Sword(Weapon): \n",
    "    def __init__(self,name, damage):\n",
    "        super().__init__(name,damage)\n",
    "    def attack(self):\n",
    "        print(\"서걱\")\n",
    "\n",
    "\n",
    "human = Human(\"혜미\",\"공대생\")\n",
    "print(human.HP)\n",
    "\n",
    "short_sword = Sword(\"숏소드\",20)\n",
    "monster = Monster(\"창민\",short_sword)\n",
    "monster.attack(human)\n",
    "print(human.HP)\n"
   ]
  },
  {
   "cell_type": "code",
   "execution_count": 51,
   "metadata": {},
   "outputs": [
    {
     "name": "stdout",
     "output_type": "stream",
     "text": [
      "6\n"
     ]
    }
   ],
   "source": [
    "human2 = Human(\"ㅎ\",\"ㄱ\")\n",
    "human3 = Human(\"ㅎ\",\"ㄱ\")\n",
    "human4 = Human(\"ㅎ\",\"ㄱ\")\n",
    "human5 = Human(\"ㅎ\",\"ㄱ\")\n",
    "\n",
    "print(Human.popul)"
   ]
  },
  {
   "cell_type": "code",
   "execution_count": 58,
   "metadata": {},
   "outputs": [],
   "source": [
    "class Class1:\n",
    "    class Class2: \n",
    "        def __init__(self):\n",
    "            print(\"class2\")\n",
    "            \n",
    "    def __init__(self):\n",
    "        print(\"class1\")\n",
    "        self.Class2()\n",
    "        "
   ]
  },
  {
   "cell_type": "code",
   "execution_count": 59,
   "metadata": {},
   "outputs": [
    {
     "name": "stdout",
     "output_type": "stream",
     "text": [
      "class1\n",
      "class2\n"
     ]
    }
   ],
   "source": [
    "cls2 = Class1()"
   ]
  },
  {
   "cell_type": "code",
   "execution_count": 29,
   "metadata": {},
   "outputs": [],
   "source": [
    "class Bundle: \n",
    "    def __init__(self):\n",
    "        self.sensors = []\n",
    "    \n",
    "    def __add__(self,sensor):\n",
    "        self.sensors.append(sensor)\n",
    "        return self\n",
    "\n",
    "class Sensor: \n",
    "    def __init__(self,name):\n",
    "        self.name = name \n",
    "    \n",
    "    def pr(self):\n",
    "        print(self.name)\n",
    "    \n",
    "\n",
    "bundle = Bundle()\n",
    "sensor1 = Sensor(\"센서1\")\n",
    "sensor2 = Sensor(\"센서2\")"
   ]
  },
  {
   "cell_type": "code",
   "execution_count": 30,
   "metadata": {},
   "outputs": [
    {
     "data": {
      "text/plain": [
       "<__main__.Bundle at 0x7fa608317c40>"
      ]
     },
     "execution_count": 30,
     "metadata": {},
     "output_type": "execute_result"
    }
   ],
   "source": [
    "bundle.__add__(sensor1)\n",
    "bundle.__add__(sensor2)"
   ]
  },
  {
   "cell_type": "code",
   "execution_count": 33,
   "metadata": {},
   "outputs": [],
   "source": [
    "bundle += sensor1\n",
    "bundle += sensor2"
   ]
  },
  {
   "cell_type": "code",
   "execution_count": 37,
   "metadata": {},
   "outputs": [
    {
     "name": "stdout",
     "output_type": "stream",
     "text": [
      "센서1\n"
     ]
    }
   ],
   "source": [
    "sensor = bundle.sensors[0]\n",
    "sensor.pr()"
   ]
  },
  {
   "cell_type": "code",
   "execution_count": 20,
   "metadata": {},
   "outputs": [],
   "source": [
    "class Dog: \n",
    "    def __init__(self,name):\n",
    "        self.name = name\n",
    "        \n",
    "    def __add__(self,dog2):\n",
    "        return self.name + dog2.name \n",
    "        \n",
    "dog1 = Dog(\"창민\")\n",
    "dog2 = Dog(\"철수\")\n",
    "dog3 = dog1+dog2 "
   ]
  },
  {
   "cell_type": "code",
   "execution_count": 21,
   "metadata": {},
   "outputs": [
    {
     "data": {
      "text/plain": [
       "'창민철수'"
      ]
     },
     "execution_count": 21,
     "metadata": {},
     "output_type": "execute_result"
    }
   ],
   "source": [
    "dog3"
   ]
  },
  {
   "cell_type": "code",
   "execution_count": null,
   "metadata": {},
   "outputs": [],
   "source": [
    "def my_cat_meyaow(my_cat_sound):\n",
    "    print(my_cat_sound)\n",
    "    \n",
    "my_cat_name = \"냐옹이\"\n",
    "my_cat_age = 13\n",
    "my_cat_sound = \"냐우우우웅\"\n",
    "\n",
    "my_cat2_name = \"왜옹이\"\n",
    "my_cat2_age = 3\n",
    "my_cat2_sound = \"왜오오오옹\"\n",
    "\n",
    "my_cat3_name = \"냐옹\"\n",
    "my_cat3_age = 1\n",
    "my_cat3_sound = \"왥왥왥\"\n",
    "\n",
    "my_dog3_name = \"냐옹\"\n",
    "my_dog3_age = 1\n",
    "my_dog3_sound = \"왥왥왥\"\n"
   ]
  },
  {
   "cell_type": "code",
   "execution_count": null,
   "metadata": {},
   "outputs": [],
   "source": [
    "class Cat: \n",
    "    def __init__(self,name,age,sound):\n",
    "        self.name = name \n",
    "        self.age = age\n",
    "        self.sound = sound \n",
    "    \n",
    "    def meyaow(self):\n",
    "        print(self.sound)\n",
    "\n",
    "cat1 = Cat(\"냐옹이\",13,\"냐오오오옹\")"
   ]
  },
  {
   "cell_type": "code",
   "execution_count": 5,
   "metadata": {},
   "outputs": [
    {
     "name": "stdout",
     "output_type": "stream",
     "text": [
      "[1, '2', 2]\n"
     ]
    }
   ],
   "source": [
    "a_list = [1,\"2\"]\n",
    "# print(a_list.__add__([2]))\n",
    "# a_list + [2]\n",
    "# a_list = a_list + [2]\n",
    "# a_list += [2]\n",
    "# a_list.__iadd__([2])\n",
    "a_list.append(2)\n",
    "print(a_list)"
   ]
  },
  {
   "cell_type": "code",
   "execution_count": 6,
   "metadata": {},
   "outputs": [
    {
     "name": "stdout",
     "output_type": "stream",
     "text": [
      "Help on list object:\n",
      "\n",
      "class list(object)\n",
      " |  list(iterable=(), /)\n",
      " |  \n",
      " |  Built-in mutable sequence.\n",
      " |  \n",
      " |  If no argument is given, the constructor creates a new empty list.\n",
      " |  The argument must be an iterable if specified.\n",
      " |  \n",
      " |  Methods defined here:\n",
      " |  \n",
      " |  __add__(self, value, /)\n",
      " |      Return self+value.\n",
      " |  \n",
      " |  __contains__(self, key, /)\n",
      " |      Return key in self.\n",
      " |  \n",
      " |  __delitem__(self, key, /)\n",
      " |      Delete self[key].\n",
      " |  \n",
      " |  __eq__(self, value, /)\n",
      " |      Return self==value.\n",
      " |  \n",
      " |  __ge__(self, value, /)\n",
      " |      Return self>=value.\n",
      " |  \n",
      " |  __getattribute__(self, name, /)\n",
      " |      Return getattr(self, name).\n",
      " |  \n",
      " |  __getitem__(...)\n",
      " |      x.__getitem__(y) <==> x[y]\n",
      " |  \n",
      " |  __gt__(self, value, /)\n",
      " |      Return self>value.\n",
      " |  \n",
      " |  __iadd__(self, value, /)\n",
      " |      Implement self+=value.\n",
      " |  \n",
      " |  __imul__(self, value, /)\n",
      " |      Implement self*=value.\n",
      " |  \n",
      " |  __init__(self, /, *args, **kwargs)\n",
      " |      Initialize self.  See help(type(self)) for accurate signature.\n",
      " |  \n",
      " |  __iter__(self, /)\n",
      " |      Implement iter(self).\n",
      " |  \n",
      " |  __le__(self, value, /)\n",
      " |      Return self<=value.\n",
      " |  \n",
      " |  __len__(self, /)\n",
      " |      Return len(self).\n",
      " |  \n",
      " |  __lt__(self, value, /)\n",
      " |      Return self<value.\n",
      " |  \n",
      " |  __mul__(self, value, /)\n",
      " |      Return self*value.\n",
      " |  \n",
      " |  __ne__(self, value, /)\n",
      " |      Return self!=value.\n",
      " |  \n",
      " |  __repr__(self, /)\n",
      " |      Return repr(self).\n",
      " |  \n",
      " |  __reversed__(self, /)\n",
      " |      Return a reverse iterator over the list.\n",
      " |  \n",
      " |  __rmul__(self, value, /)\n",
      " |      Return value*self.\n",
      " |  \n",
      " |  __setitem__(self, key, value, /)\n",
      " |      Set self[key] to value.\n",
      " |  \n",
      " |  __sizeof__(self, /)\n",
      " |      Return the size of the list in memory, in bytes.\n",
      " |  \n",
      " |  append(self, object, /)\n",
      " |      Append object to the end of the list.\n",
      " |  \n",
      " |  clear(self, /)\n",
      " |      Remove all items from list.\n",
      " |  \n",
      " |  copy(self, /)\n",
      " |      Return a shallow copy of the list.\n",
      " |  \n",
      " |  count(self, value, /)\n",
      " |      Return number of occurrences of value.\n",
      " |  \n",
      " |  extend(self, iterable, /)\n",
      " |      Extend list by appending elements from the iterable.\n",
      " |  \n",
      " |  index(self, value, start=0, stop=9223372036854775807, /)\n",
      " |      Return first index of value.\n",
      " |      \n",
      " |      Raises ValueError if the value is not present.\n",
      " |  \n",
      " |  insert(self, index, object, /)\n",
      " |      Insert object before index.\n",
      " |  \n",
      " |  pop(self, index=-1, /)\n",
      " |      Remove and return item at index (default last).\n",
      " |      \n",
      " |      Raises IndexError if list is empty or index is out of range.\n",
      " |  \n",
      " |  remove(self, value, /)\n",
      " |      Remove first occurrence of value.\n",
      " |      \n",
      " |      Raises ValueError if the value is not present.\n",
      " |  \n",
      " |  reverse(self, /)\n",
      " |      Reverse *IN PLACE*.\n",
      " |  \n",
      " |  sort(self, /, *, key=None, reverse=False)\n",
      " |      Sort the list in ascending order and return None.\n",
      " |      \n",
      " |      The sort is in-place (i.e. the list itself is modified) and stable (i.e. the\n",
      " |      order of two equal elements is maintained).\n",
      " |      \n",
      " |      If a key function is given, apply it once to each list item and sort them,\n",
      " |      ascending or descending, according to their function values.\n",
      " |      \n",
      " |      The reverse flag can be set to sort in descending order.\n",
      " |  \n",
      " |  ----------------------------------------------------------------------\n",
      " |  Class methods defined here:\n",
      " |  \n",
      " |  __class_getitem__(...) from builtins.type\n",
      " |      See PEP 585\n",
      " |  \n",
      " |  ----------------------------------------------------------------------\n",
      " |  Static methods defined here:\n",
      " |  \n",
      " |  __new__(*args, **kwargs) from builtins.type\n",
      " |      Create and return a new object.  See help(type) for accurate signature.\n",
      " |  \n",
      " |  ----------------------------------------------------------------------\n",
      " |  Data and other attributes defined here:\n",
      " |  \n",
      " |  __hash__ = None\n",
      "\n"
     ]
    }
   ],
   "source": [
    "help(a_list)"
   ]
  },
  {
   "cell_type": "code",
   "execution_count": 23,
   "metadata": {},
   "outputs": [],
   "source": [
    "class Magician: \n",
    "    def __init__(self,name,mana):\n",
    "        self.name = name\n",
    "        self.mana = mana\n",
    "        self.hp = 100 \n",
    "    \n",
    "    def energy_ball(self,target):\n",
    "        print(f\"{self.name}(이)가 {target.name}에게 에너지볼!\")\n",
    "        print(f\"{self.mana}의 타격!\")\n",
    "        target.hp -= self.mana\n",
    "        print(f\"{target.name}의 남은 에너지... {target.hp}\")\n",
    "    \n",
    "    def print_status(self):\n",
    "        print(f\"이름: {self.name}, 마나:{self.mana}, 피:{self.hp}\")\n",
    "    \n",
    "        \n",
    "class FlameWizard(Magician):\n",
    "    def __init__(self,name,mana): \n",
    "        super().__init__(name,mana)\n",
    "        self.mana += 100 \n",
    "        self.hp += 1500 \n",
    "        \n",
    "    def fire_ball(self, target):\n",
    "        print(f\"{self.name}(이)가 {target.name}에게 파이어볼!\")\n",
    "        dmg = 1.3*self.mana\n",
    "        target.hp -= dmg\n",
    "        print(f\"{dmg}의 타격!\")\n",
    "        print(f\"{target.name}의 남은 에너지... {target.hp}\")"
   ]
  },
  {
   "cell_type": "code",
   "execution_count": 24,
   "metadata": {},
   "outputs": [
    {
     "name": "stdout",
     "output_type": "stream",
     "text": [
      "이름: 창민, 마나:110, 피:1600\n",
      "상록(이)가 창민에게 파이어볼!\n",
      "169.0의 타격!\n",
      "창민의 남은 에너지... 1431.0\n",
      "이름: 창민, 마나:110, 피:1431.0\n"
     ]
    }
   ],
   "source": [
    "m1 = FlameWizard(\"창민\",10)\n",
    "m1.print_status()\n",
    "m2 = FlameWizard(\"상록\",30)\n",
    "m2.fire_ball(m1)\n",
    "m1.print_status()"
   ]
  },
  {
   "cell_type": "code",
   "execution_count": 11,
   "metadata": {},
   "outputs": [
    {
     "name": "stdout",
     "output_type": "stream",
     "text": [
      "에너지볼!\n",
      "파이어볼!!\n"
     ]
    }
   ],
   "source": [
    "m1 = Magician()\n",
    "m1.energy_ball()\n",
    "m2 = FlameWizard()\n",
    "m2.fire_ball()"
   ]
  },
  {
   "cell_type": "code",
   "execution_count": 13,
   "metadata": {},
   "outputs": [
    {
     "name": "stdout",
     "output_type": "stream",
     "text": [
      "에너지볼!\n"
     ]
    },
    {
     "ename": "AttributeError",
     "evalue": "'Magician' object has no attribute 'fire_ball'",
     "output_type": "error",
     "traceback": [
      "\u001b[0;31m---------------------------------------------------------------------------\u001b[0m",
      "\u001b[0;31mAttributeError\u001b[0m                            Traceback (most recent call last)",
      "\u001b[1;32m/Users/changminlee/Documents/GitHub/playidea_python/lectures/22_1_IOT/practice7.ipynb Cell 25'\u001b[0m in \u001b[0;36m<cell line: 2>\u001b[0;34m()\u001b[0m\n\u001b[1;32m      <a href='vscode-notebook-cell:/Users/changminlee/Documents/GitHub/playidea_python/lectures/22_1_IOT/practice7.ipynb#ch0000024?line=0'>1</a>\u001b[0m m2\u001b[39m.\u001b[39menergy_ball()\n\u001b[0;32m----> <a href='vscode-notebook-cell:/Users/changminlee/Documents/GitHub/playidea_python/lectures/22_1_IOT/practice7.ipynb#ch0000024?line=1'>2</a>\u001b[0m m1\u001b[39m.\u001b[39;49mfire_ball()\n",
      "\u001b[0;31mAttributeError\u001b[0m: 'Magician' object has no attribute 'fire_ball'"
     ]
    }
   ],
   "source": [
    "m2.energy_ball()\n",
    "m1.fire_ball()"
   ]
  },
  {
   "cell_type": "code",
   "execution_count": 28,
   "metadata": {},
   "outputs": [
    {
     "name": "stdout",
     "output_type": "stream",
     "text": [
      "20\n",
      "10\n",
      "0\n",
      "-10\n"
     ]
    }
   ],
   "source": [
    "class MT:  \n",
    "    def __init__(self, n, soju=24, meat=20, ramen=5):\n",
    "        self.n = n # 사람 수 \n",
    "        self.soju = soju  # 병 수 \n",
    "        self.meat = meat #근 수\n",
    "        self.ramen = ramen\n",
    "    \n",
    "    def eat(self):\n",
    "        self.meat -= self.n \n",
    "\n",
    "    def drink(self):\n",
    "        # if self.soju > self.n:\n",
    "        self.soju -= self.n  # 두당 한병씩 \n",
    "        self.runaway(10)\n",
    "        \n",
    "        \n",
    "    def breakfast(self):\n",
    "        if self.ramen > self.n:\n",
    "            self.ramen -= self.n \n",
    "        else: \n",
    "            print(\"라면사와라\")\n",
    "        \n",
    "    def runaway(self, N):\n",
    "        self.n -= N\n",
    "        \n",
    "    def count(self):\n",
    "        print(self.n)\n",
    "\n",
    "mt = MT(20)\n",
    "mt.eat()    \n",
    "mt.count()\n",
    "mt.drink()\n",
    "mt.count()\n",
    "mt.drink()\n",
    "mt.count()\n",
    "mt.drink()\n",
    "mt.count()\n"
   ]
  },
  {
   "cell_type": "code",
   "execution_count": 29,
   "metadata": {},
   "outputs": [],
   "source": [
    "class YonseiMT(MT): \n",
    "    def akaraka(self): \n",
    "        self.n += 10 "
   ]
  },
  {
   "cell_type": "code",
   "execution_count": 33,
   "metadata": {},
   "outputs": [
    {
     "name": "stdout",
     "output_type": "stream",
     "text": [
      "20\n",
      "10\n",
      "20\n",
      "10\n",
      "20\n",
      "10\n",
      "0\n"
     ]
    }
   ],
   "source": [
    "mt = YonseiMT(20)\n",
    "mt.eat()    \n",
    "mt.count()\n",
    "mt.drink()\n",
    "mt.count()\n",
    "mt.akaraka()\n",
    "mt.count()\n",
    "mt.drink()\n",
    "mt.count()\n",
    "mt.akaraka()\n",
    "mt.count()\n",
    "mt.drink()\n",
    "mt.count()\n",
    "mt.drink()\n",
    "mt.count()\n",
    "mt.breakfast()"
   ]
  },
  {
   "cell_type": "code",
   "execution_count": 36,
   "metadata": {},
   "outputs": [
    {
     "name": "stdout",
     "output_type": "stream",
     "text": [
      "육사시미:: 참고소한 참깨소스 푹!\n"
     ]
    }
   ],
   "source": [
    "class Meat: \n",
    "    def __init__(self,name,gram): \n",
    "        self.name = name\n",
    "        self.gram = gram\n",
    "        \n",
    "    def cook(self):\n",
    "        print(\"지글지글\")\n",
    "        \n",
    "class Source: \n",
    "    def __init__(self,name):\n",
    "        self.name = name \n",
    "    \n",
    "    def 푹찍(self,target): \n",
    "        print(f\"{target.name}:: 푹!\")\n",
    "    \n",
    "class 참깨소스(Source): \n",
    "    def __init__(self):\n",
    "        super().__init__(\"참깨\")\n",
    "    \n",
    "    def 푹찍(self,target): \n",
    "        print(f\"{target.name}:: 참고소한 참깨소스 푹!\")\n",
    "    \n",
    "\n",
    "class 술상: \n",
    "    def __init__(self,meat,source): \n",
    "        self.meat = meat \n",
    "        self.source = source \n",
    "    \n",
    "    def how_to_eat(self):\n",
    "        self.source.푹찍(self.meat)\n",
    "        \n",
    "내고기 = Meat(\"육사시미\",400)\n",
    "소스 = 참깨소스()\n",
    "내술상 = 술상(내고기,소스)\n",
    "내술상.how_to_eat()"
   ]
  },
  {
   "cell_type": "code",
   "execution_count": null,
   "metadata": {},
   "outputs": [],
   "source": []
  }
 ],
 "metadata": {
  "interpreter": {
   "hash": "aee8b7b246df8f9039afb4144a1f6fd8d2ca17a180786b69acc140d282b71a49"
  },
  "kernelspec": {
   "display_name": "Python 3.9.6 64-bit",
   "language": "python",
   "name": "python3"
  },
  "language_info": {
   "codemirror_mode": {
    "name": "ipython",
    "version": 3
   },
   "file_extension": ".py",
   "mimetype": "text/x-python",
   "name": "python",
   "nbconvert_exporter": "python",
   "pygments_lexer": "ipython3",
   "version": "3.9.6"
  },
  "orig_nbformat": 4
 },
 "nbformat": 4,
 "nbformat_minor": 2
}
