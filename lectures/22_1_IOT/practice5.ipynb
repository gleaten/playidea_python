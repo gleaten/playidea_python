{
 "cells": [
  {
   "cell_type": "code",
   "execution_count": 1,
   "metadata": {},
   "outputs": [],
   "source": [
    "def str_spacer(input_str):\n",
    "    try: \n",
    "        output_str = \"\"\n",
    "        for char_ in input_str:\n",
    "            output_str += char_ + \" \"\n",
    "        return output_str[:-1]\n",
    "    except: \n",
    "        print(\"여기가 에러래, 나중에 꼭 고쳐\")\n",
    "        return 1"
   ]
  },
  {
   "cell_type": "code",
   "execution_count": 2,
   "metadata": {},
   "outputs": [
    {
     "name": "stdout",
     "output_type": "stream",
     "text": [
      "1 1 2 3 4 5\n"
     ]
    }
   ],
   "source": [
    "print(str_spacer(\"112345\"))\n"
   ]
  },
  {
   "cell_type": "code",
   "execution_count": 8,
   "metadata": {},
   "outputs": [],
   "source": [
    "def str_spacer2(input_str):\n",
    "    if isinstance(input_str,str):\n",
    "        output_str = \"\"\n",
    "        for char_ in input_str:\n",
    "            output_str += char_ + \" \"\n",
    "        return output_str[:-1]\n",
    "    else: \n",
    "        print(\"input type check: must be str\")\n",
    "        return None   "
   ]
  },
  {
   "cell_type": "code",
   "execution_count": 11,
   "metadata": {},
   "outputs": [
    {
     "name": "stdout",
     "output_type": "stream",
     "text": [
      "1 2 3 4\n"
     ]
    }
   ],
   "source": [
    "print(str_spacer2(\"1234\"))"
   ]
  },
  {
   "cell_type": "code",
   "execution_count": 16,
   "metadata": {},
   "outputs": [
    {
     "name": "stdout",
     "output_type": "stream",
     "text": [
      "Help on built-in function iter in module builtins:\n",
      "\n",
      "iter(...)\n",
      "    iter(iterable) -> iterator\n",
      "    iter(callable, sentinel) -> iterator\n",
      "    \n",
      "    Get an iterator from an object.  In the first form, the argument must\n",
      "    supply its own iterator, or be a sequence.\n",
      "    In the second form, the callable is called until it returns the sentinel.\n",
      "\n"
     ]
    }
   ],
   "source": [
    "help(iter)"
   ]
  },
  {
   "cell_type": "code",
   "execution_count": 21,
   "metadata": {},
   "outputs": [
    {
     "name": "stdout",
     "output_type": "stream",
     "text": [
      "1\n",
      "[2, 1]\n"
     ]
    }
   ],
   "source": [
    "def my_func(immutable_, mutable_):\n",
    "    immutable_ += 1\n",
    "    mutable_ += [1]\n",
    "    return immutable_, mutable_\n",
    "\n",
    "\n",
    "my_immutable = 1\n",
    "my_mutable = [2]    \n",
    "my_immutable,my_mutable = my_func(my_immutable, my_mutable)\n",
    "my_func(my_immutable, my_mutable)\n",
    "\n",
    "print(my_immutable)\n",
    "print(my_mutable)\n"
   ]
  },
  {
   "cell_type": "code",
   "execution_count": 32,
   "metadata": {},
   "outputs": [
    {
     "name": "stdout",
     "output_type": "stream",
     "text": [
      "100$ = 95808.0원\n",
      "95808.0\n"
     ]
    }
   ],
   "source": [
    "def dollar_to_won(dollar, tip, dwrate=1200, bank_ggulgguk=0.5):\n",
    "    my_won = dollar *dwrate*(1-bank_ggulgguk/100)\n",
    "    return f\"{dollar}$ = {my_won}원\", my_won\n",
    "\n",
    "str_, won_ = dollar_to_won(100, 10, 960, 0.2)\n",
    "str_, won_ = dollar_to_won(100, 10, dwrate=960, bank_ggulgguk=0.2)\n",
    "str_, won_ = dollar_to_won(100, 10, bank_ggulgguk=0.2, dwrate=960)\n",
    "# str_, won_ = dollar_to_won(100, dwrate=960, 0.2)\n",
    "\n",
    "print(str_)\n",
    "print(won_)"
   ]
  },
  {
   "cell_type": "code",
   "execution_count": 37,
   "metadata": {},
   "outputs": [
    {
     "name": "stdout",
     "output_type": "stream",
     "text": [
      "23\n"
     ]
    }
   ],
   "source": [
    "def my_func(a,b=20):\n",
    "    return a+b+2\n",
    "\n",
    "print(my_func(1))"
   ]
  },
  {
   "cell_type": "code",
   "execution_count": 39,
   "metadata": {},
   "outputs": [
    {
     "data": {
      "text/plain": [
       "5"
      ]
     },
     "execution_count": 39,
     "metadata": {},
     "output_type": "execute_result"
    }
   ],
   "source": [
    "\n",
    "def special_func(a,b,c):\n",
    "    return a*b+c\n",
    "\n",
    "special_func(1,2,3)"
   ]
  },
  {
   "cell_type": "code",
   "execution_count": 40,
   "metadata": {},
   "outputs": [
    {
     "data": {
      "text/plain": [
       "5"
      ]
     },
     "execution_count": 40,
     "metadata": {},
     "output_type": "execute_result"
    }
   ],
   "source": [
    "special_func2 = special_func \n",
    "special_func2(1,2,3) \n",
    "# list 가변객체"
   ]
  },
  {
   "cell_type": "code",
   "execution_count": 43,
   "metadata": {},
   "outputs": [
    {
     "name": "stdout",
     "output_type": "stream",
     "text": [
      "11\n",
      "11\n"
     ]
    }
   ],
   "source": [
    "def myfunc(a,b,d,c):\n",
    "    return c(a,b,d)\n",
    "\n",
    "print(myfunc(2,4,3,special_func2))\n",
    "print(special_func2(2,4,3))"
   ]
  },
  {
   "cell_type": "code",
   "execution_count": 45,
   "metadata": {},
   "outputs": [
    {
     "name": "stdout",
     "output_type": "stream",
     "text": [
      "<class 'function'>\n"
     ]
    }
   ],
   "source": [
    "print(type(special_func2))"
   ]
  },
  {
   "cell_type": "code",
   "execution_count": null,
   "metadata": {},
   "outputs": [],
   "source": []
  }
 ],
 "metadata": {
  "interpreter": {
   "hash": "aee8b7b246df8f9039afb4144a1f6fd8d2ca17a180786b69acc140d282b71a49"
  },
  "kernelspec": {
   "display_name": "Python 3.9.6 64-bit",
   "language": "python",
   "name": "python3"
  },
  "language_info": {
   "codemirror_mode": {
    "name": "ipython",
    "version": 3
   },
   "file_extension": ".py",
   "mimetype": "text/x-python",
   "name": "python",
   "nbconvert_exporter": "python",
   "pygments_lexer": "ipython3",
   "version": "3.9.6"
  },
  "orig_nbformat": 4
 },
 "nbformat": 4,
 "nbformat_minor": 2
}
