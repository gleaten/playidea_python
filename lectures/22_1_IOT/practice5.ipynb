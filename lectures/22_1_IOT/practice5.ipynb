{
 "cells": [
  {
   "cell_type": "code",
   "execution_count": null,
   "metadata": {},
   "outputs": [],
   "source": [
    "def str_spacer(input_str):\n",
    "    try: \n",
    "        output_str = \"\"\n",
    "        for char_ in input_str:\n",
    "            output_str += char_ + \" \"\n",
    "        return output_str[:-1]\n",
    "    except: \n",
    "        print(\"여기가 에러래, 나중에 꼭 고쳐\")\n",
    "        return 1"
   ]
  },
  {
   "cell_type": "code",
   "execution_count": null,
   "metadata": {},
   "outputs": [],
   "source": [
    "print(str_spacer(\"112345\"))\n"
   ]
  },
  {
   "cell_type": "code",
   "execution_count": null,
   "metadata": {},
   "outputs": [],
   "source": [
    "def str_spacer2(input_str):\n",
    "    if isinstance(input_str,str):\n",
    "        output_str = \"\"\n",
    "        for char_ in input_str:\n",
    "            output_str += char_ + \" \"\n",
    "        return output_str[:-1]\n",
    "    else: \n",
    "        print(\"input type check: must be str\")\n",
    "        return None   "
   ]
  },
  {
   "cell_type": "code",
   "execution_count": null,
   "metadata": {},
   "outputs": [],
   "source": [
    "print(str_spacer2(\"1234\"))"
   ]
  },
  {
   "cell_type": "code",
   "execution_count": null,
   "metadata": {},
   "outputs": [],
   "source": [
    "help(iter)"
   ]
  },
  {
   "cell_type": "code",
   "execution_count": null,
   "metadata": {},
   "outputs": [],
   "source": [
    "def my_func(immutable_, mutable_):\n",
    "    immutable_ += 1\n",
    "    mutable_ += [1]\n",
    "    return immutable_, mutable_\n",
    "\n",
    "\n",
    "my_immutable = 1\n",
    "my_mutable = [2]    \n",
    "my_immutable,my_mutable = my_func(my_immutable, my_mutable)\n",
    "my_func(my_immutable, my_mutable)\n",
    "\n",
    "print(my_immutable)\n",
    "print(my_mutable)\n"
   ]
  },
  {
   "cell_type": "code",
   "execution_count": null,
   "metadata": {},
   "outputs": [],
   "source": [
    "def dollar_to_won(dollar, tip, dwrate=1200, bank_ggulgguk=0.5):\n",
    "    my_won = dollar *dwrate*(1-bank_ggulgguk/100)\n",
    "    return f\"{dollar}$ = {my_won}원\", my_won\n",
    "\n",
    "str_, won_ = dollar_to_won(100, 10, 960, 0.2)\n",
    "str_, won_ = dollar_to_won(100, 10, dwrate=960, bank_ggulgguk=0.2)\n",
    "str_, won_ = dollar_to_won(100, 10, bank_ggulgguk=0.2, dwrate=960)\n",
    "# str_, won_ = dollar_to_won(100, dwrate=960, 0.2)\n",
    "\n",
    "print(str_)\n",
    "print(won_)"
   ]
  },
  {
   "cell_type": "code",
   "execution_count": null,
   "metadata": {},
   "outputs": [],
   "source": [
    "def my_func(a,b=20):\n",
    "    return a+b+2\n",
    "\n",
    "print(my_func(1))"
   ]
  },
  {
   "cell_type": "code",
   "execution_count": null,
   "metadata": {},
   "outputs": [],
   "source": [
    "\n",
    "def special_func(a,b,c):\n",
    "    return a*b+c\n",
    "\n",
    "special_func(1,2,3)"
   ]
  },
  {
   "cell_type": "code",
   "execution_count": null,
   "metadata": {},
   "outputs": [],
   "source": [
    "special_func2 = special_func \n",
    "special_func2(1,2,3) \n",
    "# list 가변객체"
   ]
  },
  {
   "cell_type": "code",
   "execution_count": null,
   "metadata": {},
   "outputs": [],
   "source": [
    "def myfunc(a,b,d,c):\n",
    "    return c(a,b,d)\n",
    "\n",
    "print(myfunc(2,4,3,special_func2))\n",
    "print(special_func2(2,4,3))"
   ]
  },
  {
   "cell_type": "code",
   "execution_count": null,
   "metadata": {},
   "outputs": [],
   "source": [
    "print(type(special_func2))"
   ]
  },
  {
   "cell_type": "code",
   "execution_count": null,
   "metadata": {},
   "outputs": [],
   "source": [
    "def my_func(str_):\n",
    "    print(\"hello \" + str_)\n",
    "    return None \n",
    "\n",
    "def say_ho(str_, func):\n",
    "    func(str_+\" ho!\")\n",
    "    return None\n",
    "    \n",
    "a = say_ho(\"CM\", my_func)\n",
    "# a = my_func(\"CM\")\n",
    "# b = my_func(\"HJ\")\n",
    "# print(type(my_func))\n",
    "# a = my_func \n",
    "# a(\"CM\")\n",
    "# b = a \n",
    "# b(\"CMCMCMMC\")\n",
    "\n",
    "# print(dir(a))"
   ]
  },
  {
   "cell_type": "code",
   "execution_count": null,
   "metadata": {},
   "outputs": [],
   "source": [
    "v = 10000\n",
    "\n",
    "def my_func(vvv):\n",
    "    print(vvv)\n",
    "    return None \n",
    "\n",
    "my_func(v)\n",
    "# print(bbbbb)"
   ]
  },
  {
   "cell_type": "code",
   "execution_count": null,
   "metadata": {},
   "outputs": [],
   "source": [
    "def my_func(): \n",
    "    global a \n",
    "    a += 10\n",
    "    print(a)\n",
    "    \n",
    "a = 10 \n",
    "my_func()"
   ]
  },
  {
   "cell_type": "code",
   "execution_count": null,
   "metadata": {},
   "outputs": [],
   "source": [
    "a,b,c,d,e,f = 1,2,3,4,5,6\n",
    "\n",
    "def my_func(a,b,c,d,e,f):\n",
    "    print(a,b,c,f)\n",
    "    return c,d,e\n",
    "\n",
    "my_func(a,b,c,d,e,f)"
   ]
  },
  {
   "cell_type": "code",
   "execution_count": null,
   "metadata": {},
   "outputs": [],
   "source": [
    "print(globals())"
   ]
  },
  {
   "cell_type": "code",
   "execution_count": 3,
   "metadata": {},
   "outputs": [
    {
     "data": {
      "text/plain": [
       "{'__name__': '__main__',\n",
       " '__doc__': 'Automatically created module for IPython interactive environment',\n",
       " '__package__': None,\n",
       " '__loader__': None,\n",
       " '__spec__': None,\n",
       " '__builtin__': <module 'builtins' (built-in)>,\n",
       " '__builtins__': <module 'builtins' (built-in)>,\n",
       " '_ih': ['',\n",
       "  \"def local_check(): \\n    a = 1\\n    b = 'CM'\\n    \\nprint(globals())\",\n",
       "  \"def local_check(): \\n    a = 1\\n    b = 'CM'\\n    \\nglobals()\",\n",
       "  \"def local_check(): \\n    a = 1\\n    b = 'CM'\\n    \\nglobals()\"],\n",
       " '_oh': {2: {...}},\n",
       " '_dh': [PosixPath('/Users/changminlee/Documents/GitHub/playidea_python/lectures/22_1_IOT')],\n",
       " 'In': ['',\n",
       "  \"def local_check(): \\n    a = 1\\n    b = 'CM'\\n    \\nprint(globals())\",\n",
       "  \"def local_check(): \\n    a = 1\\n    b = 'CM'\\n    \\nglobals()\",\n",
       "  \"def local_check(): \\n    a = 1\\n    b = 'CM'\\n    \\nglobals()\"],\n",
       " 'Out': {2: {...}},\n",
       " 'get_ipython': <bound method InteractiveShell.get_ipython of <ipykernel.zmqshell.ZMQInteractiveShell object at 0x7faa70419370>>,\n",
       " 'exit': <IPython.core.autocall.ZMQExitAutocall at 0x7faa704341c0>,\n",
       " 'quit': <IPython.core.autocall.ZMQExitAutocall at 0x7faa704341c0>,\n",
       " '_': {...},\n",
       " '__': '',\n",
       " '___': '',\n",
       " 'sys': <module 'sys' (built-in)>,\n",
       " 'site': <module 'site' from '/Library/Frameworks/Python.framework/Versions/3.9/lib/python3.9/site.py'>,\n",
       " 'os': <module 'os' from '/Library/Frameworks/Python.framework/Versions/3.9/lib/python3.9/os.py'>,\n",
       " '__vsc_ipynb_file__': '/Users/changminlee/Documents/GitHub/playidea_python/lectures/22_1_IOT/practice5.ipynb',\n",
       " '_i': \"def local_check(): \\n    a = 1\\n    b = 'CM'\\n    \\nglobals()\",\n",
       " '_ii': \"def local_check(): \\n    a = 1\\n    b = 'CM'\\n    \\nprint(globals())\",\n",
       " '_iii': '',\n",
       " '_i1': \"def local_check(): \\n    a = 1\\n    b = 'CM'\\n    \\nprint(globals())\",\n",
       " 'local_check': <function __main__.local_check()>,\n",
       " '_i2': \"def local_check(): \\n    a = 1\\n    b = 'CM'\\n    \\nglobals()\",\n",
       " '_2': {...},\n",
       " '_i3': \"def local_check(): \\n    a = 1\\n    b = 'CM'\\n    \\nglobals()\"}"
      ]
     },
     "execution_count": 3,
     "metadata": {},
     "output_type": "execute_result"
    }
   ],
   "source": [
    "def local_check(): \n",
    "    a = 1\n",
    "    b = 'CM'\n",
    "    \n",
    "globals()"
   ]
  },
  {
   "cell_type": "code",
   "execution_count": 7,
   "metadata": {},
   "outputs": [
    {
     "data": {
      "text/plain": [
       "[1, 2, 3, 4, 5]"
      ]
     },
     "execution_count": 7,
     "metadata": {},
     "output_type": "execute_result"
    }
   ],
   "source": [
    "a = [5,2,1,4,3]\n",
    "a.sort()\n",
    "a"
   ]
  },
  {
   "cell_type": "code",
   "execution_count": 13,
   "metadata": {},
   "outputs": [
    {
     "data": {
      "text/plain": [
       "['1', '2', '3', '4', '5']"
      ]
     },
     "execution_count": 13,
     "metadata": {},
     "output_type": "execute_result"
    }
   ],
   "source": [
    "a = [5,2,1,4,3]\n",
    "a = sorted(a)\n",
    "a"
   ]
  },
  {
   "cell_type": "code",
   "execution_count": 20,
   "metadata": {},
   "outputs": [
    {
     "data": {
      "text/plain": [
       "[2, 4, 6]"
      ]
     },
     "execution_count": 20,
     "metadata": {},
     "output_type": "execute_result"
    }
   ],
   "source": [
    "my_list = [-1,1,2,3,-4]\n",
    "\n",
    "def my_filter(x): return x>0\n",
    "\n",
    "# print(list(map(my_filter,my_list)))\n",
    "# print(list(filter(my_filter,my_list)))\n",
    "\n",
    "# d = []\n",
    "# for i in my_list: \n",
    "#     if my_filter(i):\n",
    "#         d += [i]        \n",
    "# print(d)\n",
    "\n",
    "# [2*x for x in my_list if my_filter(x)]"
   ]
  },
  {
   "cell_type": "code",
   "execution_count": null,
   "metadata": {},
   "outputs": [],
   "source": []
  }
 ],
 "metadata": {
  "interpreter": {
   "hash": "aee8b7b246df8f9039afb4144a1f6fd8d2ca17a180786b69acc140d282b71a49"
  },
  "kernelspec": {
   "display_name": "Python 3.9.6 64-bit",
   "language": "python",
   "name": "python3"
  },
  "language_info": {
   "codemirror_mode": {
    "name": "ipython",
    "version": 3
   },
   "file_extension": ".py",
   "mimetype": "text/x-python",
   "name": "python",
   "nbconvert_exporter": "python",
   "pygments_lexer": "ipython3",
   "version": "3.9.6"
  },
  "orig_nbformat": 4
 },
 "nbformat": 4,
 "nbformat_minor": 2
}
