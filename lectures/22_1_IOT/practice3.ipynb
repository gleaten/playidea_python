{
 "cells": [
  {
   "cell_type": "code",
   "execution_count": 2,
   "metadata": {},
   "outputs": [
    {
     "name": "stdout",
     "output_type": "stream",
     "text": [
      "3.2\n"
     ]
    }
   ],
   "source": [
    "\n",
    "# x = 1.1 # 1, 1.1, None, True, False\n",
    "x,y = 1,2.2 \n",
    "x,y = y,x\n",
    "print(x+y)\n"
   ]
  },
  {
   "cell_type": "code",
   "execution_count": 3,
   "metadata": {},
   "outputs": [
    {
     "name": "stdout",
     "output_type": "stream",
     "text": [
      "['__abs__', '__add__', '__bool__', '__ceil__', '__class__', '__delattr__', '__dir__', '__divmod__', '__doc__', '__eq__', '__float__', '__floor__', '__floordiv__', '__format__', '__ge__', '__getattribute__', '__getformat__', '__getnewargs__', '__gt__', '__hash__', '__init__', '__init_subclass__', '__int__', '__le__', '__lt__', '__mod__', '__mul__', '__ne__', '__neg__', '__new__', '__pos__', '__pow__', '__radd__', '__rdivmod__', '__reduce__', '__reduce_ex__', '__repr__', '__rfloordiv__', '__rmod__', '__rmul__', '__round__', '__rpow__', '__rsub__', '__rtruediv__', '__set_format__', '__setattr__', '__sizeof__', '__str__', '__sub__', '__subclasshook__', '__truediv__', '__trunc__', 'as_integer_ratio', 'conjugate', 'fromhex', 'hex', 'imag', 'is_integer', 'real']\n"
     ]
    }
   ],
   "source": [
    "print(dir(x))"
   ]
  },
  {
   "cell_type": "code",
   "execution_count": 13,
   "metadata": {},
   "outputs": [
    {
     "name": "stdout",
     "output_type": "stream",
     "text": [
      "STRATWETWTWET\n",
      "stratwetwtwet\n"
     ]
    }
   ],
   "source": [
    "x = \"stratwetwtwet\"\n",
    "# print(type(x))\n",
    "# x[1:10:2]\n",
    "# x[-1:-10:-2]\n",
    "y = x.upper()\n",
    "print(y)\n",
    "print(x)"
   ]
  },
  {
   "cell_type": "code",
   "execution_count": 18,
   "metadata": {},
   "outputs": [
    {
     "name": "stdout",
     "output_type": "stream",
     "text": [
      "(1, 2, 99, 1)\n"
     ]
    }
   ],
   "source": [
    "# x = (1,2,3,1,)\n",
    "# x[2] = 99\n",
    "# x = [1,2,3,1,]\n",
    "# x[2] = 99\n",
    "# x\n",
    "x = (1,2,3,1,)\n",
    "x = list(x)\n",
    "x[2] = 99 \n",
    "x = tuple(x)\n",
    "print(x)\n"
   ]
  },
  {
   "cell_type": "code",
   "execution_count": 29,
   "metadata": {},
   "outputs": [
    {
     "name": "stdout",
     "output_type": "stream",
     "text": [
      "STRATWETWTWET\n",
      "stratwetwtwet\n",
      "------------------------------\n",
      "None\n",
      "[1, 2, 4, 7, 9, 99]\n",
      "------------------------------\n",
      "[1, 2, 4, 7, 9, 99]\n",
      "(99, 1, 2, 4, 9, 7)\n"
     ]
    }
   ],
   "source": [
    "x = \"stratwetwtwet\"\n",
    "y = x.upper()\n",
    "print(y)\n",
    "print(x)\n",
    "\n",
    "print(\"-\"*30)\n",
    "\n",
    "x = [99,1,2,4,9,7]\n",
    "y = x.sort()\n",
    "print(y)\n",
    "print(x)\n",
    "\n",
    "print(\"-\"*30)\n",
    "x = (99,1,2,4,9,7)\n",
    "y = sorted(x)\n",
    "print(y)\n",
    "print(x)\n"
   ]
  },
  {
   "cell_type": "code",
   "execution_count": 43,
   "metadata": {},
   "outputs": [
    {
     "name": "stdout",
     "output_type": "stream",
     "text": [
      "[1, 2, 3, 4, [5, 6, 7]]\n",
      "5\n"
     ]
    }
   ],
   "source": [
    "x = [1,2,3,4]\n",
    "# x += [1,2,3]\n",
    "# x.extend((5,6,7))\n",
    "# x.append((5,6,7))\n",
    "x += [[5,6,7]]\n",
    "print(x)\n",
    "print(len(x))"
   ]
  },
  {
   "cell_type": "code",
   "execution_count": 45,
   "metadata": {},
   "outputs": [
    {
     "data": {
      "text/plain": [
       "{1, 31, 112}"
      ]
     },
     "execution_count": 45,
     "metadata": {},
     "output_type": "execute_result"
    }
   ],
   "source": [
    "x = {112,31,1,1,1,1,1,1,1,}\n",
    "# x = {\"cm\":35,\"hj\":32}\n",
    "x "
   ]
  },
  {
   "cell_type": "code",
   "execution_count": 53,
   "metadata": {},
   "outputs": [
    {
     "name": "stdout",
     "output_type": "stream",
     "text": [
      "{0, 1, 1.1, None, 'string', (1, 2, 3, 1)}\n"
     ]
    }
   ],
   "source": [
    "# x = {0, 1, 1.1, False, None, \"string\",(1,2,3,1),True}\n",
    "# print(x)"
   ]
  },
  {
   "cell_type": "code",
   "execution_count": 60,
   "metadata": {},
   "outputs": [
    {
     "name": "stdout",
     "output_type": "stream",
     "text": [
      "{False, True}\n"
     ]
    }
   ],
   "source": [
    "# 재미있는 예제: 단, -2나 tuple() 같은 것들은 true와 같다고 연산되지 않는다. 체크해보자\n",
    "x = {False, True, 0, 0.0, 0, 1, 1.0}\n",
    "print(x)"
   ]
  },
  {
   "cell_type": "code",
   "execution_count": 61,
   "metadata": {},
   "outputs": [
    {
     "name": "stdout",
     "output_type": "stream",
     "text": [
      "4\n"
     ]
    }
   ],
   "source": [
    "s = set('Hello')\n",
    "print(len(s))"
   ]
  },
  {
   "cell_type": "code",
   "execution_count": 62,
   "metadata": {},
   "outputs": [
    {
     "data": {
      "text/plain": [
       "dict"
      ]
     },
     "execution_count": 62,
     "metadata": {},
     "output_type": "execute_result"
    }
   ],
   "source": [
    "s = {} # set()\n",
    "type(s)"
   ]
  },
  {
   "cell_type": "code",
   "execution_count": 67,
   "metadata": {},
   "outputs": [
    {
     "data": {
      "text/plain": [
       "{1, 2, 5, 6, 7, 8}"
      ]
     },
     "execution_count": 67,
     "metadata": {},
     "output_type": "execute_result"
    }
   ],
   "source": [
    "{1,5,2,6} | {6,2,7,8}"
   ]
  },
  {
   "cell_type": "code",
   "execution_count": 69,
   "metadata": {},
   "outputs": [
    {
     "name": "stdout",
     "output_type": "stream",
     "text": [
      "{2, 6}\n"
     ]
    }
   ],
   "source": [
    "set1 = {1,2,3,6,8}\n",
    "set2 = {2,3,4,9,6}\n",
    "set3 = {1,2,5,4,6}\n",
    "print(set1 & set2 & set3)"
   ]
  },
  {
   "cell_type": "code",
   "execution_count": 71,
   "metadata": {},
   "outputs": [
    {
     "name": "stdout",
     "output_type": "stream",
     "text": [
      "True\n"
     ]
    }
   ],
   "source": [
    "# x=2\n",
    "# print(1<x<3)"
   ]
  },
  {
   "cell_type": "code",
   "execution_count": 75,
   "metadata": {},
   "outputs": [
    {
     "name": "stdout",
     "output_type": "stream",
     "text": [
      "{9, 3}\n"
     ]
    }
   ],
   "source": [
    "setA = {1,2,4,7}\n",
    "setB = {2,3,7,9}\n",
    "print(setB - setA)"
   ]
  },
  {
   "cell_type": "code",
   "execution_count": 87,
   "metadata": {},
   "outputs": [
    {
     "data": {
      "text/plain": [
       "{-99, 2, 5}"
      ]
     },
     "execution_count": 87,
     "metadata": {},
     "output_type": "execute_result"
    }
   ],
   "source": [
    "# setB[1]\n",
    "x = {1,5,3,2,-99}\n",
    "x - {3,1,}\n",
    "# 1 in x "
   ]
  },
  {
   "cell_type": "code",
   "execution_count": 76,
   "metadata": {},
   "outputs": [
    {
     "name": "stdout",
     "output_type": "stream",
     "text": [
      "{'혜미', '재훈'}\n"
     ]
    }
   ],
   "source": [
    "passA = {\"민영\",\"동윤\",\"혜미\",\"소정\",\"재훈\"}\n",
    "passB = {\"재훈\",\"지수\",\"민기\",\"혜미\"}\n",
    "print(passA & passB)"
   ]
  },
  {
   "cell_type": "code",
   "execution_count": 92,
   "metadata": {},
   "outputs": [
    {
     "name": "stdout",
     "output_type": "stream",
     "text": [
      "g\n"
     ]
    }
   ],
   "source": [
    "a = ('a', ('s','d'),('f','g','h'))\n",
    "print(a[-1][1])"
   ]
  },
  {
   "cell_type": "code",
   "execution_count": 116,
   "metadata": {},
   "outputs": [
    {
     "name": "stdout",
     "output_type": "stream",
     "text": [
      "[2, 4, 6, 7]\n"
     ]
    }
   ],
   "source": [
    "a = [4,6,2,7,4]\n",
    "# a.sort()\n",
    "# a = sorted(a)\n",
    "a = list(set(a))\n",
    "a"
   ]
  },
  {
   "cell_type": "code",
   "execution_count": 126,
   "metadata": {},
   "outputs": [
    {
     "name": "stdout",
     "output_type": "stream",
     "text": [
      "{40, 9, 49}\n"
     ]
    }
   ],
   "source": [
    "a = {9,40,49}\n",
    "print(a)"
   ]
  },
  {
   "cell_type": "code",
   "execution_count": 127,
   "metadata": {},
   "outputs": [
    {
     "data": {
      "text/plain": [
       "{9, 40, 49}"
      ]
     },
     "execution_count": 127,
     "metadata": {},
     "output_type": "execute_result"
    }
   ],
   "source": [
    "output = {40,9,49}\n",
    "output"
   ]
  },
  {
   "cell_type": "code",
   "execution_count": 115,
   "metadata": {},
   "outputs": [
    {
     "name": "stdout",
     "output_type": "stream",
     "text": [
      "['Hi', 'I', 'am', 'a', 'robot']\n"
     ]
    }
   ],
   "source": [
    "my_str = \"Hi-I-am-a-robot\"\n",
    "x = my_str.split(\"-\")\n",
    "print(x)"
   ]
  },
  {
   "cell_type": "code",
   "execution_count": 113,
   "metadata": {},
   "outputs": [
    {
     "name": "stdout",
     "output_type": "stream",
     "text": [
      "['I', 'want', 'to', 'sleep']\n",
      "['I', 'want', 'to', 'rest']\n"
     ]
    }
   ],
   "source": [
    "my_str = \"I want to sleep\"\n",
    "my_str_list = my_str.split()\n",
    "print(my_str_list)\n",
    "my_str_list[-1] = \"rest\"\n",
    "print(my_str_list)"
   ]
  },
  {
   "cell_type": "code",
   "execution_count": 135,
   "metadata": {},
   "outputs": [
    {
     "data": {
      "text/plain": [
       "{'철수': 30, '민수': 35, '영희': 25}"
      ]
     },
     "execution_count": 135,
     "metadata": {},
     "output_type": "execute_result"
    }
   ],
   "source": [
    "ages = [('철수',30),('민수',35),('영희',25)]\n",
    "# ages = [['철수',30],['민수',35],['영희',25]]\n",
    "mydict = dict(ages)\n",
    "mydict"
   ]
  },
  {
   "cell_type": "code",
   "execution_count": 136,
   "metadata": {},
   "outputs": [
    {
     "name": "stdout",
     "output_type": "stream",
     "text": [
      "a b "
     ]
    }
   ],
   "source": [
    "mydict = {\"a\":1, \"b\":2}\n",
    "for i in mydict: \n",
    "    print(i, end = \" \")"
   ]
  },
  {
   "cell_type": "code",
   "execution_count": 143,
   "metadata": {},
   "outputs": [
    {
     "name": "stdout",
     "output_type": "stream",
     "text": [
      "hello world  hello world\n",
      "\n",
      "hello world\n"
     ]
    }
   ],
   "source": [
    "print(\"hello world\", end=\"  \")\n",
    "print(\"hello world\", end=\"\\n\\n\")\n",
    "print(\"hello world\", end=\"\\n\")"
   ]
  },
  {
   "cell_type": "code",
   "execution_count": 148,
   "metadata": {},
   "outputs": [
    {
     "name": "stdout",
     "output_type": "stream",
     "text": [
      "{'떡볶이': 1000, '오뎅': 300, '로제떡볶이': 1000}\n"
     ]
    }
   ],
   "source": [
    "menuA = {\"떡볶이\":500, \"오뎅\":300}\n",
    "menuB = menuA\n",
    "menuA[\"로제떡볶이\"] = 1000\n",
    "menuA[\"떡볶이\"] = 1000\n",
    "print(menuB)"
   ]
  },
  {
   "cell_type": "code",
   "execution_count": 131,
   "metadata": {},
   "outputs": [
    {
     "name": "stdout",
     "output_type": "stream",
     "text": [
      "철수의 점수: 90점\n",
      "민수의 점수: 85점\n",
      "영희의 점수: 80점\n"
     ]
    }
   ],
   "source": [
    "scores = {\"철수\":90, \"민수\":85, \"영희\":80}\n",
    "for name, score in scores.items():\n",
    "    print(f\"{name}의 점수: {score}점\")"
   ]
  },
  {
   "cell_type": "code",
   "execution_count": 149,
   "metadata": {},
   "outputs": [
    {
     "data": {
      "text/plain": [
       "[2, 4, 7]"
      ]
     },
     "execution_count": 149,
     "metadata": {},
     "output_type": "execute_result"
    }
   ],
   "source": [
    "d = {4:'a', 2:'b', 7:'c'}\n",
    "sorted(d)\n"
   ]
  },
  {
   "cell_type": "code",
   "execution_count": 134,
   "metadata": {},
   "outputs": [],
   "source": [
    "x = 'I\\'m hungry'\n",
    "# x = \"I'm hungry\""
   ]
  },
  {
   "cell_type": "code",
   "execution_count": 152,
   "metadata": {},
   "outputs": [
    {
     "name": "stdout",
     "output_type": "stream",
     "text": [
      "[9999, 2, 3]\n",
      "[9999, 2, 3]\n"
     ]
    }
   ],
   "source": [
    "a = [1,2,3]\n",
    "b = a \n",
    "a[0] = 9999\n",
    "print(b)\n",
    "print(a)"
   ]
  },
  {
   "cell_type": "code",
   "execution_count": 154,
   "metadata": {},
   "outputs": [
    {
     "name": "stdout",
     "output_type": "stream",
     "text": [
      "[1, 2, 3]\n",
      "[9999, 2, 3]\n"
     ]
    }
   ],
   "source": [
    "a = [1,2,3]\n",
    "b = a.copy() \n",
    "a[0] = 9999\n",
    "print(b)\n",
    "print(a)"
   ]
  },
  {
   "cell_type": "code",
   "execution_count": 155,
   "metadata": {},
   "outputs": [
    {
     "name": "stdout",
     "output_type": "stream",
     "text": [
      "[[1, 7, 9999], 2, 3]\n",
      "[[1, 7, 9999], 2, 3]\n"
     ]
    }
   ],
   "source": [
    "a = [[1,7,8],2,3]\n",
    "b = a.copy() \n",
    "a[0][2] = 9999\n",
    "print(b)\n",
    "print(a)"
   ]
  },
  {
   "cell_type": "code",
   "execution_count": 156,
   "metadata": {},
   "outputs": [
    {
     "name": "stdout",
     "output_type": "stream",
     "text": [
      "[[1, 7, 8], 2, 3]\n",
      "[[1, 7, 9999], 2, 3]\n"
     ]
    }
   ],
   "source": [
    "import copy\n",
    "a = [[1,7,8],2,3]\n",
    "b = copy.deepcopy(a) \n",
    "a[0][2] = 9999\n",
    "print(b)\n",
    "print(a)"
   ]
  },
  {
   "cell_type": "code",
   "execution_count": null,
   "metadata": {},
   "outputs": [],
   "source": []
  }
 ],
 "metadata": {
  "interpreter": {
   "hash": "aee8b7b246df8f9039afb4144a1f6fd8d2ca17a180786b69acc140d282b71a49"
  },
  "kernelspec": {
   "display_name": "Python 3.9.6 64-bit",
   "language": "python",
   "name": "python3"
  },
  "language_info": {
   "codemirror_mode": {
    "name": "ipython",
    "version": 3
   },
   "file_extension": ".py",
   "mimetype": "text/x-python",
   "name": "python",
   "nbconvert_exporter": "python",
   "pygments_lexer": "ipython3",
   "version": "3.9.6"
  },
  "orig_nbformat": 4
 },
 "nbformat": 4,
 "nbformat_minor": 2
}
