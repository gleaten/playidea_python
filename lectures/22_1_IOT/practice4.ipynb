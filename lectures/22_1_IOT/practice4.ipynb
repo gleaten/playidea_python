{
 "cells": [
  {
   "cell_type": "code",
   "execution_count": null,
   "metadata": {},
   "outputs": [],
   "source": [
    "name = 'Bob'\n",
    "age = 30 \n",
    "\n",
    "if name == \"Alice\":\n",
    "    print(f\"hi, {name}\")\n",
    "    if age <12: \n",
    "        print(\"you are kiddo\")\n",
    "    else: \n",
    "        print(\"you are not kiddo\")\n",
    "else: \n",
    "    print(\"you are not Alice\")\n",
    "    \n",
    "    "
   ]
  },
  {
   "cell_type": "code",
   "execution_count": null,
   "metadata": {},
   "outputs": [],
   "source": [
    "x = 7 \n",
    "\n",
    "if x <= 10: \n",
    "    print(\"x는 10 이하입니다\")\n",
    "    \n",
    "    if x == 7: \n",
    "        print(\"x는 7입니다\")\n",
    "    elif x == 5:\n",
    "        print(\"x는 5입니다\")\n",
    "    else: \n",
    "        pass \n",
    "else: \n",
    "    pass\n",
    "    # print(\"x는 10보다 큽니다\")"
   ]
  },
  {
   "cell_type": "code",
   "execution_count": 7,
   "metadata": {},
   "outputs": [
    {
     "name": "stdout",
     "output_type": "stream",
     "text": [
      "1\n",
      "2\n",
      "3\n",
      "1\n"
     ]
    }
   ],
   "source": [
    "# seq = \"qweqweqwe\"\n",
    "seq = (1,2,3,1,)\n",
    "# seq = [1,2,(1,2,3,1,2,),4,[5,4]]\n",
    "# seq = {1,2,3,4,None} # key \n",
    "# seq = {\"1\":12,\"q\":23} # key만 \n",
    "\n",
    "for x in seq: \n",
    "    print(x)"
   ]
  },
  {
   "cell_type": "code",
   "execution_count": 11,
   "metadata": {},
   "outputs": [
    {
     "name": "stdout",
     "output_type": "stream",
     "text": [
      "2\n",
      "4\n",
      "6\n",
      "8\n"
     ]
    }
   ],
   "source": [
    "for i in range(2,10,2):  #[]\n",
    "    print(i)"
   ]
  },
  {
   "cell_type": "code",
   "execution_count": null,
   "metadata": {},
   "outputs": [],
   "source": []
  }
 ],
 "metadata": {
  "interpreter": {
   "hash": "aee8b7b246df8f9039afb4144a1f6fd8d2ca17a180786b69acc140d282b71a49"
  },
  "kernelspec": {
   "display_name": "Python 3.9.6 64-bit",
   "language": "python",
   "name": "python3"
  },
  "language_info": {
   "codemirror_mode": {
    "name": "ipython",
    "version": 3
   },
   "file_extension": ".py",
   "mimetype": "text/x-python",
   "name": "python",
   "nbconvert_exporter": "python",
   "pygments_lexer": "ipython3",
   "version": "3.9.6"
  },
  "orig_nbformat": 4
 },
 "nbformat": 4,
 "nbformat_minor": 2
}
