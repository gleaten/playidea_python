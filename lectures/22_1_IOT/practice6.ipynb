{
 "cells": [
  {
   "cell_type": "code",
   "execution_count": 1,
   "metadata": {},
   "outputs": [],
   "source": [
    "x = 1\n",
    "x = 1.4\n",
    "x = None \n",
    "x = True # False \n",
    "x = \"asdafaasf\"\n",
    "x = (1,2,3,1,1,)\n",
    "\n",
    "x = [1,2,3,1]\n",
    "x = {1,4,1,2,1,1,1}\n",
    "x = {\"1\":2}\n"
   ]
  },
  {
   "cell_type": "code",
   "execution_count": 4,
   "metadata": {},
   "outputs": [
    {
     "name": "stdout",
     "output_type": "stream",
     "text": [
      "1있다\n",
      "1\n",
      "2\n",
      "3\n",
      "1\n",
      "3\n",
      "1\n"
     ]
    }
   ],
   "source": [
    "x = [1,2,3,1]\n",
    "if 1 in x: \n",
    "    print(\"1있다\")\n",
    "    \n",
    "for i in x: \n",
    "    print(i)\n",
    "    if i>3:\n",
    "        break\n",
    "    \n",
    "ind = 0\n",
    "while True:\n",
    "    ind += 2\n",
    "    if ind < len(x):\n",
    "        print(x[ind])\n",
    "    else: \n",
    "        break\n",
    "    ind -= 1"
   ]
  },
  {
   "cell_type": "code",
   "execution_count": 12,
   "metadata": {},
   "outputs": [
    {
     "name": "stdout",
     "output_type": "stream",
     "text": [
      "화씨:100.0 -> 섭씨37.78\n"
     ]
    }
   ],
   "source": [
    "# def fa2ce(f):\n",
    "#     return (f-32)*5/9\n",
    "\n",
    "def deg_fa2ce(f):\n",
    "    \"\"\"화씨 -> 섭씨 \n",
    "    제작: 220411 이창민\n",
    "    Args:\n",
    "        f: (float) 화씨온도 값을 입력으로 받음\n",
    "\n",
    "    Returns:\n",
    "        c: (float) 섭씨로 전환한 float \n",
    "        \n",
    "    Examples: \n",
    "        ---\n",
    "    \"\"\"\n",
    "    # # type check \n",
    "    # if isinstance(f,int):\n",
    "    #     f = float(f)\n",
    "    \n",
    "    # if not isinstance(f,float):\n",
    "    #     print(\"입력이 float이 아님\")\n",
    "    #     return None\n",
    "    \n",
    "    # 변환 공식 \n",
    "    try:\n",
    "        c = (f-32)*5/9 \n",
    "        return c\n",
    "    except: \n",
    "        #TODO: 나중에 봐... 뭐 문제가 있겠지 \n",
    "        print(\"동작에 문제가 있음\")\n",
    "        return None \n",
    "\n",
    "def deg_ce2fa(c):\n",
    "    \"\"\"섭씨 -> 화씨\n",
    "    제작: 220412 이창민\n",
    "    Args:\n",
    "        c: (float) 섭씨온도 값을 입력으로 받음\n",
    "\n",
    "    Returns:\n",
    "        f: (float) 화씨로 전환한 float \n",
    "    \"\"\"\n",
    "    # 변환 공식 \n",
    "    f = c*9/5+32\n",
    "    return f\n",
    "\n",
    "x = 100.0\n",
    "print(f\"화씨:{x} -> 섭씨{deg_fa2ce(x):2.2f}\")"
   ]
  },
  {
   "cell_type": "code",
   "execution_count": 13,
   "metadata": {},
   "outputs": [
    {
     "name": "stdout",
     "output_type": "stream",
     "text": [
      "Help on function deg_fa2ce in module __main__:\n",
      "\n",
      "deg_fa2ce(f)\n",
      "    화씨 -> 섭씨 \n",
      "    제작: 220411 이창민\n",
      "    Args:\n",
      "        f: (float) 화씨온도 값을 입력으로 받음\n",
      "    \n",
      "    Returns:\n",
      "        c: (float) 섭씨로 전환한 float \n",
      "        \n",
      "    Examples: \n",
      "        ---\n",
      "\n"
     ]
    }
   ],
   "source": [
    "help(deg_fa2ce)"
   ]
  },
  {
   "cell_type": "code",
   "execution_count": 14,
   "metadata": {},
   "outputs": [
    {
     "name": "stdout",
     "output_type": "stream",
     "text": [
      "(1, 2, 3, 1, 2, 4)\n",
      "<class 'tuple'>\n"
     ]
    }
   ],
   "source": [
    "def my_star_func_test(*nums):\n",
    "    print(nums)\n",
    "    print(type(nums))\n",
    "\n",
    "my_star_func_test(1,2,3,1,2,4)"
   ]
  },
  {
   "cell_type": "code",
   "execution_count": 18,
   "metadata": {},
   "outputs": [
    {
     "name": "stdout",
     "output_type": "stream",
     "text": [
      "{'asd': '123', 'wegew': 123}\n",
      "<class 'dict'>\n"
     ]
    }
   ],
   "source": [
    "def my_double_star_func_test(**nums):\n",
    "    print(nums)\n",
    "    print(type(nums))\n",
    "\n",
    "my_double_star_func_test(asd=\"123\",wegew=123)"
   ]
  },
  {
   "cell_type": "code",
   "execution_count": 21,
   "metadata": {},
   "outputs": [
    {
     "name": "stdout",
     "output_type": "stream",
     "text": [
      "123\n"
     ]
    }
   ],
   "source": [
    "def my_double_star_func_test(**nums):\n",
    "    my_type = nums['type']\n",
    "    print(my_type)\n",
    "\n",
    "my_double_star_func_test(type=\"123\",wegew=123,qwtq=112,qegwe=23523)\n"
   ]
  },
  {
   "cell_type": "code",
   "execution_count": 22,
   "metadata": {},
   "outputs": [
    {
     "name": "stdout",
     "output_type": "stream",
     "text": [
      "mytype\n"
     ]
    }
   ],
   "source": [
    "def my_safe_test(type_=None,\n",
    "                 value=0,\n",
    "                 selw=213,\n",
    "                 va1=123,\n",
    "                 ab2=212):\n",
    "    my_type = type_\n",
    "    print(my_type)\n",
    "    \n",
    "my_safe_test(type_=\"mytype\")"
   ]
  },
  {
   "cell_type": "code",
   "execution_count": 30,
   "metadata": {},
   "outputs": [
    {
     "name": "stdout",
     "output_type": "stream",
     "text": [
      "10\n",
      "20\n"
     ]
    }
   ],
   "source": [
    "a = 20 \n",
    "\n",
    "def my_func():\n",
    "    global a \n",
    "    a = 10 \n",
    "    print(a)\n",
    "    \n",
    "my_func()\n",
    "print(a)"
   ]
  },
  {
   "cell_type": "code",
   "execution_count": 41,
   "metadata": {},
   "outputs": [
    {
     "name": "stdout",
     "output_type": "stream",
     "text": [
      "[[1, 8, 14, 27, 29, 34, 43], [13, 16, 21, 32, 35, 40, 43]]\n"
     ]
    }
   ],
   "source": [
    "import random\n",
    "\n",
    "def lotto_num_picker(num_games): \n",
    "    \"\"\"로또 번호 추첨기 \n",
    "\n",
    "    Args:\n",
    "        num_games (int):\n",
    "        게임 횟수\n",
    "\n",
    "    Returns:\n",
    "        numbers (list in list): \n",
    "        7자리 숫자 x num_games만큼 기록\n",
    "    \"\"\"\n",
    "    number_list = list(range(1,46))\n",
    "    i = 0 \n",
    "    numbers=[]\n",
    "    while i<num_games: \n",
    "        random.shuffle(number_list)\n",
    "        numbers += [sorted(number_list[:7])]\n",
    "        i += 1\n",
    "    return numbers\n",
    "\n",
    "print(lotto_num_picker(2))\n"
   ]
  },
  {
   "cell_type": "code",
   "execution_count": 42,
   "metadata": {},
   "outputs": [
    {
     "name": "stdout",
     "output_type": "stream",
     "text": [
      "Help on function lotto_num_picker in module __main__:\n",
      "\n",
      "lotto_num_picker(num_games)\n",
      "    로또 번호 추첨기 \n",
      "    \n",
      "    Args:\n",
      "        num_games (int):\n",
      "        게임 횟수\n",
      "    \n",
      "    Returns:\n",
      "        numbers (list in list): \n",
      "        7자리 숫자 x num_games만큼 기록\n",
      "\n"
     ]
    }
   ],
   "source": [
    "help(lotto_num_picker)"
   ]
  },
  {
   "cell_type": "code",
   "execution_count": 45,
   "metadata": {},
   "outputs": [],
   "source": [
    "# help(random)"
   ]
  },
  {
   "cell_type": "code",
   "execution_count": 47,
   "metadata": {},
   "outputs": [
    {
     "name": "stdout",
     "output_type": "stream",
     "text": [
      "noodle name is 짜파게티\n",
      "wait 4 seconds\n"
     ]
    },
    {
     "data": {
      "text/plain": [
       "'bonappetit!'"
      ]
     },
     "execution_count": 47,
     "metadata": {},
     "output_type": "execute_result"
    }
   ],
   "source": [
    "import time \n",
    "\n",
    "def hot_water_timer(my_noodle):\n",
    "    print(f\"noodle name is {my_noodle}\")\n",
    "    print(\"wait 4 seconds\")\n",
    "    time.sleep(5)\n",
    "    return \"bonappetit!\"\n",
    "\n",
    "hot_water_timer(\"짜파게티\")\n"
   ]
  },
  {
   "cell_type": "code",
   "execution_count": 48,
   "metadata": {},
   "outputs": [
    {
     "name": "stdout",
     "output_type": "stream",
     "text": [
      "3초 남았습니다.\n",
      "2초 남았습니다.\n",
      "1초 남았습니다.\n",
      "땡땡땡\n"
     ]
    }
   ],
   "source": [
    "import time\n",
    "def countdown(n):\n",
    "    for i in range(n,0,-1):\n",
    "        print(f\"{i}초 남았습니다.\")\n",
    "        time.sleep(1)\n",
    "    print(\"땡땡땡\")\n",
    "    \n",
    "countdown(3)"
   ]
  },
  {
   "cell_type": "code",
   "execution_count": 63,
   "metadata": {},
   "outputs": [
    {
     "name": "stdout",
     "output_type": "stream",
     "text": [
      "5\n",
      "4\n",
      "3\n",
      "2\n",
      "1\n",
      "120\n"
     ]
    }
   ],
   "source": [
    "def factorial(n):\n",
    "    print(n)\n",
    "    if n==1: \n",
    "        return 1\n",
    "    else: \n",
    "        return n*factorial(n-1) \n",
    "    #3*factorial(2)\n",
    "    #3*(2*factorial(1)))\n",
    "    #3*(2*(1))\n",
    "\n",
    "print(factorial(5))"
   ]
  },
  {
   "cell_type": "code",
   "execution_count": 57,
   "metadata": {},
   "outputs": [
    {
     "name": "stdout",
     "output_type": "stream",
     "text": [
      "10\n"
     ]
    }
   ],
   "source": [
    "def summation(n):\n",
    "    if n==0: \n",
    "        return 0\n",
    "    else: \n",
    "        return n+summation(n-1) \n",
    "\n",
    "print(summation(4))"
   ]
  },
  {
   "cell_type": "code",
   "execution_count": 70,
   "metadata": {},
   "outputs": [
    {
     "name": "stdout",
     "output_type": "stream",
     "text": [
      "P1 -> P2 : 1 번째 원반 이동\n",
      "P1 -> P3 : 2 번째 원반 이동\n",
      "P2 -> P3 : 1 번째 원반 이동\n",
      "P1 -> P2 : 3 번째 원반 이동\n",
      "P3 -> P1 : 1 번째 원반 이동\n",
      "P3 -> P2 : 2 번째 원반 이동\n",
      "P1 -> P2 : 1 번째 원반 이동\n",
      "P1 -> P3 : 4 번째 원반 이동\n",
      "P2 -> P3 : 1 번째 원반 이동\n",
      "P2 -> P1 : 2 번째 원반 이동\n",
      "P3 -> P1 : 1 번째 원반 이동\n",
      "P2 -> P3 : 3 번째 원반 이동\n",
      "P1 -> P2 : 1 번째 원반 이동\n",
      "P1 -> P3 : 2 번째 원반 이동\n",
      "P2 -> P3 : 1 번째 원반 이동\n"
     ]
    }
   ],
   "source": [
    "def hanoi(num, _from, _by, _to): \n",
    "    # 탈출조건 \n",
    "    if num == 1: \n",
    "        print(f\"{_from} -> {_to} : {num} 번째 원반 이동\")\n",
    "        return \n",
    "    \n",
    "    hanoi(num-1, _from, _to, _by)\n",
    "    print(f\"{_from} -> {_to} : {num} 번째 원반 이동\")\n",
    "    hanoi(num-1, _by, _from, _to)\n",
    "    \n",
    "\n",
    "numOfTray = 4\n",
    "hanoi(numOfTray, 'P1','P2','P3')\n",
    "    "
   ]
  },
  {
   "cell_type": "code",
   "execution_count": 71,
   "metadata": {},
   "outputs": [
    {
     "name": "stdout",
     "output_type": "stream",
     "text": [
      "1 1 2 3 5 8 13 21 34 55 "
     ]
    }
   ],
   "source": [
    "def fibo(n):\n",
    "    if n==0 or n==1: \n",
    "        return 1\n",
    "    return fibo(n-2) + fibo(n-1)\n",
    "\n",
    "def fibo_list(n):\n",
    "    for i in range(n):\n",
    "        print(fibo(i), end=\" \")\n",
    "\n",
    "fibo_list(10)"
   ]
  },
  {
   "cell_type": "code",
   "execution_count": null,
   "metadata": {},
   "outputs": [],
   "source": []
  }
 ],
 "metadata": {
  "interpreter": {
   "hash": "aee8b7b246df8f9039afb4144a1f6fd8d2ca17a180786b69acc140d282b71a49"
  },
  "kernelspec": {
   "display_name": "Python 3.9.6 64-bit",
   "language": "python",
   "name": "python3"
  },
  "language_info": {
   "codemirror_mode": {
    "name": "ipython",
    "version": 3
   },
   "file_extension": ".py",
   "mimetype": "text/x-python",
   "name": "python",
   "nbconvert_exporter": "python",
   "pygments_lexer": "ipython3",
   "version": "3.9.6"
  },
  "orig_nbformat": 4
 },
 "nbformat": 4,
 "nbformat_minor": 2
}
